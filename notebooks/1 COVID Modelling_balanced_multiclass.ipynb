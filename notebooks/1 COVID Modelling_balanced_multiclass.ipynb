{
 "cells": [
  {
   "cell_type": "code",
   "execution_count": 2,
   "id": "33930de0",
   "metadata": {},
   "outputs": [],
   "source": [
    "import pandas as pd\n",
    "import numpy as np\n",
    "\n",
    "import datetime\n",
    "import seaborn as sns\n",
    "import matplotlib.pyplot as plt\n",
    "from numpy import median\n",
    "from sklearn.utils import resample\n",
    "\n",
    "# ALGOS\n",
    "from sklearn import preprocessing\n",
    "from sklearn.model_selection import train_test_split\n",
    "from sklearn.linear_model import LogisticRegression\n",
    "from sklearn.tree import DecisionTreeClassifier\n",
    "from sklearn.neighbors import KNeighborsClassifier\n",
    "from sklearn.ensemble import RandomForestClassifier\n",
    "from sklearn.naive_bayes import GaussianNB\n",
    "from sklearn import svm\n",
    "\n",
    "\n",
    "from sklearn import metrics\n",
    "from sklearn.utils import resample\n",
    "from sklearn.model_selection import cross_val_score\n",
    "from sklearn.model_selection import GridSearchCV\n",
    "from sklearn.metrics import confusion_matrix\n",
    "from sklearn.metrics import jaccard_score\n",
    "from sklearn.metrics import mean_squared_log_error,mean_squared_error, r2_score, mean_absolute_error\n",
    "from sklearn.metrics import classification_report, confusion_matrix\n",
    "from sklearn.metrics import f1_score\n",
    "from sklearn.metrics import log_loss\n",
    "from sklearn.metrics import roc_auc_score, roc_curve, auc, precision_recall_curve\n",
    "\n",
    "\n",
    "\n",
    "import warnings\n",
    "\n",
    "warnings.filterwarnings('ignore')"
   ]
  },
  {
   "cell_type": "code",
   "execution_count": 3,
   "id": "e81ff2b1",
   "metadata": {},
   "outputs": [],
   "source": [
    "modelling_df = pd.read_csv('../data/sinave4.csv')"
   ]
  },
  {
   "cell_type": "code",
   "execution_count": 4,
   "id": "2e7df6da",
   "metadata": {},
   "outputs": [
    {
     "data": {
      "text/plain": [
       "(341990, 74)"
      ]
     },
     "execution_count": 4,
     "metadata": {},
     "output_type": "execute_result"
    }
   ],
   "source": [
    "modelling_df.shape"
   ]
  },
  {
   "cell_type": "code",
   "execution_count": 5,
   "id": "402efc86",
   "metadata": {},
   "outputs": [],
   "source": [
    "# modelling_df.info()"
   ]
  },
  {
   "cell_type": "code",
   "execution_count": 6,
   "id": "b2177a87",
   "metadata": {},
   "outputs": [
    {
     "data": {
      "text/plain": [
       "ACTIVOS LEVES     0.474917\n",
       "RECUPERADOS       0.451844\n",
       "FALLECIDOS        0.057241\n",
       "ACTIVOS GRAVES    0.015998\n",
       "Name: estado, dtype: float64"
      ]
     },
     "execution_count": 6,
     "metadata": {},
     "output_type": "execute_result"
    }
   ],
   "source": [
    "modelling_df['estado'].value_counts(normalize = True)"
   ]
  },
  {
   "cell_type": "code",
   "execution_count": null,
   "id": "e1253a73",
   "metadata": {},
   "outputs": [],
   "source": [
    "# modelling_df['estado'].value_counts()"
   ]
  },
  {
   "cell_type": "code",
   "execution_count": 8,
   "id": "14b33209",
   "metadata": {},
   "outputs": [
    {
     "data": {
      "image/png": "[encoded data removed]",
      "text/plain": [
       "<Figure size 720x432 with 1 Axes>"
      ]
     },
     "metadata": {
      "needs_background": "light"
     },
     "output_type": "display_data"
    }
   ],
   "source": [
    "ax = modelling_df['estado'].value_counts().plot(kind='bar', figsize=(10, 6), fontsize=13, color='#087E8B')\n",
    "ax.set_title('Estado', size=20, pad=30)\n",
    "ax.set_ylabel('Número de casos', fontsize=14)\n",
    "\n",
    "for i in ax.patches:\n",
    "    ax.text(i.get_x() + 0.10, i.get_height() + 700, str(round(i.get_height(), 2)), fontsize=15)"
   ]
  },
  {
   "cell_type": "code",
   "execution_count": null,
   "id": "dce863af",
   "metadata": {},
   "outputs": [],
   "source": [
    "sintomas_list = ['fiebre', 'tos','odinofagia','disnea','irritabilidad','diarrea','dolor_toracico','calofrios', 'cefalea','mialgias','artralgias','ataque_al_estado_general','rinorrea','polipnea','vomito','dolor_abdominal','conjuntivitis','cianosis']\n",
    "patologias_list = ['diabetes', 'epoc', 'asma', 'inmunosupresivo','hipertension', 'VIH_SIDA', 'otra_condicion', 'enfermedad_cardiaca','obesidad', 'insuficiencia_renal_cronica', 'tabaquismo']"
   ]
  },
  {
   "cell_type": "code",
   "execution_count": null,
   "id": "8421739e",
   "metadata": {},
   "outputs": [],
   "source": [
    "# Create new dataframe just with sympthoms\n",
    "# modelling_sintomas_corr = modelling_df2[['fiebre', 'tos','odinofagia','disnea','irritabilidad','diarrea','dolor_toracico','calofrios', 'cefalea','mialgias','artralgias','ataque_al_estado_general','rinorrea','polipnea','vomito','dolor_abdominal','conjuntivitis','cianosis']]"
   ]
  },
  {
   "cell_type": "code",
   "execution_count": null,
   "id": "f5d72efa",
   "metadata": {},
   "outputs": [],
   "source": [
    "# modelling_patologias_corr = modelling_df2[['diabetes', 'epoc', 'asma', 'inmunosupresivo','hipertension', 'VIH_SIDA', 'otra_condicion', 'enfermedad_cardiaca','obesidad', 'insuficiencia_renal_cronica', 'tabaquismo']]"
   ]
  },
  {
   "cell_type": "code",
   "execution_count": null,
   "id": "9e72fb1b",
   "metadata": {},
   "outputs": [],
   "source": [
    "modelling_df3 = modelling_df2.copy()"
   ]
  },
  {
   "cell_type": "code",
   "execution_count": null,
   "id": "993fc5fb",
   "metadata": {},
   "outputs": [],
   "source": [
    "# modelling_df3_2cat = modelling_df2.copy()"
   ]
  },
  {
   "cell_type": "code",
   "execution_count": null,
   "id": "0b9fc052",
   "metadata": {},
   "outputs": [],
   "source": [
    "# modelling_df3_2cat['estado'].replace(to_replace=['ACTIVOS LEVES', 'RECUPERADOS', 'FALLECIDOS', 'ACTIVOS GRAVES'],value=['RECUPERADOS','RECUPERADOS','FALLECIDOS','FALLECIDOS'],inplace=True)"
   ]
  },
  {
   "cell_type": "code",
   "execution_count": null,
   "id": "1b528f31",
   "metadata": {},
   "outputs": [],
   "source": [
    "# Convert to dummies\n",
    "modelling_df3.replace(to_replace=['ACTIVOS LEVES','ACTIVOS GRAVES', 'RECUPERADOS', 'FALLECIDOS'], \n",
    "                                     value=[0,1,2,3],inplace=True)"
   ]
  },
  {
   "cell_type": "code",
   "execution_count": null,
   "id": "f707f275",
   "metadata": {},
   "outputs": [],
   "source": [
    "# Convert to dummies\n",
    "# modelling_df3_2cat['estado'].replace(to_replace=['RECUPERADOS', 'FALLECIDOS'], \n",
    "#                                      value=[1,0],inplace=True)"
   ]
  },
  {
   "cell_type": "code",
   "execution_count": null,
   "id": "d3bdb235",
   "metadata": {},
   "outputs": [],
   "source": [
    "# modelling_df3_2cat.head()"
   ]
  },
  {
   "cell_type": "markdown",
   "id": "96bf7001",
   "metadata": {},
   "source": [
    "# CORRELATION MATRIX"
   ]
  },
  {
   "cell_type": "markdown",
   "id": "4a735628",
   "metadata": {},
   "source": [
    "## SINTOMAS"
   ]
  },
  {
   "cell_type": "code",
   "execution_count": null,
   "id": "a98d9c44",
   "metadata": {},
   "outputs": [],
   "source": [
    "# # Determinamos las correlaciones entre las variables\n",
    "\n",
    "# f, ax = plt.subplots(figsize=(12, 12))\n",
    "\n",
    "# #Generate correlation matrix\n",
    "# df_correlation = modelling_sintomas_corr.corr()\n",
    "\n",
    "# #Plot using seaborn library\n",
    "# sns.heatmap(df_correlation, annot = True, cmap='coolwarm',linewidths=.1)\n",
    "\n",
    "# # plt.savefig('Matriz de correlacion.png')"
   ]
  },
  {
   "cell_type": "markdown",
   "id": "c8410e22",
   "metadata": {},
   "source": [
    "## PATOLOGIAS"
   ]
  },
  {
   "cell_type": "code",
   "execution_count": null,
   "id": "07f643f3",
   "metadata": {},
   "outputs": [],
   "source": [
    "# # Determinamos las correlaciones entre las variables\n",
    "\n",
    "# f, ax = plt.subplots(figsize=(12, 12))\n",
    "\n",
    "# #Generate correlation matrix\n",
    "# df_correlation2 = modelling_patologias_corr.corr()\n",
    "\n",
    "# #Plot using seaborn library\n",
    "# sns.heatmap(df_correlation2, annot = True, cmap='coolwarm',linewidths=.1)\n",
    "\n",
    "# # plt.savefig('Matriz de correlacion.png')"
   ]
  },
  {
   "cell_type": "code",
   "execution_count": null,
   "id": "212a3971",
   "metadata": {},
   "outputs": [],
   "source": [
    "# # Create new datframe with sympthons & pathologies\n",
    "# modelling_patsin_corr = modelling_df2[['fiebre', 'tos','odinofagia','disnea','irritabilidad','diarrea','dolor_toracico','calofrios', 'cefalea','mialgias','artralgias','ataque_al_estado_general','rinorrea','polipnea','vomito','dolor_abdominal','conjuntivitis','cianosis','diabetes', 'epoc', 'asma', 'inmunosupresivo','hipertension', 'VIH_SIDA', 'otra_condicion', 'enfermedad_cardiaca','obesidad', 'insuficiencia_renal_cronica', 'tabaquismo']]"
   ]
  },
  {
   "cell_type": "code",
   "execution_count": null,
   "id": "ec893e9d",
   "metadata": {},
   "outputs": [],
   "source": [
    "# # Determinamos las correlaciones entre las variables\n",
    "\n",
    "# f, ax = plt.subplots(figsize=(25, 25))\n",
    "\n",
    "# #Generate correlation matrix\n",
    "# df_correlation3 = modelling_patsin_corr.corr()\n",
    "\n",
    "# #Plot using seaborn library\n",
    "# sns.heatmap(df_correlation3, annot = True, cmap='coolwarm',linewidths=.1)\n",
    "\n",
    "# # plt.savefig('Matriz de correlacion.png')"
   ]
  },
  {
   "cell_type": "code",
   "execution_count": null,
   "id": "b0667c3f",
   "metadata": {},
   "outputs": [],
   "source": [
    "features = ['fiebre', 'tos','odinofagia','disnea','irritabilidad','diarrea','dolor_toracico','calofrios', 'cefalea','mialgias','artralgias','ataque_al_estado_general','rinorrea','polipnea','vomito','dolor_abdominal','conjuntivitis','cianosis','diabetes', 'epoc', 'asma', 'inmunosupresivo','hipertension', 'VIH_SIDA', 'otra_condicion', 'enfermedad_cardiaca','obesidad', 'insuficiencia_renal_cronica', 'tabaquismo', 'diabetes', 'epoc', 'asma', 'inmunosupresivo',\n",
    "       'hipertension', 'VIH_SIDA', 'otra_condicion', 'enfermedad_cardiaca',\n",
    "       'obesidad', 'insuficiencia_renal_cronica', 'tabaquismo']"
   ]
  },
  {
   "cell_type": "markdown",
   "id": "19fc49dc",
   "metadata": {},
   "source": [
    "# BALANCED MULTICLASS "
   ]
  },
  {
   "cell_type": "markdown",
   "id": "471844aa",
   "metadata": {},
   "source": [
    "### SMOTE"
   ]
  },
  {
   "cell_type": "code",
   "execution_count": null,
   "id": "eca7f448",
   "metadata": {},
   "outputs": [],
   "source": [
    "X = modelling_df3[features].copy()\n",
    "y = modelling_df3['estado'].copy()"
   ]
  },
  {
   "cell_type": "code",
   "execution_count": null,
   "id": "f29b91b8",
   "metadata": {},
   "outputs": [],
   "source": [
    "ax = y.value_counts().plot(kind='bar', figsize=(10, 6), fontsize=13, color='#087E8B')\n",
    "ax.set_title('Estado (0 = ACTIVOS, 1 = fraud)', size=20, pad=30)\n",
    "ax.set_ylabel('Number of transactions', fontsize=14)\n",
    "\n",
    "for i in ax.patches:\n",
    "    ax.text(i.get_x() + 0.19, i.get_height() + 700, str(round(i.get_height(), 2)), fontsize=15)"
   ]
  },
  {
   "cell_type": "code",
   "execution_count": null,
   "id": "df64fed9",
   "metadata": {},
   "outputs": [],
   "source": [
    "X_train, X_test, y_train, y_test = train_test_split(X, y, test_size=0.2, random_state=42)\n",
    "print ('Train set:', X_train.shape,  y_train.shape)\n",
    "print ('Test set:', X_test.shape,  y_test.shape)"
   ]
  },
  {
   "cell_type": "code",
   "execution_count": null,
   "id": "727f0ccd",
   "metadata": {},
   "outputs": [],
   "source": [
    "# estandarizamos los datos\n",
    "\n",
    "ss = preprocessing.StandardScaler().fit(X_train.astype(np.float))\n",
    "X_train = ss.transform(X_train.astype(np.float))\n",
    "X_test = ss.transform(X_test.astype(np.float))"
   ]
  },
  {
   "cell_type": "markdown",
   "id": "9c92ef11",
   "metadata": {},
   "source": [
    "## Logistic Regression Classifier multiclass"
   ]
  },
  {
   "cell_type": "code",
   "execution_count": null,
   "id": "f12b1c7f",
   "metadata": {},
   "outputs": [],
   "source": [
    "# Confusion Matrix plotting function\n",
    "# https://towardsdatascience.com/multi-class-classification-extracting-performance-metrics-from-the-confusion-matrix-b379b427a872\n",
    "\n",
    "def plot_confusion_matrix(cm, classes,\n",
    "                          normalize=False,\n",
    "                          title='Confusion matrix',\n",
    "                          cmap=plt.cm.Blues):\n",
    "    if normalize:\n",
    "        cm = cm.astype('float') / cm.sum(axis=1)[:, np.newaxis]\n",
    "        print(\"Normalized confusion matrix\")\n",
    "    else:\n",
    "        print('Confusion matrix, without normalization')\n",
    "    plt.imshow(cm, interpolation='nearest', cmap=cmap)\n",
    "    plt.title(title)\n",
    "    plt.colorbar()\n",
    "    tick_marks = np.arange(len(classes))\n",
    "    plt.xticks(tick_marks, classes, rotation=90)\n",
    "    plt.yticks(tick_marks, classes)\n",
    "    fmt = '.2f' if normalize else 'd'\n",
    "    thresh = cm.max() / 2.\n",
    "    for i, j in itertools.product(range(cm.shape[0]), range(cm.shape[1])):\n",
    "        plt.text(j, i, format(cm[i, j], fmt),\n",
    "                 horizontalalignment=\"center\",\n",
    "                 color=\"white\" if cm[i, j] > thresh else \"black\")\n",
    "    plt.tight_layout()\n",
    "    plt.ylabel('True label')\n",
    "    plt.xlabel('Predicted label')\n",
    "    \n"
   ]
  },
  {
   "cell_type": "code",
   "execution_count": null,
   "id": "12bb64e1",
   "metadata": {},
   "outputs": [],
   "source": [
    "# Encuentra los mejores hiperparámetros para logistic regression classifier\n",
    "#Logistic Regression soporta solo solvers en ['liblinear', 'newton-cg'<-93.44, 'lbfgs'<-91.8, 'sag'<-72.13, 'saga'<-72.13]\n",
    "\n",
    "solvers = ['newton-cg', 'lbfgs', 'sag', 'saga']\n",
    "cs = [0.0001, 0.001, 0.01, 0.1, 1, 10, 100]\n",
    "results_df = pd.DataFrame(index=cs)\n",
    "results_df.index.name='C'\n",
    "for s in solvers:\n",
    "    results = []\n",
    "    for c in cs:\n",
    "        LR = LogisticRegression(C=c, solver=s, max_iter=4000, random_state=42).fit(X_train,y_train)\n",
    "        y_pred = LR.predict(X_test)\n",
    "        mse = mean_squared_error(y_test, y_pred)\n",
    "        rmse_lr = mean_squared_error(y_test, y_pred)**0.5\n",
    "        results.append(rmse_lr)\n",
    "    results_df[s] = results\n",
    "results_df"
   ]
  },
  {
   "cell_type": "code",
   "execution_count": null,
   "id": "04e46281",
   "metadata": {},
   "outputs": [],
   "source": [
    "import itertools\n",
    "\n",
    "\n",
    "# Ejecutamos logistic regression classifier y mostramos resultados\n",
    "\n",
    "LR = LogisticRegression(C=0.0001, solver='newton-cg', random_state=42).fit(X_train,y_train)\n",
    "y_pred = LR.predict(X_test)\n",
    "y_pred_train = LR.predict(X_train)\n",
    "\n",
    "\n",
    "LR_RMSE = mean_squared_error(y_test, y_pred)**0.5\n",
    "LR_RMSE_train = mean_squared_error(y_train, y_pred_train)**0.5\n",
    "\n",
    "LR_f_score = f1_score(y_test, y_pred, average='micro')\n",
    "LR_f_score_train = f1_score(y_train, y_pred_train, average='micro')\n",
    "\n",
    "LR_class_report = classification_report(y_test, y_pred)\n",
    "LR_class_report_train = classification_report(y_train, y_pred_train)\n",
    "\n",
    "LR_dict = classification_report(y_test, yhat, output_dict=True)\n",
    "# Compute confusion matrix\n",
    "cnf_matrix = confusion_matrix(y_test, y_pred, labels=[0,1,2,3])\n",
    "np.set_printoptions(precision=2)\n",
    "# Plot non-normalized confusion matrix\n",
    "plt.figure()\n",
    "plot_confusion_matrix(cnf_matrix, classes=['ACTIVOS LEVES','ACTIVOS GRAVES','RECUPERADOS', 'FALLECIDOS'],normalize=False,  title='LR Confusion matrix')"
   ]
  },
  {
   "cell_type": "code",
   "execution_count": null,
   "id": "fe858cfd",
   "metadata": {},
   "outputs": [],
   "source": [
    "\n",
    "print('Logistic Regression train RMSE:', round(LR_RMSE_train, 4))\n",
    "print('Logistic Regression test RMSE:', round(LR_RMSE, 4))\n",
    "\n",
    "print('\\nLogistic Regression TRAIN classification report:\\n\\n', LR_class_report_train)\n",
    "print('Logistic Regression TEST classification report:\\n\\n', LR_class_report)"
   ]
  },
  {
   "cell_type": "markdown",
   "id": "aca3be14",
   "metadata": {},
   "source": [
    "## Decision Tree Classifier"
   ]
  },
  {
   "cell_type": "code",
   "execution_count": null,
   "id": "2c41ae98",
   "metadata": {},
   "outputs": [],
   "source": [
    "# Encuentra los mejores hiperparámetros para el decision tree classifier\n",
    "\n",
    "#Usamos Cross Validation para encontrar la profundidad que de la precisión óptima\n",
    "\n",
    "depth = 20 #20\n",
    "mean_sqe = np.zeros((depth-1))\n",
    "for n in range(1,depth): \n",
    "    DT = DecisionTreeClassifier(criterion=\"entropy\", max_depth = n, random_state=42).fit(X_train,y_train)\n",
    "    y_pred=DT.predict(X_test)\n",
    "    \n",
    "    mean_sqe[n-1] = mean_squared_error(y_test, y_pred)**0.5\n",
    "plt.plot(range(1,depth),mean_sqe,'g')\n",
    "plt.ylabel('RMSE')\n",
    "plt.xlabel('Depth')\n",
    "plt.show()\n",
    "print(\"The best RMSE is\", round(mean_sqe.min(), 4), \"with depth=\", mean_sqe.argmin()+1)"
   ]
  },
  {
   "cell_type": "code",
   "execution_count": null,
   "id": "afbe20f4",
   "metadata": {},
   "outputs": [],
   "source": [
    "DT = DecisionTreeClassifier(criterion=\"entropy\", max_depth = 5, random_state=42).fit(X_train, y_train)\n",
    "y_pred = LR.predict(X_test)\n",
    "y_pred_train = LR.predict(X_train)\n",
    "\n",
    "\n",
    "LR_RMSE = mean_squared_error(y_test, y_pred)**0.5\n",
    "LR_RMSE_train = mean_squared_error(y_train, y_pred_train)**0.5\n",
    "\n",
    "LR_f_score = f1_score(y_test, y_pred, average='micro')\n",
    "LR_f_score_train = f1_score(y_train, y_pred_train, average='micro')\n",
    "\n",
    "LR_class_report = classification_report(y_test, y_pred)\n",
    "LR_class_report_train = classification_report(y_train, y_pred_train)\n",
    "\n",
    "LR_dict = classification_report(y_test, yhat, output_dict=True)\n",
    "# Compute confusion matrix\n",
    "cnf_matrix = confusion_matrix(y_test, y_pred, labels=[0,1,2,3])\n",
    "np.set_printoptions(precision=2)\n",
    "# Plot non-normalized confusion matrix\n",
    "plt.figure()\n",
    "plot_confusion_matrix(cnf_matrix, classes=['ACTIVOS LEVES','ACTIVOS GRAVES','RECUPERADOS', 'FALLECIDOS'],normalize=False,  title='LR Confusion matrix')"
   ]
  },
  {
   "cell_type": "code",
   "execution_count": null,
   "id": "2a9cc0f4",
   "metadata": {},
   "outputs": [],
   "source": [
    "\n",
    "print('Logistic Regression train RMSE:', round(LR_RMSE_train, 4))\n",
    "print('Logistic Regression test RMSE:', round(LR_RMSE, 4))\n",
    "\n",
    "print('\\nLogistic Regression TRAIN classification report:\\n\\n', LR_class_report_train)\n",
    "print('Logistic Regression TEST classification report:\\n\\n', LR_class_report)"
   ]
  },
  {
   "cell_type": "code",
   "execution_count": null,
   "id": "b2a30aea",
   "metadata": {},
   "outputs": [],
   "source": [
    "# import graphviz\n",
    "# import numpy as np\n",
    "# from sklearn.tree import DecisionTreeClassifier\n",
    "# from sklearn import tree\n",
    "# from sklearn.model_selection import train_test_split\n",
    "# from pandas import DataFrame, Series\n",
    "# from IPython.display import Image \n",
    "# from io import StringIO\n",
    "# import pydotplus\n",
    "# from sklearn import preprocessing\n",
    "# from sklearn.tree import export_graphviz"
   ]
  },
  {
   "cell_type": "code",
   "execution_count": null,
   "id": "2ddb568f",
   "metadata": {},
   "outputs": [],
   "source": [
    "# DecsTree = DecisionTreeClassifier(criterion='entropy', max_depth=7)\n",
    "# DecsTree.fit(X,y)\n",
    "# dot_data = StringIO()\n",
    "# fn=['sexo','diabetes', 'epoc', 'asma', 'inmunosupresivo','hipertension', 'vihsida', 'otra_condicion', 'enfermedad_cardiaca','obesidad', 'insuficiencia_renal_cronica', 'tabaquismo','edad']\n",
    "# cn=['Fallecidos','Recuperados']\n",
    "\n",
    "\n",
    "# export_graphviz(DecsTree, out_file=dot_data,\n",
    "#                 filled=True, rounded=True,\n",
    "#                 special_characters=True, feature_names = fn, class_names=cn)\n",
    "        \n",
    "# graph = pydotplus.graph_from_dot_data(dot_data.getvalue())\n",
    "# graph.set_size('\"300,180!\"')\n",
    "# graph.write_png('Decision Tree graph.jpg')\n",
    "# Image(graph.create_png())"
   ]
  },
  {
   "cell_type": "markdown",
   "id": "0069529b",
   "metadata": {},
   "source": [
    "## Random Forest Classifier"
   ]
  },
  {
   "cell_type": "code",
   "execution_count": null,
   "id": "5757af1d",
   "metadata": {},
   "outputs": [],
   "source": [
    "# buscamos los mejores hiperparámetros para Random Forest Classifier, incrementos de 50\n",
    "\n",
    "depth = 700\n",
    "mean_acc = np.zeros((depth-1))\n",
    "for n in range(1,depth,50): \n",
    "    RF = RandomForestClassifier(n_estimators=n, random_state=42).fit(X_train,y_train)\n",
    "    y_pred=RF.predict(X_test)\n",
    "    \n",
    "    mean_acc[n-1] = mean_squared_error(y_test, y_pred)**0.5\n",
    "plt.plot(range(1,depth,50),mean_sqr[::50],'g')\n",
    "plt.ylabel('RMSE')\n",
    "plt.xlabel('n_estimators')\n",
    "plt.show()\n",
    "print( \"The best RMSE is\", round(mean_sqr.min(), 4), \"with n_estimators =\", mean_sqr.argmin()+1)"
   ]
  },
  {
   "cell_type": "code",
   "execution_count": null,
   "id": "0e35faed",
   "metadata": {},
   "outputs": [],
   "source": [
    "# buscamos los mejores hiperparámetros para Random Forest Classifier, incrementos de 50\n",
    "#Reducimos los n_estimators previamente al rango 50-250\n",
    "\n",
    "depth = 500\n",
    "\n",
    "mean_sqr = np.zeros((depth-1))\n",
    "for n in range(400,depth,10): \n",
    "    RF = RandomForestClassifier(n_estimators=n, random_state=42).fit(X_train,y_train)\n",
    "    y_pred=RF.predict(X_test)\n",
    "    mean_sqr[n-1] = mean_squared_error(y_test, y_pred)**0.5\n",
    "plt.plot(range(1,depth,50),mean_sqr[::50],'g')\n",
    "plt.ylabel('RMSE')\n",
    "plt.xlabel('n_estimators')\n",
    "plt.show()\n",
    "print( \"The best RMSE is\", round(mean_sqr.min(), 4), \"with n_estimators =\", mean_sqr.argmin()+1)"
   ]
  },
  {
   "cell_type": "code",
   "execution_count": null,
   "id": "cc7e3ab1",
   "metadata": {},
   "outputs": [],
   "source": [
    "clf_rf = RandomForestClassifier()\n",
    "clf_rf.fit(X_train , y_train)\n",
    "accuracies = cross_val_score(estimator = clf_rf, X = X_train, y = y_train, cv = 5,verbose = 1)\n",
    "y_pred = clf_rf.predict(X_test)\n",
    "print('')\n",
    "print('###### Random Forest ######')\n",
    "print('Score : %.4f' % clf_rf.score(X_test, y_test))\n",
    "print(accuracies)\n",
    "\n",
    "mse = mean_squared_error(y_test, y_pred)\n",
    "mae = mean_absolute_error(y_test, y_pred)\n",
    "rmse_rf = mean_squared_error(y_test, y_pred)**0.5\n",
    "r2 = r2_score(y_test, y_pred)\n",
    "\n",
    "print('')\n",
    "print('MSE    : %0.2f ' % mse)\n",
    "print('MAE    : %0.2f ' % mae)\n",
    "print('RMSE   : %0.2f ' % rmse_rf)\n",
    "\n"
   ]
  },
  {
   "cell_type": "code",
   "execution_count": null,
   "id": "0c50e174",
   "metadata": {},
   "outputs": [],
   "source": [
    "no_of_test=[100]\n",
    "params_dict={'n_estimators':no_of_test,'n_jobs':[-1],'max_features':[\"auto\",'sqrt','log2']}\n",
    "clf_rf=GridSearchCV(estimator = RandomForestClassifier(),param_grid=params_dict, scoring='neg_root_mean_squared_error')\n",
    "clf_rf.fit(X_train,y_train)\n",
    "pred = clf_rf.predict(X_test)\n",
    "\n",
    "\n",
    "rmse = mean_squared_error(y_test, pred)**0.5\n",
    "\n",
    "print('RMSE     : %0.2f ' % rmse)"
   ]
  },
  {
   "cell_type": "code",
   "execution_count": null,
   "id": "a9362835",
   "metadata": {},
   "outputs": [],
   "source": []
  }
 ],
 "metadata": {
  "kernelspec": {
   "display_name": "Python 3 (ipykernel)",
   "language": "python",
   "name": "python3"
  },
  "language_info": {
   "codemirror_mode": {
    "name": "ipython",
    "version": 3
   },
   "file_extension": ".py",
   "mimetype": "text/x-python",
   "name": "python",
   "nbconvert_exporter": "python",
   "pygments_lexer": "ipython3",
   "version": "3.9.2"
  }
 },
 "nbformat": 4,
 "nbformat_minor": 5
}
