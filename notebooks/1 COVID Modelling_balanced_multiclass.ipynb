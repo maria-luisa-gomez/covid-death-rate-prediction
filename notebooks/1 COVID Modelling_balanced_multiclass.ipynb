{
 "cells": [
  {
   "cell_type": "code",
   "execution_count": 17,
   "id": "33930de0",
   "metadata": {},
   "outputs": [],
   "source": [
    "import pandas as pd\n",
    "import numpy as np\n",
    "\n",
    "import datetime\n",
    "import seaborn as sns\n",
    "import matplotlib.pyplot as plt\n",
    "from numpy import median\n",
    "from sklearn.utils import resample\n",
    "\n",
    "# ALGOS\n",
    "from sklearn import preprocessing\n",
    "from sklearn.model_selection import train_test_split\n",
    "from sklearn.linear_model import LogisticRegression\n",
    "from sklearn.tree import DecisionTreeClassifier\n",
    "from sklearn.neighbors import KNeighborsClassifier\n",
    "from sklearn.ensemble import RandomForestClassifier\n",
    "from sklearn.naive_bayes import GaussianNB\n",
    "from sklearn import svm\n",
    "\n",
    "\n",
    "from sklearn import metrics\n",
    "from sklearn.utils import resample\n",
    "from imblearn.over_sampling import SMOTE\n",
    "from sklearn.preprocessing import MinMaxScaler , StandardScaler\n",
    "from sklearn.model_selection import cross_val_score\n",
    "from sklearn.model_selection import GridSearchCV\n",
    "from sklearn.metrics import confusion_matrix\n",
    "from sklearn.metrics import jaccard_score\n",
    "from sklearn.metrics import mean_squared_log_error,mean_squared_error, r2_score, mean_absolute_error\n",
    "from sklearn.metrics import classification_report, confusion_matrix\n",
    "from sklearn.metrics import f1_score\n",
    "from sklearn.metrics import log_loss\n",
    "from sklearn.metrics import roc_auc_score, roc_curve, auc, precision_recall_curve\n",
    "\n",
    "\n",
    "\n",
    "import warnings\n",
    "\n",
    "warnings.filterwarnings('ignore')"
   ]
  },
  {
   "cell_type": "code",
   "execution_count": 11,
   "id": "812a52c9",
   "metadata": {},
   "outputs": [],
   "source": [
    "# !pip install imbalanced-learn"
   ]
  },
  {
   "cell_type": "code",
   "execution_count": 2,
   "id": "e81ff2b1",
   "metadata": {},
   "outputs": [],
   "source": [
    "modelling_df = pd.read_csv('../data/sinave4.csv')"
   ]
  },
  {
   "cell_type": "code",
   "execution_count": 3,
   "id": "2e7df6da",
   "metadata": {},
   "outputs": [
    {
     "data": {
      "text/plain": [
       "(341990, 74)"
      ]
     },
     "execution_count": 3,
     "metadata": {},
     "output_type": "execute_result"
    }
   ],
   "source": [
    "modelling_df.shape"
   ]
  },
  {
   "cell_type": "code",
   "execution_count": 4,
   "id": "402efc86",
   "metadata": {},
   "outputs": [],
   "source": [
    "# modelling_df.info()"
   ]
  },
  {
   "cell_type": "code",
   "execution_count": 5,
   "id": "b2177a87",
   "metadata": {},
   "outputs": [
    {
     "data": {
      "text/plain": [
       "ACTIVOS LEVES     0.474917\n",
       "RECUPERADOS       0.451844\n",
       "FALLECIDOS        0.057241\n",
       "ACTIVOS GRAVES    0.015998\n",
       "Name: estado, dtype: float64"
      ]
     },
     "execution_count": 5,
     "metadata": {},
     "output_type": "execute_result"
    }
   ],
   "source": [
    "modelling_df['estado'].value_counts(normalize = True)"
   ]
  },
  {
   "cell_type": "code",
   "execution_count": 6,
   "id": "e1253a73",
   "metadata": {},
   "outputs": [],
   "source": [
    "# modelling_df['estado'].value_counts()"
   ]
  },
  {
   "cell_type": "code",
   "execution_count": 7,
   "id": "f9eff79d",
   "metadata": {},
   "outputs": [
    {
     "data": {
      "image/png": "[encoded data removed]",
      "text/plain": [
       "<Figure size 720x432 with 1 Axes>"
      ]
     },
     "metadata": {
      "needs_background": "light"
     },
     "output_type": "display_data"
    }
   ],
   "source": [
    "ax = modelling_df['estado'].value_counts().plot(kind='bar', figsize=(10, 6), fontsize=13, color='#087E8B')\n",
    "ax.set_title('Estado', size=20, pad=30)\n",
    "ax.set_ylabel('Número de casos', fontsize=14)\n",
    "\n",
    "for i in ax.patches:\n",
    "    ax.text(i.get_x() + 0.10, i.get_height() + 700, str(round(i.get_height(), 2)), fontsize=15)"
   ]
  },
  {
   "cell_type": "code",
   "execution_count": null,
   "id": "dce863af",
   "metadata": {},
   "outputs": [],
   "source": [
    "sintomas_list = ['fiebre', 'tos','odinofagia','disnea','irritabilidad','diarrea','dolor_toracico','calofrios', 'cefalea','mialgias','artralgias','ataque_al_estado_general','rinorrea','polipnea','vomito','dolor_abdominal','conjuntivitis','cianosis']\n",
    "patologias_list = ['diabetes', 'epoc', 'asma', 'inmunosupresivo','hipertension', 'VIH_SIDA', 'otra_condicion', 'enfermedad_cardiaca','obesidad', 'insuficiencia_renal_cronica', 'tabaquismo']"
   ]
  },
  {
   "cell_type": "code",
   "execution_count": null,
   "id": "8421739e",
   "metadata": {},
   "outputs": [],
   "source": [
    "# Create new dataframe just with sympthoms\n",
    "# modelling_sintomas_corr = modelling_df2[['fiebre', 'tos','odinofagia','disnea','irritabilidad','diarrea','dolor_toracico','calofrios', 'cefalea','mialgias','artralgias','ataque_al_estado_general','rinorrea','polipnea','vomito','dolor_abdominal','conjuntivitis','cianosis']]"
   ]
  },
  {
   "cell_type": "code",
   "execution_count": null,
   "id": "f5d72efa",
   "metadata": {},
   "outputs": [],
   "source": [
    "# modelling_patologias_corr = modelling_df2[['diabetes', 'epoc', 'asma', 'inmunosupresivo','hipertension', 'VIH_SIDA', 'otra_condicion', 'enfermedad_cardiaca','obesidad', 'insuficiencia_renal_cronica', 'tabaquismo']]"
   ]
  },
  {
   "cell_type": "code",
   "execution_count": 8,
   "id": "9e72fb1b",
   "metadata": {},
   "outputs": [],
   "source": [
    "modelling_df3 = modelling_df.copy()"
   ]
  },
  {
   "cell_type": "code",
   "execution_count": null,
   "id": "993fc5fb",
   "metadata": {},
   "outputs": [],
   "source": [
    "# modelling_df3_2cat = modelling_df2.copy()"
   ]
  },
  {
   "cell_type": "code",
   "execution_count": null,
   "id": "0b9fc052",
   "metadata": {},
   "outputs": [],
   "source": [
    "# modelling_df3_2cat['estado'].replace(to_replace=['ACTIVOS LEVES', 'RECUPERADOS', 'FALLECIDOS', 'ACTIVOS GRAVES'],value=['RECUPERADOS','RECUPERADOS','FALLECIDOS','FALLECIDOS'],inplace=True)"
   ]
  },
  {
   "cell_type": "code",
   "execution_count": 9,
   "id": "1b528f31",
   "metadata": {},
   "outputs": [],
   "source": [
    "# Convert to dummies\n",
    "modelling_df3.replace(to_replace=['ACTIVOS LEVES','ACTIVOS GRAVES', 'RECUPERADOS', 'FALLECIDOS'], \n",
    "                                     value=[0,1,2,3],inplace=True)"
   ]
  },
  {
   "cell_type": "code",
   "execution_count": null,
   "id": "f707f275",
   "metadata": {},
   "outputs": [],
   "source": [
    "# Convert to dummies\n",
    "# modelling_df3_2cat['estado'].replace(to_replace=['RECUPERADOS', 'FALLECIDOS'], \n",
    "#                                      value=[1,0],inplace=True)"
   ]
  },
  {
   "cell_type": "code",
   "execution_count": null,
   "id": "d3bdb235",
   "metadata": {},
   "outputs": [],
   "source": [
    "# modelling_df3_2cat.head()"
   ]
  },
  {
   "cell_type": "markdown",
   "id": "96bf7001",
   "metadata": {},
   "source": [
    "# CORRELATION MATRIX"
   ]
  },
  {
   "cell_type": "markdown",
   "id": "4a735628",
   "metadata": {},
   "source": [
    "## SINTOMAS"
   ]
  },
  {
   "cell_type": "code",
   "execution_count": null,
   "id": "a98d9c44",
   "metadata": {},
   "outputs": [],
   "source": [
    "# # Determinamos las correlaciones entre las variables\n",
    "\n",
    "# f, ax = plt.subplots(figsize=(12, 12))\n",
    "\n",
    "# #Generate correlation matrix\n",
    "# df_correlation = modelling_sintomas_corr.corr()\n",
    "\n",
    "# #Plot using seaborn library\n",
    "# sns.heatmap(df_correlation, annot = True, cmap='coolwarm',linewidths=.1)\n",
    "\n",
    "# # plt.savefig('Matriz de correlacion.png')"
   ]
  },
  {
   "cell_type": "markdown",
   "id": "c8410e22",
   "metadata": {},
   "source": [
    "## PATOLOGIAS"
   ]
  },
  {
   "cell_type": "code",
   "execution_count": null,
   "id": "07f643f3",
   "metadata": {},
   "outputs": [],
   "source": [
    "# # Determinamos las correlaciones entre las variables\n",
    "\n",
    "# f, ax = plt.subplots(figsize=(12, 12))\n",
    "\n",
    "# #Generate correlation matrix\n",
    "# df_correlation2 = modelling_patologias_corr.corr()\n",
    "\n",
    "# #Plot using seaborn library\n",
    "# sns.heatmap(df_correlation2, annot = True, cmap='coolwarm',linewidths=.1)\n",
    "\n",
    "# # plt.savefig('Matriz de correlacion.png')"
   ]
  },
  {
   "cell_type": "code",
   "execution_count": null,
   "id": "212a3971",
   "metadata": {},
   "outputs": [],
   "source": [
    "# # Create new datframe with sympthons & pathologies\n",
    "# modelling_patsin_corr = modelling_df2[['fiebre', 'tos','odinofagia','disnea','irritabilidad','diarrea','dolor_toracico','calofrios', 'cefalea','mialgias','artralgias','ataque_al_estado_general','rinorrea','polipnea','vomito','dolor_abdominal','conjuntivitis','cianosis','diabetes', 'epoc', 'asma', 'inmunosupresivo','hipertension', 'VIH_SIDA', 'otra_condicion', 'enfermedad_cardiaca','obesidad', 'insuficiencia_renal_cronica', 'tabaquismo']]"
   ]
  },
  {
   "cell_type": "code",
   "execution_count": null,
   "id": "ec893e9d",
   "metadata": {},
   "outputs": [],
   "source": [
    "# # Determinamos las correlaciones entre las variables\n",
    "\n",
    "# f, ax = plt.subplots(figsize=(25, 25))\n",
    "\n",
    "# #Generate correlation matrix\n",
    "# df_correlation3 = modelling_patsin_corr.corr()\n",
    "\n",
    "# #Plot using seaborn library\n",
    "# sns.heatmap(df_correlation3, annot = True, cmap='coolwarm',linewidths=.1)\n",
    "\n",
    "# # plt.savefig('Matriz de correlacion.png')"
   ]
  },
  {
   "cell_type": "markdown",
   "id": "19fc49dc",
   "metadata": {},
   "source": [
    "# BALANCED MULTICLASS "
   ]
  },
  {
   "cell_type": "markdown",
   "id": "0d9862ef",
   "metadata": {},
   "source": [
    "### SMOTE"
   ]
  },
  {
   "cell_type": "code",
   "execution_count": 13,
   "id": "97800419",
   "metadata": {},
   "outputs": [],
   "source": [
    "sm = SMOTE(random_state = 42)"
   ]
  },
  {
   "cell_type": "code",
   "execution_count": 14,
   "id": "b0667c3f",
   "metadata": {},
   "outputs": [],
   "source": [
    "features = ['fiebre', 'tos','odinofagia','disnea','irritabilidad','diarrea','dolor_toracico','calofrios', 'cefalea','mialgias','artralgias','ataque_al_estado_general','rinorrea','polipnea','vomito','dolor_abdominal','conjuntivitis','cianosis','diabetes', 'epoc', 'asma', 'inmunosupresivo','hipertension', 'VIH_SIDA', 'otra_condicion', 'enfermedad_cardiaca','obesidad', 'insuficiencia_renal_cronica', 'tabaquismo', 'diabetes', 'epoc', 'asma', 'inmunosupresivo',\n",
    "       'hipertension', 'VIH_SIDA', 'otra_condicion', 'enfermedad_cardiaca',\n",
    "       'obesidad', 'insuficiencia_renal_cronica', 'tabaquismo']"
   ]
  },
  {
   "cell_type": "code",
   "execution_count": 15,
   "id": "eca7f448",
   "metadata": {},
   "outputs": [],
   "source": [
    "X = modelling_df3[features].copy()\n",
    "y = modelling_df3['estado'].copy()"
   ]
  },
  {
   "cell_type": "code",
   "execution_count": 18,
   "id": "949204f5",
   "metadata": {},
   "outputs": [],
   "source": [
    "X = np.array(X)"
   ]
  },
  {
   "cell_type": "code",
   "execution_count": null,
   "id": "24df677c",
   "metadata": {},
   "outputs": [],
   "source": [
    "# X, y = sm.fit_sample(X, y.ravel())"
   ]
  },
  {
   "cell_type": "code",
   "execution_count": 19,
   "id": "eac603d5",
   "metadata": {},
   "outputs": [],
   "source": [
    "X, y = sm.fit_resample(X, y)"
   ]
  },
  {
   "cell_type": "code",
   "execution_count": 25,
   "id": "008b9cd7",
   "metadata": {},
   "outputs": [
    {
     "name": "stdout",
     "output_type": "stream",
     "text": [
      "Class=0, n=162417 (25.000%)\n",
      "Class=2, n=162417 (25.000%)\n",
      "Class=3, n=162417 (25.000%)\n",
      "Class=1, n=162417 (25.000%)\n"
     ]
    }
   ],
   "source": [
    "from collections import Counter\n",
    "counter = Counter(y)\n",
    "\n",
    "for k,v in counter.items():\n",
    "    per = v / len(y) * 100\n",
    "    print('Class=%d, n=%d (%.3f%%)' % (k, v, per))"
   ]
  },
  {
   "cell_type": "code",
   "execution_count": 20,
   "id": "df64fed9",
   "metadata": {},
   "outputs": [
    {
     "name": "stdout",
     "output_type": "stream",
     "text": [
      "Train set: (519734, 40) (519734,)\n",
      "Test set: (129934, 40) (129934,)\n"
     ]
    }
   ],
   "source": [
    "X_train, X_test, y_train, y_test = train_test_split(X, y, test_size=0.2, random_state=42)\n",
    "print ('Train set:', X_train.shape,  y_train.shape)\n",
    "print ('Test set:', X_test.shape,  y_test.shape)"
   ]
  },
  {
   "cell_type": "code",
   "execution_count": 26,
   "id": "727f0ccd",
   "metadata": {},
   "outputs": [],
   "source": [
    "# estandarizamos los datos\n",
    "\n",
    "ss = preprocessing.StandardScaler().fit(X_train.astype(np.float))\n",
    "X_train = ss.transform(X_train.astype(np.float))\n",
    "X_test = ss.transform(X_test.astype(np.float))"
   ]
  },
  {
   "cell_type": "markdown",
   "id": "9c92ef11",
   "metadata": {},
   "source": [
    "## Logistic Regression Classifier multiclass"
   ]
  },
  {
   "cell_type": "code",
   "execution_count": 27,
   "id": "f12b1c7f",
   "metadata": {},
   "outputs": [],
   "source": [
    "# Confusion Matrix plotting function\n",
    "# https://towardsdatascience.com/multi-class-classification-extracting-performance-metrics-from-the-confusion-matrix-b379b427a872\n",
    "\n",
    "def plot_confusion_matrix(cm, classes,\n",
    "                          normalize=False,\n",
    "                          title='Confusion matrix',\n",
    "                          cmap=plt.cm.Blues):\n",
    "    if normalize:\n",
    "        cm = cm.astype('float') / cm.sum(axis=1)[:, np.newaxis]\n",
    "        print(\"Normalized confusion matrix\")\n",
    "    else:\n",
    "        print('Confusion matrix, without normalization')\n",
    "    plt.imshow(cm, interpolation='nearest', cmap=cmap)\n",
    "    plt.title(title)\n",
    "    plt.colorbar()\n",
    "    tick_marks = np.arange(len(classes))\n",
    "    plt.xticks(tick_marks, classes, rotation=90)\n",
    "    plt.yticks(tick_marks, classes)\n",
    "    fmt = '.2f' if normalize else 'd'\n",
    "    thresh = cm.max() / 2.\n",
    "    for i, j in itertools.product(range(cm.shape[0]), range(cm.shape[1])):\n",
    "        plt.text(j, i, format(cm[i, j], fmt),\n",
    "                 horizontalalignment=\"center\",\n",
    "                 color=\"white\" if cm[i, j] > thresh else \"black\")\n",
    "    plt.tight_layout()\n",
    "    plt.ylabel('True label')\n",
    "    plt.xlabel('Predicted label')\n",
    "    \n"
   ]
  },
  {
   "cell_type": "markdown",
   "id": "cdcf4f7b",
   "metadata": {},
   "source": [
    "### OPTIMIZE FOR RMSE"
   ]
  },
  {
   "cell_type": "code",
   "execution_count": 28,
   "id": "12bb64e1",
   "metadata": {},
   "outputs": [
    {
     "data": {
      "text/html": [
       "<div>\n",
       "<style scoped>\n",
       "    .dataframe tbody tr th:only-of-type {\n",
       "        vertical-align: middle;\n",
       "    }\n",
       "\n",
       "    .dataframe tbody tr th {\n",
       "        vertical-align: top;\n",
       "    }\n",
       "\n",
       "    .dataframe thead th {\n",
       "        text-align: right;\n",
       "    }\n",
       "</style>\n",
       "<table border=\"1\" class=\"dataframe\">\n",
       "  <thead>\n",
       "    <tr style=\"text-align: right;\">\n",
       "      <th></th>\n",
       "      <th>newton-cg</th>\n",
       "      <th>lbfgs</th>\n",
       "      <th>sag</th>\n",
       "      <th>saga</th>\n",
       "    </tr>\n",
       "    <tr>\n",
       "      <th>C</th>\n",
       "      <th></th>\n",
       "      <th></th>\n",
       "      <th></th>\n",
       "      <th></th>\n",
       "    </tr>\n",
       "  </thead>\n",
       "  <tbody>\n",
       "    <tr>\n",
       "      <th>0.0001</th>\n",
       "      <td>1.304307</td>\n",
       "      <td>1.304532</td>\n",
       "      <td>1.304523</td>\n",
       "      <td>1.304532</td>\n",
       "    </tr>\n",
       "    <tr>\n",
       "      <th>0.0010</th>\n",
       "      <td>1.301478</td>\n",
       "      <td>1.301478</td>\n",
       "      <td>1.301510</td>\n",
       "      <td>1.301501</td>\n",
       "    </tr>\n",
       "    <tr>\n",
       "      <th>0.0100</th>\n",
       "      <td>1.301581</td>\n",
       "      <td>1.301569</td>\n",
       "      <td>1.301593</td>\n",
       "      <td>1.301581</td>\n",
       "    </tr>\n",
       "    <tr>\n",
       "      <th>0.1000</th>\n",
       "      <td>1.301564</td>\n",
       "      <td>1.301575</td>\n",
       "      <td>1.301581</td>\n",
       "      <td>1.301564</td>\n",
       "    </tr>\n",
       "    <tr>\n",
       "      <th>1.0000</th>\n",
       "      <td>1.301546</td>\n",
       "      <td>1.301578</td>\n",
       "      <td>1.301546</td>\n",
       "      <td>1.301546</td>\n",
       "    </tr>\n",
       "    <tr>\n",
       "      <th>10.0000</th>\n",
       "      <td>1.301546</td>\n",
       "      <td>1.301578</td>\n",
       "      <td>1.301575</td>\n",
       "      <td>1.301546</td>\n",
       "    </tr>\n",
       "    <tr>\n",
       "      <th>100.0000</th>\n",
       "      <td>1.301546</td>\n",
       "      <td>1.301578</td>\n",
       "      <td>1.301575</td>\n",
       "      <td>1.301546</td>\n",
       "    </tr>\n",
       "  </tbody>\n",
       "</table>\n",
       "</div>"
      ],
      "text/plain": [
       "          newton-cg     lbfgs       sag      saga\n",
       "C                                                \n",
       "0.0001     1.304307  1.304532  1.304523  1.304532\n",
       "0.0010     1.301478  1.301478  1.301510  1.301501\n",
       "0.0100     1.301581  1.301569  1.301593  1.301581\n",
       "0.1000     1.301564  1.301575  1.301581  1.301564\n",
       "1.0000     1.301546  1.301578  1.301546  1.301546\n",
       "10.0000    1.301546  1.301578  1.301575  1.301546\n",
       "100.0000   1.301546  1.301578  1.301575  1.301546"
      ]
     },
     "execution_count": 28,
     "metadata": {},
     "output_type": "execute_result"
    }
   ],
   "source": [
    "# Encuentra los mejores hiperparámetros para logistic regression classifier\n",
    "#Logistic Regression soporta solo solvers en ['newton-cg', 'lbfgs', 'sag', 'saga']\n",
    "\n",
    "solvers = ['newton-cg', 'lbfgs', 'sag', 'saga']\n",
    "cs = [0.0001, 0.001, 0.01, 0.1, 1, 10, 100]\n",
    "results_df = pd.DataFrame(index=cs)\n",
    "results_df.index.name='C'\n",
    "for s in solvers:\n",
    "    results = []\n",
    "    for c in cs:\n",
    "        LR = LogisticRegression(C=c, solver=s, max_iter=4000, random_state=42).fit(X_train,y_train)\n",
    "        y_pred = LR.predict(X_test)\n",
    "        mse = mean_squared_error(y_test, y_pred)\n",
    "        rmse_lr = mean_squared_error(y_test, y_pred)**0.5\n",
    "        results.append(rmse_lr)\n",
    "    results_df[s] = results\n",
    "results_df"
   ]
  },
  {
   "cell_type": "code",
   "execution_count": 30,
   "id": "04e46281",
   "metadata": {},
   "outputs": [
    {
     "name": "stdout",
     "output_type": "stream",
     "text": [
      "Confusion matrix, without normalization\n"
     ]
    },
    {
     "data": {
      "image/png": "[encoded data removed]",
      "text/plain": [
       "<Figure size 432x288 with 2 Axes>"
      ]
     },
     "metadata": {
      "needs_background": "light"
     },
     "output_type": "display_data"
    }
   ],
   "source": [
    "import itertools\n",
    "\n",
    "\n",
    "# Ejecutamos logistic regression classifier y mostramos resultados\n",
    "\n",
    "LR = LogisticRegression(C=0.0010, solver='newton-cg', random_state=42).fit(X_train,y_train)\n",
    "y_pred = LR.predict(X_test)\n",
    "y_pred_train = LR.predict(X_train)\n",
    "\n",
    "\n",
    "LR_RMSE = mean_squared_error(y_test, y_pred)**0.5\n",
    "LR_RMSE_train = mean_squared_error(y_train, y_pred_train)**0.5\n",
    "\n",
    "LR_f_score = f1_score(y_test, y_pred, average='micro')\n",
    "LR_f_score_train = f1_score(y_train, y_pred_train, average='micro')\n",
    "\n",
    "LR_class_report = classification_report(y_test, y_pred)\n",
    "LR_class_report_train = classification_report(y_train, y_pred_train)\n",
    "\n",
    "LR_dict = classification_report(y_test, y_pred, output_dict=True)\n",
    "# Compute confusion matrix\n",
    "cnf_matrix = confusion_matrix(y_test, y_pred, labels=[0,1,2,3])\n",
    "np.set_printoptions(precision=2)\n",
    "# Plot non-normalized confusion matrix\n",
    "plt.figure()\n",
    "plot_confusion_matrix(cnf_matrix, classes=['ACTIVOS LEVES','ACTIVOS GRAVES','RECUPERADOS', 'FALLECIDOS'],normalize=False,  title='LR Confusion matrix')"
   ]
  },
  {
   "cell_type": "code",
   "execution_count": 31,
   "id": "fe858cfd",
   "metadata": {},
   "outputs": [
    {
     "name": "stdout",
     "output_type": "stream",
     "text": [
      "Logistic Regression train RMSE: 1.3049\n",
      "Logistic Regression test RMSE: 1.3015\n",
      "\n",
      "Logistic Regression TRAIN classification report:\n",
      "\n",
      "               precision    recall  f1-score   support\n",
      "\n",
      "           0       0.52      0.58      0.55    129975\n",
      "           1       0.49      0.56      0.52    129873\n",
      "           2       0.42      0.37      0.40    129940\n",
      "           3       0.53      0.45      0.49    129946\n",
      "\n",
      "    accuracy                           0.49    519734\n",
      "   macro avg       0.49      0.49      0.49    519734\n",
      "weighted avg       0.49      0.49      0.49    519734\n",
      "\n",
      "Logistic Regression TEST classification report:\n",
      "\n",
      "               precision    recall  f1-score   support\n",
      "\n",
      "           0       0.52      0.59      0.55     32442\n",
      "           1       0.49      0.56      0.52     32544\n",
      "           2       0.42      0.37      0.39     32477\n",
      "           3       0.53      0.46      0.49     32471\n",
      "\n",
      "    accuracy                           0.49    129934\n",
      "   macro avg       0.49      0.49      0.49    129934\n",
      "weighted avg       0.49      0.49      0.49    129934\n",
      "\n"
     ]
    }
   ],
   "source": [
    "\n",
    "print('Logistic Regression train RMSE:', round(LR_RMSE_train, 4))\n",
    "print('Logistic Regression test RMSE:', round(LR_RMSE, 4))\n",
    "\n",
    "print('\\nLogistic Regression TRAIN classification report:\\n\\n', LR_class_report_train)\n",
    "print('Logistic Regression TEST classification report:\\n\\n', LR_class_report)"
   ]
  },
  {
   "cell_type": "markdown",
   "id": "aec5168d",
   "metadata": {},
   "source": [
    "### OPTIMIZE FOR ACCURACY"
   ]
  },
  {
   "cell_type": "code",
   "execution_count": 34,
   "id": "1442eda0",
   "metadata": {},
   "outputs": [
    {
     "data": {
      "text/html": [
       "<div>\n",
       "<style scoped>\n",
       "    .dataframe tbody tr th:only-of-type {\n",
       "        vertical-align: middle;\n",
       "    }\n",
       "\n",
       "    .dataframe tbody tr th {\n",
       "        vertical-align: top;\n",
       "    }\n",
       "\n",
       "    .dataframe thead th {\n",
       "        text-align: right;\n",
       "    }\n",
       "</style>\n",
       "<table border=\"1\" class=\"dataframe\">\n",
       "  <thead>\n",
       "    <tr style=\"text-align: right;\">\n",
       "      <th></th>\n",
       "      <th>newton-cg</th>\n",
       "      <th>lbfgs</th>\n",
       "      <th>sag</th>\n",
       "      <th>saga</th>\n",
       "    </tr>\n",
       "    <tr>\n",
       "      <th>C</th>\n",
       "      <th></th>\n",
       "      <th></th>\n",
       "      <th></th>\n",
       "      <th></th>\n",
       "    </tr>\n",
       "  </thead>\n",
       "  <tbody>\n",
       "    <tr>\n",
       "      <th>0.0001</th>\n",
       "      <td>0.327272</td>\n",
       "      <td>0.327272</td>\n",
       "      <td>0.327272</td>\n",
       "      <td>0.327272</td>\n",
       "    </tr>\n",
       "    <tr>\n",
       "      <th>0.0010</th>\n",
       "      <td>0.327272</td>\n",
       "      <td>0.327272</td>\n",
       "      <td>0.327272</td>\n",
       "      <td>0.327272</td>\n",
       "    </tr>\n",
       "    <tr>\n",
       "      <th>0.0100</th>\n",
       "      <td>0.327272</td>\n",
       "      <td>0.327272</td>\n",
       "      <td>0.327272</td>\n",
       "      <td>0.327272</td>\n",
       "    </tr>\n",
       "    <tr>\n",
       "      <th>0.1000</th>\n",
       "      <td>0.327272</td>\n",
       "      <td>0.327272</td>\n",
       "      <td>0.327272</td>\n",
       "      <td>0.327272</td>\n",
       "    </tr>\n",
       "    <tr>\n",
       "      <th>1.0000</th>\n",
       "      <td>0.327272</td>\n",
       "      <td>0.327272</td>\n",
       "      <td>0.327272</td>\n",
       "      <td>0.327272</td>\n",
       "    </tr>\n",
       "    <tr>\n",
       "      <th>10.0000</th>\n",
       "      <td>0.327272</td>\n",
       "      <td>0.327272</td>\n",
       "      <td>0.327272</td>\n",
       "      <td>0.327272</td>\n",
       "    </tr>\n",
       "    <tr>\n",
       "      <th>100.0000</th>\n",
       "      <td>0.327272</td>\n",
       "      <td>0.327272</td>\n",
       "      <td>0.327272</td>\n",
       "      <td>0.327272</td>\n",
       "    </tr>\n",
       "  </tbody>\n",
       "</table>\n",
       "</div>"
      ],
      "text/plain": [
       "          newton-cg     lbfgs       sag      saga\n",
       "C                                                \n",
       "0.0001     0.327272  0.327272  0.327272  0.327272\n",
       "0.0010     0.327272  0.327272  0.327272  0.327272\n",
       "0.0100     0.327272  0.327272  0.327272  0.327272\n",
       "0.1000     0.327272  0.327272  0.327272  0.327272\n",
       "1.0000     0.327272  0.327272  0.327272  0.327272\n",
       "10.0000    0.327272  0.327272  0.327272  0.327272\n",
       "100.0000   0.327272  0.327272  0.327272  0.327272"
      ]
     },
     "execution_count": 34,
     "metadata": {},
     "output_type": "execute_result"
    }
   ],
   "source": [
    "solvers = ['newton-cg', 'lbfgs', 'sag', 'saga']\n",
    "cs = [0.0001, 0.001, 0.01, 0.1, 1, 10, 100]\n",
    "results_df = pd.DataFrame(index=cs)\n",
    "results_df.index.name='C'\n",
    "for s in solvers:\n",
    "    results = []\n",
    "    for c in cs:\n",
    "        LR = LogisticRegression(C=c, solver=s, max_iter=4000, random_state=42).fit(X_train,y_train)\n",
    "        yhat = LR.predict(X_test)\n",
    "        j_score = jaccard_score(y_test, y_pred, average='micro')\n",
    "        results.append(j_score)\n",
    "    results_df[s] = results\n",
    "results_df"
   ]
  },
  {
   "cell_type": "code",
   "execution_count": 36,
   "id": "e97d426f",
   "metadata": {},
   "outputs": [
    {
     "name": "stdout",
     "output_type": "stream",
     "text": [
      "Confusion matrix, without normalization\n"
     ]
    },
    {
     "data": {
      "image/png": "[encoded data removed]",
      "text/plain": [
       "<Figure size 432x288 with 2 Axes>"
      ]
     },
     "metadata": {
      "needs_background": "light"
     },
     "output_type": "display_data"
    }
   ],
   "source": [
    "import itertools\n",
    "\n",
    "\n",
    "# Ejecutamos logistic regression classifier y mostramos resultados\n",
    "\n",
    "LR = LogisticRegression(C=0.0001, solver='newton-cg', random_state=42).fit(X_train,y_train)\n",
    "y_pred = LR.predict(X_test)\n",
    "y_pred_train = LR.predict(X_train)\n",
    "\n",
    "LR_j_score = jaccard_score(y_test, y_pred, average='micro')\n",
    "LR_j_score_train = jaccard_score(y_train, y_pred_train, average='micro')\n",
    "\n",
    "LR_f_score = f1_score(y_test, y_pred, average='micro')\n",
    "LR_f_score_train = f1_score(y_train, y_pred_train, average='micro')\n",
    "\n",
    "LR_class_report = classification_report(y_test, y_pred)\n",
    "LR_class_report_train = classification_report(y_train, y_pred_train)\n",
    "\n",
    "LR_dict = classification_report(y_test, y_pred, output_dict=True)\n",
    "# Compute confusion matrix\n",
    "cnf_matrix = confusion_matrix(y_test, y_pred, labels=[0,1,2,3])\n",
    "np.set_printoptions(precision=2)\n",
    "# Plot non-normalized confusion matrix\n",
    "plt.figure()\n",
    "plot_confusion_matrix(cnf_matrix, classes=['ACTIVOS LEVES','ACTIVOS GRAVES','RECUPERADOS', 'FALLECIDOS'],normalize=False,  title='LR Confusion matrix')"
   ]
  },
  {
   "cell_type": "code",
   "execution_count": 37,
   "id": "ceea1881",
   "metadata": {},
   "outputs": [
    {
     "name": "stdout",
     "output_type": "stream",
     "text": [
      "Logistic Regression train jaccard score: 0.325\n",
      "Logistic Regression test jaccard score: 0.3268\n",
      "\n",
      "Logistic Regression train classification report:\n",
      "\n",
      "               precision    recall  f1-score   support\n",
      "\n",
      "           0       0.52      0.58      0.55    129975\n",
      "           1       0.49      0.55      0.52    129873\n",
      "           2       0.42      0.37      0.40    129940\n",
      "           3       0.52      0.46      0.49    129946\n",
      "\n",
      "    accuracy                           0.49    519734\n",
      "   macro avg       0.49      0.49      0.49    519734\n",
      "weighted avg       0.49      0.49      0.49    519734\n",
      "\n",
      "Logistic Regression test classification report:\n",
      "\n",
      "               precision    recall  f1-score   support\n",
      "\n",
      "           0       0.52      0.58      0.55     32442\n",
      "           1       0.49      0.55      0.52     32544\n",
      "           2       0.42      0.37      0.40     32477\n",
      "           3       0.53      0.46      0.49     32471\n",
      "\n",
      "    accuracy                           0.49    129934\n",
      "   macro avg       0.49      0.49      0.49    129934\n",
      "weighted avg       0.49      0.49      0.49    129934\n",
      "\n"
     ]
    }
   ],
   "source": [
    "print('Logistic Regression train jaccard score:', round(LR_j_score_train, 4))\n",
    "print('Logistic Regression test jaccard score:', round(LR_j_score, 4))\n",
    "\n",
    "print('\\nLogistic Regression train classification report:\\n\\n', LR_class_report_train)\n",
    "print('Logistic Regression test classification report:\\n\\n', LR_class_report)"
   ]
  },
  {
   "cell_type": "markdown",
   "id": "aca3be14",
   "metadata": {},
   "source": [
    "## Decision Tree Classifier"
   ]
  },
  {
   "cell_type": "markdown",
   "id": "900cde47",
   "metadata": {},
   "source": [
    "### OPTIMIZE FOR RMSE"
   ]
  },
  {
   "cell_type": "code",
   "execution_count": 39,
   "id": "2c41ae98",
   "metadata": {},
   "outputs": [
    {
     "data": {
      "image/png": "[encoded data removed]",
      "text/plain": [
       "<Figure size 432x288 with 1 Axes>"
      ]
     },
     "metadata": {
      "needs_background": "light"
     },
     "output_type": "display_data"
    },
    {
     "name": "stdout",
     "output_type": "stream",
     "text": [
      "The best RMSE is 1.1724 with depth= 28\n"
     ]
    }
   ],
   "source": [
    "# Encuentra los mejores hiperparámetros para el decision tree classifier\n",
    "\n",
    "#Usamos Cross Validation para encontrar la profundidad que de la precisión óptima\n",
    "\n",
    "depth = 30 #20\n",
    "mean_sqe = np.zeros((depth-1))\n",
    "for n in range(1,depth): \n",
    "    DT = DecisionTreeClassifier(criterion=\"entropy\", max_depth = n, random_state=42).fit(X_train,y_train)\n",
    "    y_pred=DT.predict(X_test)\n",
    "    \n",
    "    mean_sqe[n-1] = mean_squared_error(y_test, y_pred)**0.5\n",
    "plt.plot(range(1,depth),mean_sqe,'g')\n",
    "plt.ylabel('RMSE')\n",
    "plt.xlabel('Depth')\n",
    "plt.show()\n",
    "print(\"The best RMSE is\", round(mean_sqe.min(), 4), \"with depth=\", mean_sqe.argmin()+1)"
   ]
  },
  {
   "cell_type": "code",
   "execution_count": 40,
   "id": "afbe20f4",
   "metadata": {},
   "outputs": [
    {
     "name": "stdout",
     "output_type": "stream",
     "text": [
      "Confusion matrix, without normalization\n"
     ]
    },
    {
     "data": {
      "image/png": "[encoded data removed]",
      "text/plain": [
       "<Figure size 432x288 with 2 Axes>"
      ]
     },
     "metadata": {
      "needs_background": "light"
     },
     "output_type": "display_data"
    }
   ],
   "source": [
    "DT = DecisionTreeClassifier(criterion=\"entropy\", max_depth = 28, random_state=42).fit(X_train, y_train)\n",
    "y_pred = LR.predict(X_test)\n",
    "y_pred_train = LR.predict(X_train)\n",
    "\n",
    "\n",
    "LR_RMSE = mean_squared_error(y_test, y_pred)**0.5\n",
    "LR_RMSE_train = mean_squared_error(y_train, y_pred_train)**0.5\n",
    "\n",
    "LR_f_score = f1_score(y_test, y_pred, average='micro')\n",
    "LR_f_score_train = f1_score(y_train, y_pred_train, average='micro')\n",
    "\n",
    "LR_class_report = classification_report(y_test, y_pred)\n",
    "LR_class_report_train = classification_report(y_train, y_pred_train)\n",
    "\n",
    "LR_dict = classification_report(y_test, yhat, output_dict=True)\n",
    "# Compute confusion matrix\n",
    "cnf_matrix = confusion_matrix(y_test, y_pred, labels=[0,1,2,3])\n",
    "np.set_printoptions(precision=2)\n",
    "# Plot non-normalized confusion matrix\n",
    "plt.figure()\n",
    "plot_confusion_matrix(cnf_matrix, classes=['ACTIVOS LEVES','ACTIVOS GRAVES','RECUPERADOS', 'FALLECIDOS'],normalize=False,  title='LR Confusion matrix')"
   ]
  },
  {
   "cell_type": "code",
   "execution_count": 41,
   "id": "2a9cc0f4",
   "metadata": {},
   "outputs": [
    {
     "name": "stdout",
     "output_type": "stream",
     "text": [
      "Logistic Regression train RMSE: 1.3072\n",
      "Logistic Regression test RMSE: 1.3043\n",
      "\n",
      "Logistic Regression TRAIN classification report:\n",
      "\n",
      "               precision    recall  f1-score   support\n",
      "\n",
      "           0       0.52      0.58      0.55    129975\n",
      "           1       0.49      0.55      0.52    129873\n",
      "           2       0.42      0.37      0.40    129940\n",
      "           3       0.52      0.46      0.49    129946\n",
      "\n",
      "    accuracy                           0.49    519734\n",
      "   macro avg       0.49      0.49      0.49    519734\n",
      "weighted avg       0.49      0.49      0.49    519734\n",
      "\n",
      "Logistic Regression TEST classification report:\n",
      "\n",
      "               precision    recall  f1-score   support\n",
      "\n",
      "           0       0.52      0.58      0.55     32442\n",
      "           1       0.49      0.55      0.52     32544\n",
      "           2       0.42      0.37      0.40     32477\n",
      "           3       0.53      0.46      0.49     32471\n",
      "\n",
      "    accuracy                           0.49    129934\n",
      "   macro avg       0.49      0.49      0.49    129934\n",
      "weighted avg       0.49      0.49      0.49    129934\n",
      "\n"
     ]
    }
   ],
   "source": [
    "print('Logistic Regression train RMSE:', round(LR_RMSE_train, 4))\n",
    "print('Logistic Regression test RMSE:', round(LR_RMSE, 4))\n",
    "\n",
    "print('\\nLogistic Regression TRAIN classification report:\\n\\n', LR_class_report_train)\n",
    "print('Logistic Regression TEST classification report:\\n\\n', LR_class_report)"
   ]
  },
  {
   "cell_type": "code",
   "execution_count": null,
   "id": "b2a30aea",
   "metadata": {},
   "outputs": [],
   "source": [
    "# import graphviz\n",
    "# import numpy as np\n",
    "# from sklearn.tree import DecisionTreeClassifier\n",
    "# from sklearn import tree\n",
    "# from sklearn.model_selection import train_test_split\n",
    "# from pandas import DataFrame, Series\n",
    "# from IPython.display import Image \n",
    "# from io import StringIO\n",
    "# import pydotplus\n",
    "# from sklearn import preprocessing\n",
    "# from sklearn.tree import export_graphviz"
   ]
  },
  {
   "cell_type": "code",
   "execution_count": null,
   "id": "2ddb568f",
   "metadata": {},
   "outputs": [],
   "source": [
    "# DecsTree = DecisionTreeClassifier(criterion='entropy', max_depth=7)\n",
    "# DecsTree.fit(X,y)\n",
    "# dot_data = StringIO()\n",
    "# fn=['sexo','diabetes', 'epoc', 'asma', 'inmunosupresivo','hipertension', 'vihsida', 'otra_condicion', 'enfermedad_cardiaca','obesidad', 'insuficiencia_renal_cronica', 'tabaquismo','edad']\n",
    "# cn=['Fallecidos','Recuperados']\n",
    "\n",
    "\n",
    "# export_graphviz(DecsTree, out_file=dot_data,\n",
    "#                 filled=True, rounded=True,\n",
    "#                 special_characters=True, feature_names = fn, class_names=cn)\n",
    "        \n",
    "# graph = pydotplus.graph_from_dot_data(dot_data.getvalue())\n",
    "# graph.set_size('\"300,180!\"')\n",
    "# graph.write_png('Decision Tree graph.jpg')\n",
    "# Image(graph.create_png())"
   ]
  },
  {
   "cell_type": "markdown",
   "id": "345fb25e",
   "metadata": {},
   "source": [
    "### OPTIMIZE FOR ACCURACY"
   ]
  },
  {
   "cell_type": "code",
   "execution_count": 42,
   "id": "ebb069ef",
   "metadata": {},
   "outputs": [
    {
     "data": {
      "image/png": "[encoded data removed]",
      "text/plain": [
       "<Figure size 432x288 with 1 Axes>"
      ]
     },
     "metadata": {
      "needs_background": "light"
     },
     "output_type": "display_data"
    },
    {
     "name": "stdout",
     "output_type": "stream",
     "text": [
      "The best accuracy is 0.6129 with depth= 28\n"
     ]
    }
   ],
   "source": [
    "depth = 30 #30\n",
    "mean_acc = np.zeros((depth-1))\n",
    "for n in range(1,depth): \n",
    "    DT = DecisionTreeClassifier(criterion=\"entropy\", max_depth = n, random_state=42).fit(X_train,y_train)\n",
    "    y_pred=DT.predict(X_test)\n",
    "    mean_acc[n-1] = metrics.accuracy_score(y_test, y_pred)\n",
    "plt.plot(range(1,depth),mean_acc,'g')\n",
    "plt.ylabel('Accuracy')\n",
    "plt.xlabel('Depth')\n",
    "plt.show()\n",
    "print(\"The best accuracy is\", round(mean_acc.max(), 4), \"with depth=\", mean_acc.argmax()+1)"
   ]
  },
  {
   "cell_type": "code",
   "execution_count": 43,
   "id": "1e7f3dad",
   "metadata": {},
   "outputs": [
    {
     "name": "stdout",
     "output_type": "stream",
     "text": [
      "Confusion matrix, without normalization\n"
     ]
    },
    {
     "data": {
      "image/png": "[encoded data removed]",
      "text/plain": [
       "<Figure size 432x288 with 2 Axes>"
      ]
     },
     "metadata": {
      "needs_background": "light"
     },
     "output_type": "display_data"
    }
   ],
   "source": [
    "# rejecuta el decision tree classifier y muestra los resultados\n",
    "\n",
    "DT = DecisionTreeClassifier(criterion=\"entropy\", max_depth = 28, random_state = 42).fit(X_train, y_train)\n",
    "y_pred = DT.predict(X_test)\n",
    "y_pred_train = DT.predict(X_train)\n",
    "\n",
    "\n",
    "DT_j_score = jaccard_score(y_test, y_pred, average='macro')\n",
    "DT_j_score_train = jaccard_score(y_train, y_pred_train, average='macro')\n",
    "\n",
    "DT_f_score = f1_score(y_test, y_pred, average='macro')\n",
    "DT_f_score_train = f1_score(y_train, y_pred_train, average='macro')\n",
    "\n",
    "DT_class_report = classification_report(y_test, y_pred)\n",
    "DT_class_report_train = classification_report(y_train, y_pred_train)\n",
    "\n",
    "DT_dict = classification_report(y_test, y_pred, output_dict=True)\n",
    "DT_dict_train = classification_report(y_train, y_pred_train, output_dict=True)\n",
    "\n",
    "# Compute confusion matrix\n",
    "cnf_matrix = confusion_matrix(y_test, y_pred, labels=[1,0])\n",
    "np.set_printoptions(precision=2)\n",
    "# Plot non-normalized confusion matrix\n",
    "plt.figure()\n",
    "plot_confusion_matrix(cnf_matrix, classes=['RECUPERADOS','FALLECIDOS'],normalize=False,  title='DT Confusion matrix')"
   ]
  },
  {
   "cell_type": "code",
   "execution_count": 45,
   "id": "71c7472b",
   "metadata": {},
   "outputs": [
    {
     "name": "stdout",
     "output_type": "stream",
     "text": [
      "Decision Tree TRAIN jaccard score: 0.54 \n",
      "Decision Tree TEST jaccard score: 0.44\n",
      "\n",
      "Decision Tree TRAIN classification report:\n",
      "\n",
      "               precision    recall  f1-score   support\n",
      "\n",
      "           0       0.63      0.75      0.68    129975\n",
      "           1       0.71      0.84      0.77    129873\n",
      "           2       0.69      0.49      0.57    129940\n",
      "           3       0.79      0.72      0.75    129946\n",
      "\n",
      "    accuracy                           0.70    519734\n",
      "   macro avg       0.70      0.70      0.69    519734\n",
      "weighted avg       0.70      0.70      0.69    519734\n",
      "\n",
      "\n",
      "Decision Tree TRAIN classification report:\n",
      "\n",
      "               precision    recall  f1-score   support\n",
      "\n",
      "           0       0.52      0.61      0.56     32442\n",
      "           1       0.69      0.82      0.75     32544\n",
      "           2       0.49      0.33      0.40     32477\n",
      "           3       0.72      0.68      0.70     32471\n",
      "\n",
      "    accuracy                           0.61    129934\n",
      "   macro avg       0.61      0.61      0.60    129934\n",
      "weighted avg       0.61      0.61      0.60    129934\n",
      "\n"
     ]
    }
   ],
   "source": [
    "print('Decision Tree TRAIN jaccard score:', round(DT_j_score_train, 2),\n",
    "      '\\nDecision Tree TEST jaccard score:', round(DT_j_score, 2))\n",
    "\n",
    "print('\\nDecision Tree TRAIN classification report:\\n\\n', DT_class_report_train)\n",
    "print('\\nDecision Tree TRAIN classification report:\\n\\n', DT_class_report)"
   ]
  },
  {
   "cell_type": "markdown",
   "id": "0069529b",
   "metadata": {},
   "source": [
    "## Random Forest Classifier"
   ]
  },
  {
   "cell_type": "markdown",
   "id": "f6bb8aa5",
   "metadata": {},
   "source": [
    "### OPTIMIZE FOR RMSE"
   ]
  },
  {
   "cell_type": "code",
   "execution_count": null,
   "id": "20cd1d70",
   "metadata": {},
   "outputs": [],
   "source": [
    "results = []\n",
    "\n",
    "for depth in range(1, 21):\n",
    "    model = RandomForestClassifier(n_estimators = 500, max_depth=depth, random_state = 42)\n",
    "    model.fit(X_train, y_train)\n",
    "    \n",
    "    result = {\n",
    "        \"model\": model,\n",
    "        \"depth\": depth,\n",
    "        \"n_estimators\": n_estimators,\n",
    "        \"train_error\": mean_squared_error(y_train, model.predict(X_train)**5),\n",
    "        \"test_error\": mean_squared_error(y_test, model.predict(X_test)**5)\n",
    "    }\n",
    "    \n",
    "    results.append(result)"
   ]
  },
  {
   "cell_type": "code",
   "execution_count": null,
   "id": "a9362835",
   "metadata": {},
   "outputs": [],
   "source": []
  }
 ],
 "metadata": {
  "kernelspec": {
   "display_name": "Python 3 (ipykernel)",
   "language": "python",
   "name": "python3"
  },
  "language_info": {
   "codemirror_mode": {
    "name": "ipython",
    "version": 3
   },
   "file_extension": ".py",
   "mimetype": "text/x-python",
   "name": "python",
   "nbconvert_exporter": "python",
   "pygments_lexer": "ipython3",
   "version": "3.9.2"
  }
 },
 "nbformat": 4,
 "nbformat_minor": 5
}
