{
 "cells": [
  {
   "cell_type": "code",
   "execution_count": 1,
   "id": "49d3498a",
   "metadata": {},
   "outputs": [],
   "source": [
    "import pandas as pd\n",
    "import numpy as np\n",
    "\n",
    "import datetime\n",
    "import seaborn as sns\n",
    "import matplotlib.pyplot as plt\n",
    "from numpy import median\n",
    "from sklearn.utils import resample\n",
    "\n",
    "# ALGOS\n",
    "from sklearn import preprocessing\n",
    "from sklearn.model_selection import train_test_split\n",
    "from sklearn.linear_model import LogisticRegression\n",
    "from sklearn.tree import DecisionTreeClassifier\n",
    "from sklearn.neighbors import KNeighborsClassifier\n",
    "from sklearn.ensemble import RandomForestClassifier\n",
    "from sklearn.naive_bayes import GaussianNB\n",
    "from sklearn import svm\n",
    "\n",
    "\n",
    "from sklearn import metrics\n",
    "from sklearn.utils import resample\n",
    "from sklearn.model_selection import cross_val_score\n",
    "from sklearn.model_selection import GridSearchCV\n",
    "from sklearn.metrics import confusion_matrix\n",
    "from sklearn.metrics import jaccard_score\n",
    "from sklearn.metrics import mean_squared_log_error,mean_squared_error, r2_score, mean_absolute_error\n",
    "from sklearn.metrics import classification_report, confusion_matrix\n",
    "from sklearn.metrics import f1_score\n",
    "from sklearn.metrics import log_loss\n",
    "from sklearn.metrics import roc_auc_score, roc_curve, auc, precision_recall_curve\n",
    "\n",
    "\n",
    "\n",
    "import warnings\n",
    "\n",
    "warnings.filterwarnings('ignore')"
   ]
  },
  {
   "cell_type": "code",
   "execution_count": 2,
   "id": "1b678adb",
   "metadata": {},
   "outputs": [],
   "source": [
    "modelling_df = pd.read_csv('../data/sinave4.csv')"
   ]
  },
  {
   "cell_type": "code",
   "execution_count": 3,
   "id": "f9567137",
   "metadata": {},
   "outputs": [
    {
     "data": {
      "text/plain": [
       "(341990, 74)"
      ]
     },
     "execution_count": 3,
     "metadata": {},
     "output_type": "execute_result"
    }
   ],
   "source": [
    "modelling_df.shape"
   ]
  },
  {
   "cell_type": "code",
   "execution_count": 4,
   "id": "6517b4c3",
   "metadata": {},
   "outputs": [],
   "source": [
    "modelling_df2 = modelling_df.copy()"
   ]
  },
  {
   "cell_type": "code",
   "execution_count": null,
   "id": "b1494e0e",
   "metadata": {},
   "outputs": [],
   "source": [
    "# modelling_df.info()"
   ]
  },
  {
   "cell_type": "code",
   "execution_count": null,
   "id": "109646c0",
   "metadata": {},
   "outputs": [],
   "source": [
    "# modelling_df['estado'].value_counts(normalize = True)"
   ]
  },
  {
   "cell_type": "code",
   "execution_count": null,
   "id": "7fcb9596",
   "metadata": {},
   "outputs": [],
   "source": [
    "# modelling_df['estado'].value_counts()"
   ]
  },
  {
   "cell_type": "code",
   "execution_count": null,
   "id": "31f186fd",
   "metadata": {},
   "outputs": [],
   "source": [
    "sintomas_list = ['fiebre', 'tos','odinofagia','disnea','irritabilidad','diarrea','dolor_toracico','calofrios', 'cefalea','mialgias','artralgias','ataque_al_estado_general','rinorrea','polipnea','vomito','dolor_abdominal','conjuntivitis','cianosis']\n",
    "patologias_list = ['diabetes', 'epoc', 'asma', 'inmunosupresivo','hipertension', 'VIH_SIDA', 'otra_condicion', 'enfermedad_cardiaca','obesidad', 'insuficiencia_renal_cronica', 'tabaquismo']"
   ]
  },
  {
   "cell_type": "code",
   "execution_count": null,
   "id": "b91d6062",
   "metadata": {},
   "outputs": [],
   "source": [
    "# Create new dataframe just with sympthoms\n",
    "modelling_sintomas_corr = modelling_df2[['fiebre', 'tos','odinofagia','disnea','irritabilidad','diarrea','dolor_toracico','calofrios', 'cefalea','mialgias','artralgias','ataque_al_estado_general','rinorrea','polipnea','vomito','dolor_abdominal','conjuntivitis','cianosis']]"
   ]
  },
  {
   "cell_type": "code",
   "execution_count": null,
   "id": "e3cac9b1",
   "metadata": {},
   "outputs": [],
   "source": [
    "modelling_patologias_corr = modelling_df2[['diabetes', 'epoc', 'asma', 'inmunosupresivo','hipertension', 'VIH_SIDA', 'otra_condicion', 'enfermedad_cardiaca','obesidad', 'insuficiencia_renal_cronica', 'tabaquismo']]"
   ]
  },
  {
   "cell_type": "code",
   "execution_count": 5,
   "id": "574a6b82",
   "metadata": {},
   "outputs": [],
   "source": [
    "modelling_df3 = modelling_df2.copy()"
   ]
  },
  {
   "cell_type": "code",
   "execution_count": 6,
   "id": "bcc2e978",
   "metadata": {},
   "outputs": [],
   "source": [
    "# Convert to dummies\n",
    "modelling_df3.replace(to_replace=['ACTIVOS LEVES','ACTIVOS GRAVES', 'RECUPERADOS', 'FALLECIDOS'], \n",
    "                                     value=[0,1,2,3],inplace=True)"
   ]
  },
  {
   "cell_type": "code",
   "execution_count": null,
   "id": "8e1221f4",
   "metadata": {},
   "outputs": [],
   "source": [
    "modelling_df2['estado'].value_counts(normalize = True)"
   ]
  },
  {
   "cell_type": "markdown",
   "id": "b438bdb8",
   "metadata": {},
   "source": [
    "# UNBALANCED MULTICLASS"
   ]
  },
  {
   "cell_type": "code",
   "execution_count": 8,
   "id": "fcfc9aa0",
   "metadata": {},
   "outputs": [],
   "source": [
    "features = ['fiebre', 'tos','odinofagia','disnea','irritabilidad','diarrea','dolor_toracico','calofrios', 'cefalea','mialgias','artralgias','ataque_al_estado_general','rinorrea','polipnea','vomito','dolor_abdominal','conjuntivitis','cianosis','diabetes', 'epoc', 'asma', 'inmunosupresivo','hipertension', 'VIH_SIDA', 'otra_condicion', 'enfermedad_cardiaca','obesidad', 'insuficiencia_renal_cronica', 'tabaquismo', 'diabetes', 'epoc', 'asma', 'inmunosupresivo',\n",
    "       'hipertension', 'VIH_SIDA', 'otra_condicion', 'enfermedad_cardiaca',\n",
    "       'obesidad', 'insuficiencia_renal_cronica', 'tabaquismo']"
   ]
  },
  {
   "cell_type": "code",
   "execution_count": 9,
   "id": "05a62a90",
   "metadata": {},
   "outputs": [],
   "source": [
    "X = modelling_df3[features].copy()\n",
    "y = modelling_df3['estado'].copy()"
   ]
  },
  {
   "cell_type": "code",
   "execution_count": 22,
   "id": "91ca7d63",
   "metadata": {},
   "outputs": [
    {
     "name": "stdout",
     "output_type": "stream",
     "text": [
      "Class=0, n=162417 (47.492%)\n",
      "Class=2, n=154526 (45.184%)\n",
      "Class=3, n=19576 (5.724%)\n",
      "Class=1, n=5471 (1.600%)\n"
     ]
    }
   ],
   "source": [
    "from collections import Counter\n",
    "counter = Counter(y)\n",
    "\n",
    "for k,v in counter.items():\n",
    "    per = v / len(y) * 100\n",
    "    print('Class=%d, n=%d (%.3f%%)' % (k, v, per))"
   ]
  },
  {
   "cell_type": "code",
   "execution_count": 10,
   "id": "9395c8e8",
   "metadata": {},
   "outputs": [
    {
     "name": "stdout",
     "output_type": "stream",
     "text": [
      "Train set: (273592, 40) (273592,)\n",
      "Test set: (68398, 40) (68398,)\n"
     ]
    }
   ],
   "source": [
    "X_train, X_test, y_train, y_test = train_test_split(X, y, test_size=0.2, random_state=42)\n",
    "print ('Train set:', X_train.shape,  y_train.shape)\n",
    "print ('Test set:', X_test.shape,  y_test.shape)"
   ]
  },
  {
   "cell_type": "code",
   "execution_count": 11,
   "id": "8e873e7c",
   "metadata": {},
   "outputs": [],
   "source": [
    "# estandarizamos los datos\n",
    "\n",
    "ss = preprocessing.StandardScaler().fit(X_train.astype(np.float))\n",
    "X_train = ss.transform(X_train.astype(np.float))\n",
    "X_test = ss.transform(X_test.astype(np.float))"
   ]
  },
  {
   "cell_type": "markdown",
   "id": "82be4f3b",
   "metadata": {},
   "source": [
    "## Logistic Regression Classifier"
   ]
  },
  {
   "cell_type": "code",
   "execution_count": 12,
   "id": "14e55390",
   "metadata": {},
   "outputs": [],
   "source": [
    "# Confusion Matrix plotting function\n",
    "# https://towardsdatascience.com/multi-class-classification-extracting-performance-metrics-from-the-confusion-matrix-b379b427a872\n",
    "\n",
    "def plot_confusion_matrix(cm, classes,\n",
    "                          normalize=False,\n",
    "                          title='Confusion matrix',\n",
    "                          cmap=plt.cm.Blues):\n",
    "    if normalize:\n",
    "        cm = cm.astype('float') / cm.sum(axis=1)[:, np.newaxis]\n",
    "        print(\"Normalized confusion matrix\")\n",
    "    else:\n",
    "        print('Confusion matrix, without normalization')\n",
    "    plt.imshow(cm, interpolation='nearest', cmap=cmap)\n",
    "    plt.title(title)\n",
    "    plt.colorbar()\n",
    "    tick_marks = np.arange(len(classes))\n",
    "    plt.xticks(tick_marks, classes, rotation=90)\n",
    "    plt.yticks(tick_marks, classes)\n",
    "    fmt = '.2f' if normalize else 'd'\n",
    "    thresh = cm.max() / 2.\n",
    "    for i, j in itertools.product(range(cm.shape[0]), range(cm.shape[1])):\n",
    "        plt.text(j, i, format(cm[i, j], fmt),\n",
    "                 horizontalalignment=\"center\",\n",
    "                 color=\"white\" if cm[i, j] > thresh else \"black\")\n",
    "    plt.tight_layout()\n",
    "    plt.ylabel('True label')\n",
    "    plt.xlabel('Predicted label')\n",
    "    \n"
   ]
  },
  {
   "cell_type": "code",
   "execution_count": 13,
   "id": "c7667f51",
   "metadata": {},
   "outputs": [
    {
     "data": {
      "text/html": [
       "<div>\n",
       "<style scoped>\n",
       "    .dataframe tbody tr th:only-of-type {\n",
       "        vertical-align: middle;\n",
       "    }\n",
       "\n",
       "    .dataframe tbody tr th {\n",
       "        vertical-align: top;\n",
       "    }\n",
       "\n",
       "    .dataframe thead th {\n",
       "        text-align: right;\n",
       "    }\n",
       "</style>\n",
       "<table border=\"1\" class=\"dataframe\">\n",
       "  <thead>\n",
       "    <tr style=\"text-align: right;\">\n",
       "      <th></th>\n",
       "      <th>newton-cg</th>\n",
       "      <th>lbfgs</th>\n",
       "      <th>sag</th>\n",
       "      <th>saga</th>\n",
       "    </tr>\n",
       "    <tr>\n",
       "      <th>C</th>\n",
       "      <th></th>\n",
       "      <th></th>\n",
       "      <th></th>\n",
       "      <th></th>\n",
       "    </tr>\n",
       "  </thead>\n",
       "  <tbody>\n",
       "    <tr>\n",
       "      <th>0.0001</th>\n",
       "      <td>1.292513</td>\n",
       "      <td>1.292513</td>\n",
       "      <td>1.292536</td>\n",
       "      <td>1.292513</td>\n",
       "    </tr>\n",
       "    <tr>\n",
       "      <th>0.0010</th>\n",
       "      <td>1.294830</td>\n",
       "      <td>1.294830</td>\n",
       "      <td>1.294830</td>\n",
       "      <td>1.294830</td>\n",
       "    </tr>\n",
       "    <tr>\n",
       "      <th>0.0100</th>\n",
       "      <td>1.295710</td>\n",
       "      <td>1.295688</td>\n",
       "      <td>1.295721</td>\n",
       "      <td>1.295688</td>\n",
       "    </tr>\n",
       "    <tr>\n",
       "      <th>0.1000</th>\n",
       "      <td>1.295823</td>\n",
       "      <td>1.295755</td>\n",
       "      <td>1.295755</td>\n",
       "      <td>1.295823</td>\n",
       "    </tr>\n",
       "    <tr>\n",
       "      <th>1.0000</th>\n",
       "      <td>1.295846</td>\n",
       "      <td>1.295846</td>\n",
       "      <td>1.295750</td>\n",
       "      <td>1.295846</td>\n",
       "    </tr>\n",
       "    <tr>\n",
       "      <th>10.0000</th>\n",
       "      <td>1.295846</td>\n",
       "      <td>1.295846</td>\n",
       "      <td>1.295750</td>\n",
       "      <td>1.295846</td>\n",
       "    </tr>\n",
       "    <tr>\n",
       "      <th>100.0000</th>\n",
       "      <td>1.295846</td>\n",
       "      <td>1.295846</td>\n",
       "      <td>1.295750</td>\n",
       "      <td>1.295846</td>\n",
       "    </tr>\n",
       "  </tbody>\n",
       "</table>\n",
       "</div>"
      ],
      "text/plain": [
       "          newton-cg     lbfgs       sag      saga\n",
       "C                                                \n",
       "0.0001     1.292513  1.292513  1.292536  1.292513\n",
       "0.0010     1.294830  1.294830  1.294830  1.294830\n",
       "0.0100     1.295710  1.295688  1.295721  1.295688\n",
       "0.1000     1.295823  1.295755  1.295755  1.295823\n",
       "1.0000     1.295846  1.295846  1.295750  1.295846\n",
       "10.0000    1.295846  1.295846  1.295750  1.295846\n",
       "100.0000   1.295846  1.295846  1.295750  1.295846"
      ]
     },
     "execution_count": 13,
     "metadata": {},
     "output_type": "execute_result"
    }
   ],
   "source": [
    "# Encuentra los mejores hiperparámetros para logistic regression classifier\n",
    "#Logistic Regression soporta solo solvers en ['liblinear', 'newton-cg'<-93.44, 'lbfgs'<-91.8, 'sag'<-72.13, 'saga'<-72.13]\n",
    "\n",
    "solvers = ['newton-cg', 'lbfgs', 'sag', 'saga']\n",
    "cs = [0.0001, 0.001, 0.01, 0.1, 1, 10, 100]\n",
    "results_df = pd.DataFrame(index=cs)\n",
    "results_df.index.name='C'\n",
    "for s in solvers:\n",
    "    results = []\n",
    "    for c in cs:\n",
    "        LR = LogisticRegression(C=c, solver=s, max_iter=4000, random_state=42).fit(X_train,y_train)\n",
    "        y_pred = LR.predict(X_test)\n",
    "        mse = mean_squared_error(y_test, y_pred)\n",
    "        rmse_lr = mean_squared_error(y_test, y_pred)**0.5\n",
    "        results.append(rmse_lr)\n",
    "    results_df[s] = results\n",
    "results_df"
   ]
  },
  {
   "cell_type": "code",
   "execution_count": 14,
   "id": "124ce1a8",
   "metadata": {},
   "outputs": [
    {
     "name": "stdout",
     "output_type": "stream",
     "text": [
      "Confusion matrix, without normalization\n"
     ]
    },
    {
     "data": {
      "image/png": "[encoded data removed]",
      "text/plain": [
       "<Figure size 432x288 with 2 Axes>"
      ]
     },
     "metadata": {
      "needs_background": "light"
     },
     "output_type": "display_data"
    }
   ],
   "source": [
    "import itertools\n",
    "\n",
    "\n",
    "# Ejecutamos logistic regression classifier y mostramos resultados\n",
    "\n",
    "LR = LogisticRegression(C=0.0001, solver='newton-cg', random_state=42).fit(X_train,y_train)\n",
    "y_pred = LR.predict(X_test)\n",
    "y_pred_train = LR.predict(X_train)\n",
    "\n",
    "\n",
    "LR_RMSE = mean_squared_error(y_test, y_pred)**0.5\n",
    "LR_RMSE_train = mean_squared_error(y_train, y_pred_train)**0.5\n",
    "\n",
    "LR_f_score = f1_score(y_test, y_pred, average='micro')\n",
    "LR_f_score_train = f1_score(y_train, y_pred_train, average='micro')\n",
    "\n",
    "LR_class_report = classification_report(y_test, y_pred)\n",
    "LR_class_report_train = classification_report(y_train, y_pred_train)\n",
    "\n",
    "LR_dict = classification_report(y_test, y_pred, output_dict=True)\n",
    "# Compute confusion matrix\n",
    "cnf_matrix = confusion_matrix(y_test, y_pred, labels=[0,1,2,3])\n",
    "np.set_printoptions(precision=2)\n",
    "# Plot non-normalized confusion matrix\n",
    "plt.figure()\n",
    "plot_confusion_matrix(cnf_matrix, classes=['ACTIVOS LEVES','ACTIVOS GRAVES','RECUPERADOS', 'FALLECIDOS'],normalize=False,  title='LR Confusion matrix')"
   ]
  },
  {
   "cell_type": "code",
   "execution_count": 15,
   "id": "63b22254",
   "metadata": {},
   "outputs": [
    {
     "name": "stdout",
     "output_type": "stream",
     "text": [
      "Logistic Regression train RMSE: 1.2895\n",
      "Logistic Regression test RMSE: 1.2925\n",
      "\n",
      "Logistic Regression TRAIN classification report:\n",
      "\n",
      "               precision    recall  f1-score   support\n",
      "\n",
      "           0       0.58      0.67      0.62    130042\n",
      "           1       0.00      0.00      0.00      4358\n",
      "           2       0.52      0.49      0.50    123493\n",
      "           3       0.49      0.19      0.27     15699\n",
      "\n",
      "    accuracy                           0.55    273592\n",
      "   macro avg       0.39      0.34      0.35    273592\n",
      "weighted avg       0.54      0.55      0.54    273592\n",
      "\n",
      "Logistic Regression TEST classification report:\n",
      "\n",
      "               precision    recall  f1-score   support\n",
      "\n",
      "           0       0.57      0.67      0.62     32375\n",
      "           1       0.00      0.00      0.00      1113\n",
      "           2       0.52      0.49      0.50     31033\n",
      "           3       0.49      0.19      0.28      3877\n",
      "\n",
      "    accuracy                           0.55     68398\n",
      "   macro avg       0.39      0.34      0.35     68398\n",
      "weighted avg       0.53      0.55      0.54     68398\n",
      "\n"
     ]
    }
   ],
   "source": [
    "print('Logistic Regression train RMSE:', round(LR_RMSE_train, 4))\n",
    "print('Logistic Regression test RMSE:', round(LR_RMSE, 4))\n",
    "\n",
    "print('\\nLogistic Regression TRAIN classification report:\\n\\n', LR_class_report_train)\n",
    "print('Logistic Regression TEST classification report:\\n\\n', LR_class_report)"
   ]
  },
  {
   "cell_type": "markdown",
   "id": "264e860a",
   "metadata": {},
   "source": [
    "## Decision Tree Classifier"
   ]
  },
  {
   "cell_type": "code",
   "execution_count": 16,
   "id": "aabf4b4a",
   "metadata": {},
   "outputs": [
    {
     "data": {
      "image/png": "[encoded data removed]",
      "text/plain": [
       "<Figure size 432x288 with 1 Axes>"
      ]
     },
     "metadata": {
      "needs_background": "light"
     },
     "output_type": "display_data"
    },
    {
     "name": "stdout",
     "output_type": "stream",
     "text": [
      "The best RMSE is 1.2989 with depth= 5\n"
     ]
    }
   ],
   "source": [
    "# Encuentra los mejores hiperparámetros para el decision tree classifier\n",
    "\n",
    "#Usamos Cross Validation para encontrar la profundidad que de la precisión óptima\n",
    "\n",
    "depth = 20 #20\n",
    "mean_sqe = np.zeros((depth-1))\n",
    "for n in range(1,depth): \n",
    "    DT = DecisionTreeClassifier(criterion=\"entropy\", max_depth = n, random_state=42).fit(X_train,y_train)\n",
    "    y_pred=DT.predict(X_test)\n",
    "    \n",
    "    mean_sqe[n-1] = mean_squared_error(y_test, y_pred)**0.5\n",
    "plt.plot(range(1,depth),mean_sqe,'g')\n",
    "plt.ylabel('RMSE')\n",
    "plt.xlabel('Depth')\n",
    "plt.show()\n",
    "print(\"The best RMSE is\", round(mean_sqe.min(), 4), \"with depth=\", mean_sqe.argmin()+1)"
   ]
  },
  {
   "cell_type": "code",
   "execution_count": 17,
   "id": "38f84b3b",
   "metadata": {},
   "outputs": [
    {
     "name": "stdout",
     "output_type": "stream",
     "text": [
      "Confusion matrix, without normalization\n"
     ]
    },
    {
     "data": {
      "image/png": "[encoded data removed]",
      "text/plain": [
       "<Figure size 432x288 with 2 Axes>"
      ]
     },
     "metadata": {
      "needs_background": "light"
     },
     "output_type": "display_data"
    }
   ],
   "source": [
    "DT = DecisionTreeClassifier(criterion=\"entropy\", max_depth = 5, random_state=42).fit(X_train, y_train)\n",
    "y_pred = LR.predict(X_test)\n",
    "y_pred_train = LR.predict(X_train)\n",
    "\n",
    "\n",
    "LR_RMSE = mean_squared_error(y_test, y_pred)**0.5\n",
    "LR_RMSE_train = mean_squared_error(y_train, y_pred_train)**0.5\n",
    "\n",
    "LR_f_score = f1_score(y_test, y_pred, average='micro')\n",
    "LR_f_score_train = f1_score(y_train, y_pred_train, average='micro')\n",
    "\n",
    "LR_class_report = classification_report(y_test, y_pred)\n",
    "LR_class_report_train = classification_report(y_train, y_pred_train)\n",
    "\n",
    "LR_dict = classification_report(y_test, y_pred, output_dict=True)\n",
    "# Compute confusion matrix\n",
    "cnf_matrix = confusion_matrix(y_test, y_pred, labels=[0,1,2,3])\n",
    "np.set_printoptions(precision=2)\n",
    "# Plot non-normalized confusion matrix\n",
    "plt.figure()\n",
    "plot_confusion_matrix(cnf_matrix, classes=['ACTIVOS LEVES','ACTIVOS GRAVES','RECUPERADOS', 'FALLECIDOS'],normalize=False,  title='LR Confusion matrix')"
   ]
  },
  {
   "cell_type": "code",
   "execution_count": 18,
   "id": "9176bb64",
   "metadata": {},
   "outputs": [
    {
     "name": "stdout",
     "output_type": "stream",
     "text": [
      "Logistic Regression train RMSE: 1.2895\n",
      "Logistic Regression test RMSE: 1.2925\n",
      "\n",
      "Logistic Regression TRAIN classification report:\n",
      "\n",
      "               precision    recall  f1-score   support\n",
      "\n",
      "           0       0.58      0.67      0.62    130042\n",
      "           1       0.00      0.00      0.00      4358\n",
      "           2       0.52      0.49      0.50    123493\n",
      "           3       0.49      0.19      0.27     15699\n",
      "\n",
      "    accuracy                           0.55    273592\n",
      "   macro avg       0.39      0.34      0.35    273592\n",
      "weighted avg       0.54      0.55      0.54    273592\n",
      "\n",
      "Logistic Regression TEST classification report:\n",
      "\n",
      "               precision    recall  f1-score   support\n",
      "\n",
      "           0       0.57      0.67      0.62     32375\n",
      "           1       0.00      0.00      0.00      1113\n",
      "           2       0.52      0.49      0.50     31033\n",
      "           3       0.49      0.19      0.28      3877\n",
      "\n",
      "    accuracy                           0.55     68398\n",
      "   macro avg       0.39      0.34      0.35     68398\n",
      "weighted avg       0.53      0.55      0.54     68398\n",
      "\n"
     ]
    }
   ],
   "source": [
    "print('Logistic Regression train RMSE:', round(LR_RMSE_train, 4))\n",
    "print('Logistic Regression test RMSE:', round(LR_RMSE, 4))\n",
    "\n",
    "print('\\nLogistic Regression TRAIN classification report:\\n\\n', LR_class_report_train)\n",
    "print('Logistic Regression TEST classification report:\\n\\n', LR_class_report)"
   ]
  },
  {
   "cell_type": "markdown",
   "id": "f82488d1",
   "metadata": {},
   "source": [
    "## Random Forest Classifier"
   ]
  },
  {
   "cell_type": "code",
   "execution_count": null,
   "id": "b305e9de",
   "metadata": {},
   "outputs": [],
   "source": [
    "results = []\n",
    "\n",
    "for depth in range(1, 21):\n",
    "    model = RandomForestClassifier(n_estimators = 500, max_depth=depth, random_state = 42)\n",
    "    model.fit(X_train, y_train)\n",
    "    \n",
    "    result = {\n",
    "        \"model\": model,\n",
    "        \"depth\": depth,\n",
    "        \"n_estimators\": n_estimators,\n",
    "        \"train_error\": mean_squared_error(y_train, model.predict(X_train)**),\n",
    "        \"test_error\": mean_squared_error(y_test, model.predict(X_test)**5)\n",
    "    }\n",
    "    \n",
    "    results.append(result)"
   ]
  },
  {
   "cell_type": "code",
   "execution_count": null,
   "id": "0f186264",
   "metadata": {},
   "outputs": [],
   "source": []
  }
 ],
 "metadata": {
  "kernelspec": {
   "display_name": "Python 3 (ipykernel)",
   "language": "python",
   "name": "python3"
  },
  "language_info": {
   "codemirror_mode": {
    "name": "ipython",
    "version": 3
   },
   "file_extension": ".py",
   "mimetype": "text/x-python",
   "name": "python",
   "nbconvert_exporter": "python",
   "pygments_lexer": "ipython3",
   "version": "3.9.2"
  }
 },
 "nbformat": 4,
 "nbformat_minor": 5
}
