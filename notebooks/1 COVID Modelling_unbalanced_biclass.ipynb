{
 "cells": [
  {
   "cell_type": "code",
   "execution_count": 1,
   "id": "33930de0",
   "metadata": {},
   "outputs": [],
   "source": [
    "import pandas as pd\n",
    "import numpy as np\n",
    "\n",
    "import datetime\n",
    "import seaborn as sns\n",
    "import matplotlib.pyplot as plt\n",
    "from numpy import median\n",
    "from sklearn.utils import resample\n",
    "\n",
    "# ALGOS\n",
    "from sklearn import preprocessing\n",
    "from sklearn.model_selection import train_test_split\n",
    "from sklearn.linear_model import LogisticRegression\n",
    "from sklearn.tree import DecisionTreeClassifier\n",
    "from sklearn.neighbors import KNeighborsClassifier\n",
    "from sklearn.ensemble import RandomForestClassifier\n",
    "from sklearn.naive_bayes import GaussianNB\n",
    "from sklearn import svm\n",
    "\n",
    "\n",
    "from sklearn import metrics\n",
    "from sklearn.utils import resample\n",
    "from imblearn.over_sampling import SMOTE\n",
    "from sklearn.model_selection import cross_val_score\n",
    "from sklearn.model_selection import GridSearchCV\n",
    "from sklearn.metrics import confusion_matrix\n",
    "from sklearn.metrics import jaccard_score\n",
    "from sklearn.metrics import mean_squared_log_error,mean_squared_error, r2_score, mean_absolute_error\n",
    "from sklearn.metrics import classification_report, confusion_matrix\n",
    "from sklearn.metrics import f1_score\n",
    "from sklearn.metrics import log_loss\n",
    "from sklearn.metrics import roc_auc_score, roc_curve, auc, precision_recall_curve\n",
    "\n",
    "\n",
    "\n",
    "import warnings\n",
    "\n",
    "warnings.filterwarnings('ignore')"
   ]
  },
  {
   "cell_type": "code",
   "execution_count": null,
   "id": "889bba0a",
   "metadata": {},
   "outputs": [],
   "source": [
    "# !pip install imbalanced-learn"
   ]
  },
  {
   "cell_type": "code",
   "execution_count": 2,
   "id": "e81ff2b1",
   "metadata": {},
   "outputs": [],
   "source": [
    "modelling_df = pd.read_csv('../data/sinave4.csv')"
   ]
  },
  {
   "cell_type": "code",
   "execution_count": 3,
   "id": "2e7df6da",
   "metadata": {},
   "outputs": [
    {
     "data": {
      "text/plain": [
       "(341990, 74)"
      ]
     },
     "execution_count": 3,
     "metadata": {},
     "output_type": "execute_result"
    }
   ],
   "source": [
    "modelling_df.shape"
   ]
  },
  {
   "cell_type": "code",
   "execution_count": null,
   "id": "402efc86",
   "metadata": {},
   "outputs": [],
   "source": [
    "# modelling_df.info()"
   ]
  },
  {
   "cell_type": "code",
   "execution_count": 4,
   "id": "b2177a87",
   "metadata": {},
   "outputs": [
    {
     "data": {
      "text/plain": [
       "ACTIVOS LEVES     0.474917\n",
       "RECUPERADOS       0.451844\n",
       "FALLECIDOS        0.057241\n",
       "ACTIVOS GRAVES    0.015998\n",
       "Name: estado, dtype: float64"
      ]
     },
     "execution_count": 4,
     "metadata": {},
     "output_type": "execute_result"
    }
   ],
   "source": [
    "modelling_df['estado'].value_counts(normalize = True)"
   ]
  },
  {
   "cell_type": "code",
   "execution_count": null,
   "id": "e1253a73",
   "metadata": {},
   "outputs": [],
   "source": [
    "# modelling_df['estado'].value_counts()"
   ]
  },
  {
   "cell_type": "code",
   "execution_count": 5,
   "id": "f9eff79d",
   "metadata": {},
   "outputs": [
    {
     "data": {
      "image/png": "[encoded data removed]",
      "text/plain": [
       "<Figure size 720x432 with 1 Axes>"
      ]
     },
     "metadata": {
      "needs_background": "light"
     },
     "output_type": "display_data"
    }
   ],
   "source": [
    "ax = modelling_df['estado'].value_counts().plot(kind='bar', figsize=(10, 6), fontsize=13, color='#087E8B')\n",
    "ax.set_title('Estado', size=20, pad=30)\n",
    "ax.set_ylabel('Número de casos', fontsize=14)\n",
    "\n",
    "for i in ax.patches:\n",
    "    ax.text(i.get_x() + 0.10, i.get_height() + 700, str(round(i.get_height(), 2)), fontsize=15)"
   ]
  },
  {
   "cell_type": "code",
   "execution_count": null,
   "id": "dce863af",
   "metadata": {},
   "outputs": [],
   "source": [
    "sintomas_list = ['fiebre', 'tos','odinofagia','disnea','irritabilidad','diarrea','dolor_toracico','calofrios', 'cefalea','mialgias','artralgias','ataque_al_estado_general','rinorrea','polipnea','vomito','dolor_abdominal','conjuntivitis','cianosis']\n",
    "patologias_list = ['diabetes', 'epoc', 'asma', 'inmunosupresivo','hipertension', 'VIH_SIDA', 'otra_condicion', 'enfermedad_cardiaca','obesidad', 'insuficiencia_renal_cronica', 'tabaquismo']"
   ]
  },
  {
   "cell_type": "code",
   "execution_count": null,
   "id": "9e72fb1b",
   "metadata": {},
   "outputs": [],
   "source": [
    "# modelling_df3 = modelling_df.copy()"
   ]
  },
  {
   "cell_type": "code",
   "execution_count": 6,
   "id": "993fc5fb",
   "metadata": {},
   "outputs": [],
   "source": [
    "modelling_df3_2cat = modelling_df.copy()"
   ]
  },
  {
   "cell_type": "code",
   "execution_count": null,
   "id": "0b9fc052",
   "metadata": {},
   "outputs": [],
   "source": [
    "# modelling_df3_2cat['estado'].replace(to_replace=['ACTIVOS LEVES', 'RECUPERADOS', 'FALLECIDOS', 'ACTIVOS GRAVES'],value=['RECUPERADOS','RECUPERADOS','FALLECIDOS','FALLECIDOS'],inplace=True)"
   ]
  },
  {
   "cell_type": "code",
   "execution_count": 7,
   "id": "4db0a283",
   "metadata": {},
   "outputs": [],
   "source": [
    "modelling_df3_2cat = modelling_df3_2cat[modelling_df3_2cat[\"estado\"].isin(['RECUPERADOS','FALLECIDOS'])]"
   ]
  },
  {
   "cell_type": "code",
   "execution_count": 8,
   "id": "7f27a840",
   "metadata": {},
   "outputs": [
    {
     "data": {
      "text/plain": [
       "array(['RECUPERADOS', 'FALLECIDOS'], dtype=object)"
      ]
     },
     "execution_count": 8,
     "metadata": {},
     "output_type": "execute_result"
    }
   ],
   "source": [
    "modelling_df3_2cat.estado.unique()"
   ]
  },
  {
   "cell_type": "code",
   "execution_count": 9,
   "id": "f707f275",
   "metadata": {},
   "outputs": [],
   "source": [
    "# Convert to dummies\n",
    "modelling_df3_2cat['estado'].replace(to_replace=['RECUPERADOS', 'FALLECIDOS'], \n",
    "                                     value=[1,0],inplace=True)"
   ]
  },
  {
   "cell_type": "markdown",
   "id": "19fc49dc",
   "metadata": {},
   "source": [
    "# BALANCED MULTICLASS "
   ]
  },
  {
   "cell_type": "code",
   "execution_count": 10,
   "id": "b0667c3f",
   "metadata": {},
   "outputs": [],
   "source": [
    "features = ['fiebre', 'tos','odinofagia','disnea','irritabilidad','diarrea','dolor_toracico','calofrios', 'cefalea','mialgias','artralgias','ataque_al_estado_general','rinorrea','polipnea','vomito','dolor_abdominal','conjuntivitis','cianosis','diabetes', 'epoc', 'asma', 'inmunosupresivo','hipertension', 'VIH_SIDA', 'otra_condicion', 'enfermedad_cardiaca','obesidad', 'insuficiencia_renal_cronica', 'tabaquismo', 'diabetes', 'epoc', 'asma', 'inmunosupresivo',\n",
    "       'hipertension', 'VIH_SIDA', 'otra_condicion', 'enfermedad_cardiaca',\n",
    "       'obesidad', 'insuficiencia_renal_cronica', 'tabaquismo']"
   ]
  },
  {
   "cell_type": "code",
   "execution_count": 11,
   "id": "eca7f448",
   "metadata": {},
   "outputs": [],
   "source": [
    "X = modelling_df3_2cat[features].copy()\n",
    "y = modelling_df3_2cat['estado'].copy()"
   ]
  },
  {
   "cell_type": "code",
   "execution_count": 12,
   "id": "f925a5c9",
   "metadata": {},
   "outputs": [
    {
     "name": "stdout",
     "output_type": "stream",
     "text": [
      "Class=1, n=154526 (88.756%)\n",
      "Class=0, n=19576 (11.244%)\n"
     ]
    }
   ],
   "source": [
    "from collections import Counter\n",
    "counter = Counter(y)\n",
    "\n",
    "for k,v in counter.items():\n",
    "    per = v / len(y) * 100\n",
    "    print('Class=%d, n=%d (%.3f%%)' % (k, v, per))"
   ]
  },
  {
   "cell_type": "code",
   "execution_count": 13,
   "id": "df64fed9",
   "metadata": {},
   "outputs": [
    {
     "name": "stdout",
     "output_type": "stream",
     "text": [
      "Train set: (139281, 40) (139281,)\n",
      "Test set: (34821, 40) (34821,)\n"
     ]
    }
   ],
   "source": [
    "X_train, X_test, y_train, y_test = train_test_split(X, y, test_size=0.2, random_state=42)\n",
    "print ('Train set:', X_train.shape,  y_train.shape)\n",
    "print ('Test set:', X_test.shape,  y_test.shape)"
   ]
  },
  {
   "cell_type": "code",
   "execution_count": 14,
   "id": "727f0ccd",
   "metadata": {},
   "outputs": [],
   "source": [
    "# estandarizamos los datos\n",
    "\n",
    "ss = preprocessing.StandardScaler().fit(X_train.astype(np.float))\n",
    "X_train = ss.transform(X_train.astype(np.float))\n",
    "X_test = ss.transform(X_test.astype(np.float))"
   ]
  },
  {
   "cell_type": "markdown",
   "id": "9c92ef11",
   "metadata": {},
   "source": [
    "## Logistic Regression Classifier"
   ]
  },
  {
   "cell_type": "code",
   "execution_count": 15,
   "id": "f12b1c7f",
   "metadata": {},
   "outputs": [],
   "source": [
    "# Confusion Matrix plotting function\n",
    "# https://towardsdatascience.com/multi-class-classification-extracting-performance-metrics-from-the-confusion-matrix-b379b427a872\n",
    "\n",
    "def plot_confusion_matrix(cm, classes,\n",
    "                          normalize=False,\n",
    "                          title='Confusion matrix',\n",
    "                          cmap=plt.cm.Blues):\n",
    "    if normalize:\n",
    "        cm = cm.astype('float') / cm.sum(axis=1)[:, np.newaxis]\n",
    "        print(\"Normalized confusion matrix\")\n",
    "    else:\n",
    "        print('Confusion matrix, without normalization')\n",
    "    plt.imshow(cm, interpolation='nearest', cmap=cmap)\n",
    "    plt.title(title)\n",
    "    plt.colorbar()\n",
    "    tick_marks = np.arange(len(classes))\n",
    "    plt.xticks(tick_marks, classes, rotation=90)\n",
    "    plt.yticks(tick_marks, classes)\n",
    "    fmt = '.2f' if normalize else 'd'\n",
    "    thresh = cm.max() / 2.\n",
    "    for i, j in itertools.product(range(cm.shape[0]), range(cm.shape[1])):\n",
    "        plt.text(j, i, format(cm[i, j], fmt),\n",
    "                 horizontalalignment=\"center\",\n",
    "                 color=\"white\" if cm[i, j] > thresh else \"black\")\n",
    "    plt.tight_layout()\n",
    "    plt.ylabel('True label')\n",
    "    plt.xlabel('Predicted label')\n",
    "    \n"
   ]
  },
  {
   "cell_type": "markdown",
   "id": "1701ca79",
   "metadata": {},
   "source": [
    "### OPTIMIZE FOR RMSE"
   ]
  },
  {
   "cell_type": "code",
   "execution_count": 16,
   "id": "12bb64e1",
   "metadata": {},
   "outputs": [
    {
     "data": {
      "text/html": [
       "<div>\n",
       "<style scoped>\n",
       "    .dataframe tbody tr th:only-of-type {\n",
       "        vertical-align: middle;\n",
       "    }\n",
       "\n",
       "    .dataframe tbody tr th {\n",
       "        vertical-align: top;\n",
       "    }\n",
       "\n",
       "    .dataframe thead th {\n",
       "        text-align: right;\n",
       "    }\n",
       "</style>\n",
       "<table border=\"1\" class=\"dataframe\">\n",
       "  <thead>\n",
       "    <tr style=\"text-align: right;\">\n",
       "      <th></th>\n",
       "      <th>newton-cg</th>\n",
       "      <th>lbfgs</th>\n",
       "      <th>sag</th>\n",
       "      <th>saga</th>\n",
       "    </tr>\n",
       "    <tr>\n",
       "      <th>C</th>\n",
       "      <th></th>\n",
       "      <th></th>\n",
       "      <th></th>\n",
       "      <th></th>\n",
       "    </tr>\n",
       "  </thead>\n",
       "  <tbody>\n",
       "    <tr>\n",
       "      <th>0.0001</th>\n",
       "      <td>0.325752</td>\n",
       "      <td>0.325752</td>\n",
       "      <td>0.325752</td>\n",
       "      <td>0.325752</td>\n",
       "    </tr>\n",
       "    <tr>\n",
       "      <th>0.0010</th>\n",
       "      <td>0.323318</td>\n",
       "      <td>0.323318</td>\n",
       "      <td>0.323274</td>\n",
       "      <td>0.323274</td>\n",
       "    </tr>\n",
       "    <tr>\n",
       "      <th>0.0100</th>\n",
       "      <td>0.323673</td>\n",
       "      <td>0.323673</td>\n",
       "      <td>0.323673</td>\n",
       "      <td>0.323718</td>\n",
       "    </tr>\n",
       "    <tr>\n",
       "      <th>0.1000</th>\n",
       "      <td>0.323895</td>\n",
       "      <td>0.323895</td>\n",
       "      <td>0.323851</td>\n",
       "      <td>0.323895</td>\n",
       "    </tr>\n",
       "    <tr>\n",
       "      <th>1.0000</th>\n",
       "      <td>0.323895</td>\n",
       "      <td>0.323895</td>\n",
       "      <td>0.323895</td>\n",
       "      <td>0.323895</td>\n",
       "    </tr>\n",
       "    <tr>\n",
       "      <th>10.0000</th>\n",
       "      <td>0.323895</td>\n",
       "      <td>0.323939</td>\n",
       "      <td>0.323895</td>\n",
       "      <td>0.323895</td>\n",
       "    </tr>\n",
       "    <tr>\n",
       "      <th>100.0000</th>\n",
       "      <td>0.323895</td>\n",
       "      <td>0.323939</td>\n",
       "      <td>0.323895</td>\n",
       "      <td>0.323895</td>\n",
       "    </tr>\n",
       "  </tbody>\n",
       "</table>\n",
       "</div>"
      ],
      "text/plain": [
       "          newton-cg     lbfgs       sag      saga\n",
       "C                                                \n",
       "0.0001     0.325752  0.325752  0.325752  0.325752\n",
       "0.0010     0.323318  0.323318  0.323274  0.323274\n",
       "0.0100     0.323673  0.323673  0.323673  0.323718\n",
       "0.1000     0.323895  0.323895  0.323851  0.323895\n",
       "1.0000     0.323895  0.323895  0.323895  0.323895\n",
       "10.0000    0.323895  0.323939  0.323895  0.323895\n",
       "100.0000   0.323895  0.323939  0.323895  0.323895"
      ]
     },
     "execution_count": 16,
     "metadata": {},
     "output_type": "execute_result"
    }
   ],
   "source": [
    "# Encuentra los mejores hiperparámetros para logistic regression classifier\n",
    "#Logistic Regression soporta solo solvers en ['liblinear', 'newton-cg', 'lbfgs', 'sag'3, 'saga']\n",
    "\n",
    "solvers = ['newton-cg', 'lbfgs', 'sag', 'saga']\n",
    "cs = [0.0001, 0.001, 0.01, 0.1, 1, 10, 100]\n",
    "results_df = pd.DataFrame(index=cs)\n",
    "results_df.index.name='C'\n",
    "for s in solvers:\n",
    "    results = []\n",
    "    for c in cs:\n",
    "        LR = LogisticRegression(C=c, solver=s, max_iter=4000, random_state=42).fit(X_train,y_train)\n",
    "        y_pred = LR.predict(X_test)\n",
    "        mse = mean_squared_error(y_test, y_pred)\n",
    "        rmse_lr = mean_squared_error(y_test, y_pred)**0.5\n",
    "        results.append(rmse_lr)\n",
    "    results_df[s] = results\n",
    "results_df"
   ]
  },
  {
   "cell_type": "code",
   "execution_count": 19,
   "id": "04e46281",
   "metadata": {},
   "outputs": [
    {
     "name": "stdout",
     "output_type": "stream",
     "text": [
      "Confusion matrix, without normalization\n"
     ]
    },
    {
     "data": {
      "image/png": "[encoded data removed]",
      "text/plain": [
       "<Figure size 432x288 with 2 Axes>"
      ]
     },
     "metadata": {
      "needs_background": "light"
     },
     "output_type": "display_data"
    }
   ],
   "source": [
    "import itertools\n",
    "\n",
    "\n",
    "# Ejecutamos logistic regression classifier y mostramos resultados\n",
    "\n",
    "LR = LogisticRegression(C=0.0010, solver='newton-cg', random_state=42).fit(X_train,y_train)\n",
    "y_pred = LR.predict(X_test)\n",
    "y_pred_train = LR.predict(X_train)\n",
    "\n",
    "\n",
    "LR_RMSE = mean_squared_error(y_test, y_pred)**0.5\n",
    "LR_RMSE_train = mean_squared_error(y_train, y_pred_train)**0.5\n",
    "\n",
    "LR_f_score = f1_score(y_test, y_pred, average='micro')\n",
    "LR_f_score_train = f1_score(y_train, y_pred_train, average='micro')\n",
    "\n",
    "LR_class_report = classification_report(y_test, y_pred)\n",
    "LR_class_report_train = classification_report(y_train, y_pred_train)\n",
    "\n",
    "LR_dict = classification_report(y_test, y_pred, output_dict=True)\n",
    "# Compute confusion matrix\n",
    "cnf_matrix = confusion_matrix(y_test, y_pred, labels=[1,0])\n",
    "np.set_printoptions(precision=2)\n",
    "# Plot non-normalized confusion matrix\n",
    "plt.figure()\n",
    "plot_confusion_matrix(cnf_matrix, classes=['RECUPERADOS', 'FALLECIDOS'],normalize=False,  title='LR Confusion matrix')"
   ]
  },
  {
   "cell_type": "code",
   "execution_count": 20,
   "id": "fe858cfd",
   "metadata": {},
   "outputs": [
    {
     "name": "stdout",
     "output_type": "stream",
     "text": [
      "Logistic Regression train RMSE: 0.3255\n",
      "Logistic Regression test RMSE: 0.3233\n",
      "\n",
      "Logistic Regression TRAIN classification report:\n",
      "\n",
      "               precision    recall  f1-score   support\n",
      "\n",
      "           0       0.58      0.24      0.34     15733\n",
      "           1       0.91      0.98      0.94    123548\n",
      "\n",
      "    accuracy                           0.89    139281\n",
      "   macro avg       0.74      0.61      0.64    139281\n",
      "weighted avg       0.87      0.89      0.87    139281\n",
      "\n",
      "Logistic Regression TEST classification report:\n",
      "\n",
      "               precision    recall  f1-score   support\n",
      "\n",
      "           0       0.56      0.23      0.33      3843\n",
      "           1       0.91      0.98      0.94     30978\n",
      "\n",
      "    accuracy                           0.90     34821\n",
      "   macro avg       0.74      0.61      0.64     34821\n",
      "weighted avg       0.87      0.90      0.88     34821\n",
      "\n"
     ]
    }
   ],
   "source": [
    "\n",
    "print('Logistic Regression train RMSE:', round(LR_RMSE_train, 4))\n",
    "print('Logistic Regression test RMSE:', round(LR_RMSE, 4))\n",
    "\n",
    "print('\\nLogistic Regression TRAIN classification report:\\n\\n', LR_class_report_train)\n",
    "print('Logistic Regression TEST classification report:\\n\\n', LR_class_report)"
   ]
  },
  {
   "cell_type": "markdown",
   "id": "e2c22736",
   "metadata": {},
   "source": [
    "### OPTIMIZE FOR ACCURACY"
   ]
  },
  {
   "cell_type": "code",
   "execution_count": 21,
   "id": "90d14ba1",
   "metadata": {},
   "outputs": [
    {
     "data": {
      "text/html": [
       "<div>\n",
       "<style scoped>\n",
       "    .dataframe tbody tr th:only-of-type {\n",
       "        vertical-align: middle;\n",
       "    }\n",
       "\n",
       "    .dataframe tbody tr th {\n",
       "        vertical-align: top;\n",
       "    }\n",
       "\n",
       "    .dataframe thead th {\n",
       "        text-align: right;\n",
       "    }\n",
       "</style>\n",
       "<table border=\"1\" class=\"dataframe\">\n",
       "  <thead>\n",
       "    <tr style=\"text-align: right;\">\n",
       "      <th></th>\n",
       "      <th>newton-cg</th>\n",
       "      <th>lbfgs</th>\n",
       "      <th>liblinear</th>\n",
       "      <th>sag</th>\n",
       "      <th>saga</th>\n",
       "    </tr>\n",
       "    <tr>\n",
       "      <th>C</th>\n",
       "      <th></th>\n",
       "      <th></th>\n",
       "      <th></th>\n",
       "      <th></th>\n",
       "      <th></th>\n",
       "    </tr>\n",
       "  </thead>\n",
       "  <tbody>\n",
       "    <tr>\n",
       "      <th>0.0001</th>\n",
       "      <td>0.892689</td>\n",
       "      <td>0.892689</td>\n",
       "      <td>0.892689</td>\n",
       "      <td>0.892689</td>\n",
       "      <td>0.892689</td>\n",
       "    </tr>\n",
       "    <tr>\n",
       "      <th>0.0010</th>\n",
       "      <td>0.892689</td>\n",
       "      <td>0.892689</td>\n",
       "      <td>0.892689</td>\n",
       "      <td>0.892689</td>\n",
       "      <td>0.892689</td>\n",
       "    </tr>\n",
       "    <tr>\n",
       "      <th>0.0100</th>\n",
       "      <td>0.892689</td>\n",
       "      <td>0.892689</td>\n",
       "      <td>0.892689</td>\n",
       "      <td>0.892689</td>\n",
       "      <td>0.892689</td>\n",
       "    </tr>\n",
       "    <tr>\n",
       "      <th>0.1000</th>\n",
       "      <td>0.892689</td>\n",
       "      <td>0.892689</td>\n",
       "      <td>0.892689</td>\n",
       "      <td>0.892689</td>\n",
       "      <td>0.892689</td>\n",
       "    </tr>\n",
       "    <tr>\n",
       "      <th>1.0000</th>\n",
       "      <td>0.892689</td>\n",
       "      <td>0.892689</td>\n",
       "      <td>0.892689</td>\n",
       "      <td>0.892689</td>\n",
       "      <td>0.892689</td>\n",
       "    </tr>\n",
       "    <tr>\n",
       "      <th>10.0000</th>\n",
       "      <td>0.892689</td>\n",
       "      <td>0.892689</td>\n",
       "      <td>0.892689</td>\n",
       "      <td>0.892689</td>\n",
       "      <td>0.892689</td>\n",
       "    </tr>\n",
       "    <tr>\n",
       "      <th>100.0000</th>\n",
       "      <td>0.892689</td>\n",
       "      <td>0.892689</td>\n",
       "      <td>0.892689</td>\n",
       "      <td>0.892689</td>\n",
       "      <td>0.892689</td>\n",
       "    </tr>\n",
       "  </tbody>\n",
       "</table>\n",
       "</div>"
      ],
      "text/plain": [
       "          newton-cg     lbfgs  liblinear       sag      saga\n",
       "C                                                           \n",
       "0.0001     0.892689  0.892689   0.892689  0.892689  0.892689\n",
       "0.0010     0.892689  0.892689   0.892689  0.892689  0.892689\n",
       "0.0100     0.892689  0.892689   0.892689  0.892689  0.892689\n",
       "0.1000     0.892689  0.892689   0.892689  0.892689  0.892689\n",
       "1.0000     0.892689  0.892689   0.892689  0.892689  0.892689\n",
       "10.0000    0.892689  0.892689   0.892689  0.892689  0.892689\n",
       "100.0000   0.892689  0.892689   0.892689  0.892689  0.892689"
      ]
     },
     "execution_count": 21,
     "metadata": {},
     "output_type": "execute_result"
    }
   ],
   "source": [
    "solvers = ['newton-cg', 'lbfgs', 'liblinear', 'sag', 'saga']\n",
    "cs = [0.0001, 0.001, 0.01, 0.1, 1, 10, 100]\n",
    "results_df = pd.DataFrame(index=cs)\n",
    "results_df.index.name='C'\n",
    "for s in solvers:\n",
    "    results = []\n",
    "    for c in cs:\n",
    "        LR = LogisticRegression(C=c, solver=s, max_iter=4000, random_state=42).fit(X_train,y_train)\n",
    "        yhat = LR.predict(X_test)\n",
    "        j_score = jaccard_score(y_test, y_pred)\n",
    "        results.append(j_score)\n",
    "    results_df[s] = results\n",
    "results_df"
   ]
  },
  {
   "cell_type": "code",
   "execution_count": 23,
   "id": "93816c48",
   "metadata": {},
   "outputs": [
    {
     "name": "stdout",
     "output_type": "stream",
     "text": [
      "Confusion matrix, without normalization\n"
     ]
    },
    {
     "data": {
      "image/png": "[encoded data removed]",
      "text/plain": [
       "<Figure size 432x288 with 2 Axes>"
      ]
     },
     "metadata": {
      "needs_background": "light"
     },
     "output_type": "display_data"
    }
   ],
   "source": [
    "import itertools\n",
    "\n",
    "\n",
    "# Ejecutamos logistic regression classifier y mostramos resultados\n",
    "\n",
    "LR = LogisticRegression(C=0.0001, solver='newton-cg', random_state=42).fit(X_train,y_train)\n",
    "y_pred = LR.predict(X_test)\n",
    "y_pred_train = LR.predict(X_train)\n",
    "\n",
    "LR_j_score = jaccard_score(y_test, y_pred)\n",
    "LR_j_score_train = jaccard_score(y_train, y_pred_train)\n",
    "\n",
    "LR_f_score = f1_score(y_test, y_pred, average='weighted')\n",
    "LR_f_score_train = f1_score(y_train, y_pred_train, average='weighted')\n",
    "\n",
    "LR_class_report = classification_report(y_test, y_pred)\n",
    "LR_class_report_train = classification_report(y_train, y_pred_train)\n",
    "\n",
    "LR_dict = classification_report(y_test, y_pred, output_dict=True)\n",
    "# Compute confusion matrix\n",
    "cnf_matrix = confusion_matrix(y_test, y_pred, labels=[1,0])\n",
    "np.set_printoptions(precision=2)\n",
    "# Plot non-normalized confusion matrix\n",
    "plt.figure()\n",
    "plot_confusion_matrix(cnf_matrix, classes=['RECUPERADOS','FALLECIDOS'],normalize=False,  title='LR Confusion matrix')"
   ]
  },
  {
   "cell_type": "code",
   "execution_count": 25,
   "id": "3e6ef19a",
   "metadata": {},
   "outputs": [
    {
     "name": "stdout",
     "output_type": "stream",
     "text": [
      "Logistic Regression TRAIN jaccard score: 0.8904\n",
      "Logistic Regression TEST jaccard score: 0.8924\n",
      "\n",
      "Logistic Regression TRAIN classification report:\n",
      "\n",
      "               precision    recall  f1-score   support\n",
      "\n",
      "           0       0.60      0.13      0.21     15733\n",
      "           1       0.90      0.99      0.94    123548\n",
      "\n",
      "    accuracy                           0.89    139281\n",
      "   macro avg       0.75      0.56      0.58    139281\n",
      "weighted avg       0.87      0.89      0.86    139281\n",
      "\n",
      "Logistic Regression TEST classification report:\n",
      "\n",
      "               precision    recall  f1-score   support\n",
      "\n",
      "           0       0.59      0.12      0.20      3843\n",
      "           1       0.90      0.99      0.94     30978\n",
      "\n",
      "    accuracy                           0.89     34821\n",
      "   macro avg       0.75      0.56      0.57     34821\n",
      "weighted avg       0.87      0.89      0.86     34821\n",
      "\n"
     ]
    }
   ],
   "source": [
    "print('Logistic Regression TRAIN jaccard score:', round(LR_j_score_train, 4))\n",
    "print('Logistic Regression TEST jaccard score:', round(LR_j_score, 4))\n",
    "\n",
    "print('\\nLogistic Regression TRAIN classification report:\\n\\n', LR_class_report_train)\n",
    "print('Logistic Regression TEST classification report:\\n\\n', LR_class_report)"
   ]
  },
  {
   "cell_type": "markdown",
   "id": "aca3be14",
   "metadata": {},
   "source": [
    "## Decision Tree Classifier"
   ]
  },
  {
   "cell_type": "code",
   "execution_count": 26,
   "id": "2c41ae98",
   "metadata": {},
   "outputs": [
    {
     "data": {
      "image/png": "[encoded data removed]",
      "text/plain": [
       "<Figure size 432x288 with 1 Axes>"
      ]
     },
     "metadata": {
      "needs_background": "light"
     },
     "output_type": "display_data"
    },
    {
     "name": "stdout",
     "output_type": "stream",
     "text": [
      "The best RMSE is 0.3278 with depth= 7\n"
     ]
    }
   ],
   "source": [
    "# Encuentra los mejores hiperparámetros para el decision tree classifier\n",
    "\n",
    "#Usamos Cross Validation para encontrar la profundidad que de la precisión óptima\n",
    "\n",
    "depth = 20 #20\n",
    "mean_sqe = np.zeros((depth-1))\n",
    "for n in range(1,depth): \n",
    "    DT = DecisionTreeClassifier(criterion=\"entropy\", max_depth = n, random_state=42).fit(X_train,y_train)\n",
    "    y_pred=DT.predict(X_test)\n",
    "    \n",
    "    mean_sqe[n-1] = mean_squared_error(y_test, y_pred)**0.5\n",
    "plt.plot(range(1,depth),mean_sqe,'g')\n",
    "plt.ylabel('RMSE')\n",
    "plt.xlabel('Depth')\n",
    "plt.show()\n",
    "print(\"The best RMSE is\", round(mean_sqe.min(), 4), \"with depth=\", mean_sqe.argmin()+1)"
   ]
  },
  {
   "cell_type": "code",
   "execution_count": 30,
   "id": "afbe20f4",
   "metadata": {},
   "outputs": [
    {
     "name": "stdout",
     "output_type": "stream",
     "text": [
      "Confusion matrix, without normalization\n"
     ]
    },
    {
     "data": {
      "image/png": "[encoded data removed]",
      "text/plain": [
       "<Figure size 432x288 with 2 Axes>"
      ]
     },
     "metadata": {
      "needs_background": "light"
     },
     "output_type": "display_data"
    }
   ],
   "source": [
    "DT = DecisionTreeClassifier(criterion=\"entropy\", max_depth = 7, random_state=42).fit(X_train, y_train)\n",
    "y_pred = DT.predict(X_test)\n",
    "y_pred_train = DT.predict(X_train)\n",
    "\n",
    "\n",
    "DT_RMSE = mean_squared_error(y_test, y_pred)**0.5\n",
    "DT_RMSE_train = mean_squared_error(y_train, y_pred_train)**0.5\n",
    "\n",
    "DT_f_score = f1_score(y_test, y_pred, average='macro')\n",
    "DT_f_score_train = f1_score(y_train, y_pred_train, average='macro')\n",
    "\n",
    "DT_class_report = classification_report(y_test, y_pred)\n",
    "DT_class_report_train = classification_report(y_train, y_pred_train)\n",
    "\n",
    "DT_dict = classification_report(y_test, yhat, output_dict=True)\n",
    "# Compute confusion matrix\n",
    "cnf_matrix = confusion_matrix(y_test, y_pred, labels=[1,0])\n",
    "np.set_printoptions(precision=2)\n",
    "# Plot non-normalized confusion matrix\n",
    "plt.figure()\n",
    "plot_confusion_matrix(cnf_matrix, classes=['RECUPERADOS', 'FALLECIDOS'],normalize=False,  title='LR Confusion matrix')"
   ]
  },
  {
   "cell_type": "code",
   "execution_count": 76,
   "id": "2a9cc0f4",
   "metadata": {},
   "outputs": [
    {
     "name": "stdout",
     "output_type": "stream",
     "text": [
      "Decission Tree Classifier train RMSE: 0.3287\n",
      "Decission Tree Classifier RMSE: 0.3258\n",
      "\\Decission Tree Classifier TRAIN classification report:\n",
      "\n",
      "               precision    recall  f1-score   support\n",
      "\n",
      "           0       0.60      0.13      0.21     15733\n",
      "           1       0.90      0.99      0.94    123548\n",
      "\n",
      "    accuracy                           0.89    139281\n",
      "   macro avg       0.75      0.56      0.58    139281\n",
      "weighted avg       0.87      0.89      0.86    139281\n",
      "\n",
      "Decission Tree Classifier TEST classification report:\n",
      "\n",
      "               precision    recall  f1-score   support\n",
      "\n",
      "           0       0.59      0.12      0.20      3843\n",
      "           1       0.90      0.99      0.94     30978\n",
      "\n",
      "    accuracy                           0.89     34821\n",
      "   macro avg       0.75      0.56      0.57     34821\n",
      "weighted avg       0.87      0.89      0.86     34821\n",
      "\n"
     ]
    }
   ],
   "source": [
    "print('Decission Tree Classifier train RMSE:', round(DT_RMSE_train, 4))\n",
    "print('Decission Tree Classifier RMSE:', round(DT_RMSE, 4))\n",
    "\n",
    "print('\\nDecission Tree Classifier TRAIN classification report:\\n\\n', DT_class_report_train)\n",
    "print('Decission Tree Classifier TEST classification report:\\n\\n', DT_class_report)"
   ]
  },
  {
   "cell_type": "markdown",
   "id": "0069529b",
   "metadata": {},
   "source": [
    "## Random Forest Classifier"
   ]
  },
  {
   "cell_type": "code",
   "execution_count": 46,
   "id": "b3e062f6",
   "metadata": {},
   "outputs": [],
   "source": [
    "n_estimators = [500, 700]\n",
    "max_depth = [15, 25]\n",
    "min_samples_split = [15, 100]"
   ]
  },
  {
   "cell_type": "code",
   "execution_count": 47,
   "id": "67bebf69",
   "metadata": {},
   "outputs": [],
   "source": [
    "gs = GridSearchCV(\n",
    "    estimator = RandomForestClassifier(), \n",
    "    param_grid = {\n",
    "          \"n_estimators\" : n_estimators,\n",
    "          \"max_depth\" : max_depth,\n",
    "          },\n",
    "          cv=5,\n",
    "          verbose=3,\n",
    "          scoring = \"neg_root_mean_squared_error\",\n",
    "          return_train_score = True\n",
    ")"
   ]
  },
  {
   "cell_type": "code",
   "execution_count": 48,
   "id": "9fdab6eb",
   "metadata": {},
   "outputs": [
    {
     "name": "stdout",
     "output_type": "stream",
     "text": [
      "Fitting 5 folds for each of 4 candidates, totalling 20 fits\n",
      "[CV 1/5] END max_depth=15, n_estimators=500;, score=(train=-0.280, test=-0.322) total time=  48.8s\n",
      "[CV 2/5] END max_depth=15, n_estimators=500;, score=(train=-0.278, test=-0.328) total time=  49.0s\n",
      "[CV 3/5] END max_depth=15, n_estimators=500;, score=(train=-0.278, test=-0.326) total time=  48.0s\n",
      "[CV 4/5] END max_depth=15, n_estimators=500;, score=(train=-0.278, test=-0.327) total time=  52.8s\n",
      "[CV 5/5] END max_depth=15, n_estimators=500;, score=(train=-0.278, test=-0.324) total time=  48.9s\n",
      "[CV 1/5] END max_depth=15, n_estimators=700;, score=(train=-0.280, test=-0.322) total time= 1.1min\n",
      "[CV 2/5] END max_depth=15, n_estimators=700;, score=(train=-0.277, test=-0.328) total time= 1.1min\n",
      "[CV 3/5] END max_depth=15, n_estimators=700;, score=(train=-0.278, test=-0.326) total time= 1.1min\n",
      "[CV 4/5] END max_depth=15, n_estimators=700;, score=(train=-0.278, test=-0.326) total time= 1.2min\n",
      "[CV 5/5] END max_depth=15, n_estimators=700;, score=(train=-0.278, test=-0.325) total time= 1.1min\n",
      "[CV 1/5] END max_depth=25, n_estimators=500;, score=(train=-0.216, test=-0.332) total time= 1.0min\n",
      "[CV 2/5] END max_depth=25, n_estimators=500;, score=(train=-0.215, test=-0.338) total time= 1.0min\n",
      "[CV 3/5] END max_depth=25, n_estimators=500;, score=(train=-0.214, test=-0.337) total time= 1.0min\n",
      "[CV 4/5] END max_depth=25, n_estimators=500;, score=(train=-0.215, test=-0.337) total time= 1.0min\n",
      "[CV 5/5] END max_depth=25, n_estimators=500;, score=(train=-0.213, test=-0.337) total time= 1.0min\n",
      "[CV 1/5] END max_depth=25, n_estimators=700;, score=(train=-0.216, test=-0.333) total time= 1.4min\n",
      "[CV 2/5] END max_depth=25, n_estimators=700;, score=(train=-0.215, test=-0.338) total time= 1.4min\n",
      "[CV 3/5] END max_depth=25, n_estimators=700;, score=(train=-0.214, test=-0.338) total time= 1.4min\n",
      "[CV 4/5] END max_depth=25, n_estimators=700;, score=(train=-0.215, test=-0.338) total time= 1.5min\n",
      "[CV 5/5] END max_depth=25, n_estimators=700;, score=(train=-0.213, test=-0.337) total time= 1.4min\n",
      "CPU times: user 26min 12s, sys: 18 s, total: 26min 30s\n",
      "Wall time: 26min 38s\n"
     ]
    },
    {
     "data": {
      "text/plain": [
       "GridSearchCV(cv=5, estimator=RandomForestClassifier(),\n",
       "             param_grid={'max_depth': [15, 25], 'n_estimators': [500, 700]},\n",
       "             return_train_score=True, scoring='neg_root_mean_squared_error',\n",
       "             verbose=3)"
      ]
     },
     "execution_count": 48,
     "metadata": {},
     "output_type": "execute_result"
    }
   ],
   "source": [
    "%%time\n",
    "gs.fit(X_train, y_train)"
   ]
  },
  {
   "cell_type": "code",
   "execution_count": 57,
   "id": "f4a95092",
   "metadata": {},
   "outputs": [],
   "source": [
    "grid_search_results = grid_search_results[['param_max_depth',\n",
    "       'mean_test_score', 'mean_train_score']]"
   ]
  },
  {
   "cell_type": "code",
   "execution_count": 52,
   "id": "e3fb1c89",
   "metadata": {},
   "outputs": [
    {
     "data": {
      "text/html": [
       "<div>\n",
       "<style scoped>\n",
       "    .dataframe tbody tr th:only-of-type {\n",
       "        vertical-align: middle;\n",
       "    }\n",
       "\n",
       "    .dataframe tbody tr th {\n",
       "        vertical-align: top;\n",
       "    }\n",
       "\n",
       "    .dataframe thead th {\n",
       "        text-align: right;\n",
       "    }\n",
       "</style>\n",
       "<table border=\"1\" class=\"dataframe\">\n",
       "  <thead>\n",
       "    <tr style=\"text-align: right;\">\n",
       "      <th></th>\n",
       "      <th>param_max_depth</th>\n",
       "      <th>mean_test_score</th>\n",
       "      <th>mean_train_score</th>\n",
       "    </tr>\n",
       "  </thead>\n",
       "  <tbody>\n",
       "    <tr>\n",
       "      <th>0</th>\n",
       "      <td>15</td>\n",
       "      <td>-0.325505</td>\n",
       "      <td>-0.278216</td>\n",
       "    </tr>\n",
       "    <tr>\n",
       "      <th>1</th>\n",
       "      <td>15</td>\n",
       "      <td>-0.325595</td>\n",
       "      <td>-0.278158</td>\n",
       "    </tr>\n",
       "    <tr>\n",
       "      <th>2</th>\n",
       "      <td>25</td>\n",
       "      <td>-0.336365</td>\n",
       "      <td>-0.214613</td>\n",
       "    </tr>\n",
       "    <tr>\n",
       "      <th>3</th>\n",
       "      <td>25</td>\n",
       "      <td>-0.336483</td>\n",
       "      <td>-0.214638</td>\n",
       "    </tr>\n",
       "  </tbody>\n",
       "</table>\n",
       "</div>"
      ],
      "text/plain": [
       "  param_max_depth  mean_test_score  mean_train_score\n",
       "0              15        -0.325505         -0.278216\n",
       "1              15        -0.325595         -0.278158\n",
       "2              25        -0.336365         -0.214613\n",
       "3              25        -0.336483         -0.214638"
      ]
     },
     "execution_count": 52,
     "metadata": {},
     "output_type": "execute_result"
    }
   ],
   "source": [
    "grid_search_results.sort_values(\"mean_test_score\", ascending=False)"
   ]
  },
  {
   "cell_type": "code",
   "execution_count": 53,
   "id": "4ee5d596",
   "metadata": {},
   "outputs": [],
   "source": [
    "best_tree = gs.best_estimator_"
   ]
  },
  {
   "cell_type": "code",
   "execution_count": 54,
   "id": "2eddeaf3",
   "metadata": {},
   "outputs": [
    {
     "data": {
      "text/plain": [
       "RandomForestClassifier(max_depth=15, n_estimators=500)"
      ]
     },
     "execution_count": 54,
     "metadata": {},
     "output_type": "execute_result"
    }
   ],
   "source": [
    "best_tree"
   ]
  },
  {
   "cell_type": "code",
   "execution_count": 58,
   "id": "12c302e5",
   "metadata": {},
   "outputs": [],
   "source": [
    "rmse_train = mean_squared_error(best_tree.predict(X_train), y_train)**0.5\n"
   ]
  },
  {
   "cell_type": "code",
   "execution_count": 60,
   "id": "987e1393",
   "metadata": {},
   "outputs": [
    {
     "data": {
      "text/plain": [
       "0.28"
      ]
     },
     "execution_count": 60,
     "metadata": {},
     "output_type": "execute_result"
    }
   ],
   "source": [
    "round(rmse,2)"
   ]
  },
  {
   "cell_type": "code",
   "execution_count": 61,
   "id": "b4ef10e8",
   "metadata": {},
   "outputs": [],
   "source": [
    "rmse_test = mean_squared_error(best_tree.predict(X_test), y_test)**0.5"
   ]
  },
  {
   "cell_type": "code",
   "execution_count": 63,
   "id": "12083771",
   "metadata": {},
   "outputs": [
    {
     "data": {
      "text/plain": [
       "0.32"
      ]
     },
     "execution_count": 63,
     "metadata": {},
     "output_type": "execute_result"
    }
   ],
   "source": [
    "round(rmse_test,2)"
   ]
  },
  {
   "cell_type": "code",
   "execution_count": 66,
   "id": "ebc68255",
   "metadata": {},
   "outputs": [],
   "source": [
    "feature_imp = pd.Series(best_tree.feature_importances_, index=X.columns).sort_values(ascending=False)"
   ]
  },
  {
   "cell_type": "code",
   "execution_count": 68,
   "id": "d9e7c496",
   "metadata": {},
   "outputs": [],
   "source": [
    "# feature_imp"
   ]
  },
  {
   "cell_type": "code",
   "execution_count": 69,
   "id": "9dfcd97c",
   "metadata": {},
   "outputs": [
    {
     "name": "stdout",
     "output_type": "stream",
     "text": [
      "Confusion matrix, without normalization\n"
     ]
    },
    {
     "data": {
      "image/png": "[encoded data removed]",
      "text/plain": [
       "<Figure size 432x288 with 2 Axes>"
      ]
     },
     "metadata": {
      "needs_background": "light"
     },
     "output_type": "display_data"
    }
   ],
   "source": [
    "RF = RandomForestClassifier(criterion=\"entropy\", max_depth = 15, random_state=42).fit(X_train, y_train)\n",
    "y_pred = RF.predict(X_test)\n",
    "y_pred_train = RF.predict(X_train)\n",
    "\n",
    "\n",
    "RF_RMSE = mean_squared_error(y_test, y_pred)**0.5\n",
    "RF_RMSE_train = mean_squared_error(y_train, y_pred_train)**0.5\n",
    "\n",
    "RF_f_score = f1_score(y_test, y_pred, average='macro')\n",
    "RF_f_score_train = f1_score(y_train, y_pred_train, average='macro')\n",
    "\n",
    "RF_class_report = classification_report(y_test, y_pred)\n",
    "RF_class_report_train = classification_report(y_train, y_pred_train)\n",
    "\n",
    "RF_dict = classification_report(y_test, yhat, output_dict=True)\n",
    "# Compute confusion matrix\n",
    "cnf_matrix = confusion_matrix(y_test, y_pred, labels=[1,0])\n",
    "np.set_printoptions(precision=2)\n",
    "# Plot non-normalized confusion matrix\n",
    "plt.figure()\n",
    "plot_confusion_matrix(cnf_matrix, classes=['RECUPERADOS', 'FALLECIDOS'],normalize=False,  title='LR Confusion matrix')"
   ]
  },
  {
   "cell_type": "code",
   "execution_count": 70,
   "id": "7b66385f",
   "metadata": {},
   "outputs": [
    {
     "name": "stdout",
     "output_type": "stream",
     "text": [
      "Logistic Regression train RMSE: 0.3287\n",
      "Logistic Regression test RMSE: 0.3258\n",
      "\n",
      "Logistic Regression TRAIN classification report:\n",
      "\n",
      "               precision    recall  f1-score   support\n",
      "\n",
      "           0       0.60      0.13      0.21     15733\n",
      "           1       0.90      0.99      0.94    123548\n",
      "\n",
      "    accuracy                           0.89    139281\n",
      "   macro avg       0.75      0.56      0.58    139281\n",
      "weighted avg       0.87      0.89      0.86    139281\n",
      "\n",
      "Logistic Regression TEST classification report:\n",
      "\n",
      "               precision    recall  f1-score   support\n",
      "\n",
      "           0       0.59      0.12      0.20      3843\n",
      "           1       0.90      0.99      0.94     30978\n",
      "\n",
      "    accuracy                           0.89     34821\n",
      "   macro avg       0.75      0.56      0.57     34821\n",
      "weighted avg       0.87      0.89      0.86     34821\n",
      "\n"
     ]
    }
   ],
   "source": [
    "print('Random Forest Classifier TRAIN RMSE:', round(RF_RMSE_train, 4))\n",
    "print('Random Forest TEST RMSE:', round(RF_RMSE, 4))\n",
    "\n",
    "print('\\nRandom Forest Classifier TRAIN classification report:\\n\\n', RF_class_report_train)\n",
    "print('Random Forest Classifier TEST classification report:\\n\\n', RF_class_report)"
   ]
  },
  {
   "cell_type": "markdown",
   "id": "f8c2c775",
   "metadata": {},
   "source": [
    "## K-Nearest Neighbors (KNN) Classifier"
   ]
  },
  {
   "cell_type": "code",
   "execution_count": 71,
   "id": "ab48dfc1",
   "metadata": {},
   "outputs": [],
   "source": [
    "Ks = 38 #38\n",
    "mean_sqr = np.zeros((Ks-1))\n",
    "std_sqr = np.zeros((Ks-1))\n",
    "ConfustionMx = [];\n",
    "for n in range(1,Ks):\n",
    "    #Train Model and Predict  \n",
    "    KNN = KNeighborsClassifier(n_neighbors = n).fit(X_train,y_train)\n",
    "    y_pred= KNN.predict(X_test)\n",
    "    mean_sqr[n-1] = mean_squared_error(y_test, y_pred)**0.5\n",
    "    \n",
    "    std_acc[n-1]=np.std(y_pred==y_test)/np.sqrt(y_pred.shape[0])"
   ]
  },
  {
   "cell_type": "code",
   "execution_count": 74,
   "id": "8ead0b24",
   "metadata": {},
   "outputs": [
    {
     "data": {
      "image/png": "[encoded data removed]",
      "text/plain": [
       "<Figure size 432x288 with 1 Axes>"
      ]
     },
     "metadata": {
      "needs_background": "light"
     },
     "output_type": "display_data"
    },
    {
     "name": "stdout",
     "output_type": "stream",
     "text": [
      "The best RMSE was with 0.3256 with k= 37\n"
     ]
    }
   ],
   "source": [
    "plt.plot(range(1,Ks),mean_sqr,'g')\n",
    "plt.fill_between(range(1,Ks),mean_sqr - 1 * std_sqr,mean_sqr + 1 * std_sqr, alpha=0.10)\n",
    "plt.legend(('RMSE ', '+/- 3xstd'))\n",
    "\n",
    "plt.ylabel('RMSE')\n",
    "plt.xlabel('Number of Neighbors (K)')\n",
    "plt.show()\n",
    "print(\"The best RMSE was with\", round(mean_sqr.min(), 4), \"with k=\", mean_sqr.argmin()+1)"
   ]
  },
  {
   "cell_type": "code",
   "execution_count": 78,
   "id": "36d79840",
   "metadata": {},
   "outputs": [
    {
     "name": "stdout",
     "output_type": "stream",
     "text": [
      "Confusion matrix, without normalization\n"
     ]
    },
    {
     "data": {
      "image/png": "[encoded data removed]",
      "text/plain": [
       "<Figure size 432x288 with 2 Axes>"
      ]
     },
     "metadata": {
      "needs_background": "light"
     },
     "output_type": "display_data"
    }
   ],
   "source": [
    "KNN = KNeighborsClassifier(n_neighbors = 37).fit(X_train,y_train)\n",
    "y_pred = KNN.predict(X_test)\n",
    "y_pred_train = KNN.predict(X_train)\n",
    "\n",
    "\n",
    "KNN_RMSE = mean_squared_error(y_test, y_pred)**0.5\n",
    "KNN_RMSE_train = mean_squared_error(y_train, y_pred_train)**0.5\n",
    "\n",
    "KNN_f_score = f1_score(y_test, y_pred, average='weighted')\n",
    "KNN_f_score_train = f1_score(y_train, y_pred_train, average='weighted')\n",
    "\n",
    "KNN_class_report = classification_report(y_test, y_pred)\n",
    "KNN_class_report_train = classification_report(y_train, y_pred_train)\n",
    "\n",
    "KNN_dict = classification_report(y_test, y_pred, output_dict=True)\n",
    "# Compute confusion matrix\n",
    "cnf_matrix = confusion_matrix(y_test, y_pred, labels=[1,0])\n",
    "np.set_printoptions(precision=2)\n",
    "# Plot non-normalized confusion matrix\n",
    "plt.figure()\n",
    "plot_confusion_matrix(cnf_matrix, classes=['RECUPERADOS', 'FALLECIDOS'],normalize=False,  title='LR Confusion matrix')"
   ]
  },
  {
   "cell_type": "code",
   "execution_count": 77,
   "id": "c696d951",
   "metadata": {},
   "outputs": [
    {
     "name": "stdout",
     "output_type": "stream",
     "text": [
      "KNN Classifier TRAIN RMSE: 0.3287\n",
      "KNN Classifier TEST RMSE: 0.3258\n",
      "\n",
      "KNN Classifier TRAIN TRAIN classification report:\n",
      "\n",
      "               precision    recall  f1-score   support\n",
      "\n",
      "           0       0.60      0.13      0.21     15733\n",
      "           1       0.90      0.99      0.94    123548\n",
      "\n",
      "    accuracy                           0.89    139281\n",
      "   macro avg       0.75      0.56      0.58    139281\n",
      "weighted avg       0.87      0.89      0.86    139281\n",
      "\n",
      "KNN Classifier TRAIN TEST classification report:\n",
      "\n",
      "               precision    recall  f1-score   support\n",
      "\n",
      "           0       0.59      0.12      0.20      3843\n",
      "           1       0.90      0.99      0.94     30978\n",
      "\n",
      "    accuracy                           0.89     34821\n",
      "   macro avg       0.75      0.56      0.57     34821\n",
      "weighted avg       0.87      0.89      0.86     34821\n",
      "\n"
     ]
    }
   ],
   "source": [
    "print('KNN Classifier TRAIN RMSE:', round(KNN_RMSE_train, 4))\n",
    "print('KNN Classifier TEST RMSE:', round(KNN_RMSE, 4))\n",
    "\n",
    "print('\\nKNN Classifier TRAIN TRAIN classification report:\\n\\n', KNN_class_report_train)\n",
    "print('KNN Classifier TRAIN TEST classification report:\\n\\n', KNN_class_report)"
   ]
  },
  {
   "cell_type": "markdown",
   "id": "d3a3d79d",
   "metadata": {},
   "source": [
    "## Naive Bayes Classifier"
   ]
  },
  {
   "cell_type": "code",
   "execution_count": null,
   "id": "e276695a",
   "metadata": {},
   "outputs": [],
   "source": [
    "from sklearn.naive_bayes import GaussianNB\n",
    "\n",
    "gnb = GaussianNB().fit(X_train, y_train)\n",
    "yhat = gnb.predict(X_test)\n",
    "yhat_train = gnb.predict(X_train)\n",
    "\n",
    "\n",
    "gnb_j_score = jaccard_score(y_test, yhat)\n",
    "gnb_j_score_train = jaccard_score(y_train, yhat_train)\n",
    "\n",
    "\n",
    "gnb_f_score = f1_score(y_test, yhat, average='weighted')\n",
    "gnb_f_score_train = f1_score(y_train, yhat_train, average='weighted')\n",
    "\n",
    "\n",
    "gnb_class_report = classification_report(y_test, yhat)\n",
    "gnb_class_report_train = classification_report(y_train, yhat_train)\n",
    "\n",
    "\n",
    "gnb_dict = classification_report(y_test, yhat, output_dict=True)\n",
    "# confusion matrix\n",
    "cnf_matrix = confusion_matrix(y_test, yhat, labels=[0,1])\n",
    "np.set_printoptions(precision=2)\n",
    "# Plot non-normalized confusion matrix\n",
    "plt.figure()\n",
    "plot_confusion_matrix(cnf_matrix, classes=['Fallecido','Recuperado'],normalize=False,  title='GaussianNB Confusion matrix')"
   ]
  }
 ],
 "metadata": {
  "kernelspec": {
   "display_name": "Python 3 (ipykernel)",
   "language": "python",
   "name": "python3"
  },
  "language_info": {
   "codemirror_mode": {
    "name": "ipython",
    "version": 3
   },
   "file_extension": ".py",
   "mimetype": "text/x-python",
   "name": "python",
   "nbconvert_exporter": "python",
   "pygments_lexer": "ipython3",
   "version": "3.9.2"
  }
 },
 "nbformat": 4,
 "nbformat_minor": 5
}
