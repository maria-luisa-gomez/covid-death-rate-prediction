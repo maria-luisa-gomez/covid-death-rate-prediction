{
 "cells": [
  {
   "cell_type": "code",
   "execution_count": 1,
   "id": "33930de0",
   "metadata": {},
   "outputs": [],
   "source": [
    "import pandas as pd\n",
    "import numpy as np\n",
    "\n",
    "import datetime\n",
    "import seaborn as sns\n",
    "import matplotlib.pyplot as plt\n",
    "from numpy import median\n",
    "from sklearn.utils import resample\n",
    "\n",
    "# ALGOS\n",
    "from sklearn import preprocessing\n",
    "from sklearn.model_selection import train_test_split\n",
    "from sklearn.linear_model import LogisticRegression\n",
    "from sklearn.tree import DecisionTreeClassifier\n",
    "from sklearn.neighbors import KNeighborsClassifier\n",
    "from sklearn.ensemble import RandomForestClassifier\n",
    "from sklearn.naive_bayes import GaussianNB\n",
    "from sklearn import svm\n",
    "\n",
    "\n",
    "from sklearn import metrics\n",
    "from sklearn.utils import resample\n",
    "from imblearn.over_sampling import SMOTE\n",
    "from sklearn.model_selection import cross_val_score\n",
    "from sklearn.model_selection import GridSearchCV\n",
    "from sklearn.metrics import confusion_matrix\n",
    "from sklearn.metrics import jaccard_score\n",
    "from sklearn.metrics import mean_squared_log_error,mean_squared_error, r2_score, mean_absolute_error\n",
    "from sklearn.metrics import classification_report, confusion_matrix\n",
    "from sklearn.metrics import f1_score\n",
    "from sklearn.metrics import log_loss\n",
    "from sklearn.metrics import roc_auc_score, roc_curve, auc, precision_recall_curve\n",
    "\n",
    "\n",
    "\n",
    "import warnings\n",
    "\n",
    "warnings.filterwarnings('ignore')"
   ]
  },
  {
   "cell_type": "code",
   "execution_count": null,
   "id": "889bba0a",
   "metadata": {},
   "outputs": [],
   "source": [
    "# !pip install imbalanced-learn"
   ]
  },
  {
   "cell_type": "code",
   "execution_count": 2,
   "id": "e81ff2b1",
   "metadata": {},
   "outputs": [],
   "source": [
    "modelling_df = pd.read_csv('../data/sinave4.csv')"
   ]
  },
  {
   "cell_type": "code",
   "execution_count": 3,
   "id": "2e7df6da",
   "metadata": {},
   "outputs": [
    {
     "data": {
      "text/plain": [
       "(341990, 74)"
      ]
     },
     "execution_count": 3,
     "metadata": {},
     "output_type": "execute_result"
    }
   ],
   "source": [
    "modelling_df.shape"
   ]
  },
  {
   "cell_type": "code",
   "execution_count": null,
   "id": "402efc86",
   "metadata": {},
   "outputs": [],
   "source": [
    "# modelling_df.info()"
   ]
  },
  {
   "cell_type": "code",
   "execution_count": null,
   "id": "b2177a87",
   "metadata": {},
   "outputs": [],
   "source": [
    "modelling_df['estado'].value_counts(normalize = True)"
   ]
  },
  {
   "cell_type": "code",
   "execution_count": null,
   "id": "e1253a73",
   "metadata": {},
   "outputs": [],
   "source": [
    "# modelling_df['estado'].value_counts()"
   ]
  },
  {
   "cell_type": "code",
   "execution_count": null,
   "id": "f9eff79d",
   "metadata": {},
   "outputs": [],
   "source": [
    "ax = modelling_df['estado'].value_counts().plot(kind='bar', figsize=(10, 6), fontsize=13, color='#087E8B')\n",
    "ax.set_title('Estado', size=20, pad=30)\n",
    "ax.set_ylabel('Número de casos', fontsize=14)\n",
    "\n",
    "for i in ax.patches:\n",
    "    ax.text(i.get_x() + 0.10, i.get_height() + 700, str(round(i.get_height(), 2)), fontsize=15)"
   ]
  },
  {
   "cell_type": "code",
   "execution_count": null,
   "id": "dce863af",
   "metadata": {},
   "outputs": [],
   "source": [
    "sintomas_list = ['fiebre', 'tos','odinofagia','disnea','irritabilidad','diarrea','dolor_toracico','calofrios', 'cefalea','mialgias','artralgias','ataque_al_estado_general','rinorrea','polipnea','vomito','dolor_abdominal','conjuntivitis','cianosis']\n",
    "patologias_list = ['diabetes', 'epoc', 'asma', 'inmunosupresivo','hipertension', 'VIH_SIDA', 'otra_condicion', 'enfermedad_cardiaca','obesidad', 'insuficiencia_renal_cronica', 'tabaquismo']"
   ]
  },
  {
   "cell_type": "code",
   "execution_count": null,
   "id": "9e72fb1b",
   "metadata": {},
   "outputs": [],
   "source": [
    "# modelling_df3 = modelling_df.copy()"
   ]
  },
  {
   "cell_type": "code",
   "execution_count": 10,
   "id": "993fc5fb",
   "metadata": {},
   "outputs": [],
   "source": [
    "modelling_df3_2cat = modelling_df.copy()"
   ]
  },
  {
   "cell_type": "code",
   "execution_count": null,
   "id": "0b9fc052",
   "metadata": {},
   "outputs": [],
   "source": [
    "# modelling_df3_2cat['estado'].replace(to_replace=['ACTIVOS LEVES', 'RECUPERADOS', 'FALLECIDOS', 'ACTIVOS GRAVES'],value=['RECUPERADOS','RECUPERADOS','FALLECIDOS','FALLECIDOS'],inplace=True)"
   ]
  },
  {
   "cell_type": "code",
   "execution_count": 11,
   "id": "761f4388",
   "metadata": {},
   "outputs": [],
   "source": [
    "modelling_df3_2cat = modelling_df3_2cat[modelling_df3_2cat[\"estado\"].isin(['RECUPERADOS','FALLECIDOS'])]"
   ]
  },
  {
   "cell_type": "code",
   "execution_count": 12,
   "id": "771bf53c",
   "metadata": {},
   "outputs": [
    {
     "data": {
      "text/plain": [
       "array(['RECUPERADOS', 'FALLECIDOS'], dtype=object)"
      ]
     },
     "execution_count": 12,
     "metadata": {},
     "output_type": "execute_result"
    }
   ],
   "source": [
    "modelling_df3_2cat.estado.unique()"
   ]
  },
  {
   "cell_type": "code",
   "execution_count": 13,
   "id": "f707f275",
   "metadata": {},
   "outputs": [],
   "source": [
    "# Convert to dummies\n",
    "modelling_df3_2cat['estado'].replace(to_replace=['RECUPERADOS', 'FALLECIDOS'], \n",
    "                                     value=[1,0],inplace=True)"
   ]
  },
  {
   "cell_type": "markdown",
   "id": "19fc49dc",
   "metadata": {},
   "source": [
    "# BALANCED BICLASS"
   ]
  },
  {
   "cell_type": "markdown",
   "id": "0d9862ef",
   "metadata": {},
   "source": [
    "### SMOTE"
   ]
  },
  {
   "cell_type": "code",
   "execution_count": 14,
   "id": "9bc1a7fa",
   "metadata": {},
   "outputs": [],
   "source": [
    "sm = SMOTE(random_state = 42)"
   ]
  },
  {
   "cell_type": "code",
   "execution_count": 15,
   "id": "b0667c3f",
   "metadata": {},
   "outputs": [],
   "source": [
    "features = ['fiebre', 'tos','odinofagia','disnea','irritabilidad','diarrea','dolor_toracico','calofrios', 'cefalea','mialgias','artralgias','ataque_al_estado_general','rinorrea','polipnea','vomito','dolor_abdominal','conjuntivitis','cianosis','diabetes', 'epoc', 'asma', 'inmunosupresivo','hipertension', 'VIH_SIDA', 'otra_condicion', 'enfermedad_cardiaca','obesidad', 'insuficiencia_renal_cronica', 'tabaquismo', 'diabetes', 'epoc', 'asma', 'inmunosupresivo',\n",
    "       'hipertension', 'VIH_SIDA', 'otra_condicion', 'enfermedad_cardiaca',\n",
    "       'obesidad', 'insuficiencia_renal_cronica', 'tabaquismo']"
   ]
  },
  {
   "cell_type": "code",
   "execution_count": 17,
   "id": "eca7f448",
   "metadata": {},
   "outputs": [],
   "source": [
    "X = modelling_df3_2cat[features].copy()\n",
    "y = modelling_df3_2cat['estado'].copy()"
   ]
  },
  {
   "cell_type": "code",
   "execution_count": 18,
   "id": "49b13231",
   "metadata": {},
   "outputs": [],
   "source": [
    "X = np.array(X)"
   ]
  },
  {
   "cell_type": "code",
   "execution_count": 19,
   "id": "30593da0",
   "metadata": {},
   "outputs": [],
   "source": [
    "X, y = sm.fit_resample(X, y)"
   ]
  },
  {
   "cell_type": "code",
   "execution_count": 20,
   "id": "9c766b1b",
   "metadata": {},
   "outputs": [
    {
     "name": "stdout",
     "output_type": "stream",
     "text": [
      "Class=1, n=154526 (50.000%)\n",
      "Class=0, n=154526 (50.000%)\n"
     ]
    }
   ],
   "source": [
    "from collections import Counter\n",
    "counter = Counter(y)\n",
    "\n",
    "for k,v in counter.items():\n",
    "    per = v / len(y) * 100\n",
    "    print('Class=%d, n=%d (%.3f%%)' % (k, v, per))"
   ]
  },
  {
   "cell_type": "code",
   "execution_count": 21,
   "id": "df64fed9",
   "metadata": {},
   "outputs": [
    {
     "name": "stdout",
     "output_type": "stream",
     "text": [
      "Train set: (247241, 40) (247241,)\n",
      "Test set: (61811, 40) (61811,)\n"
     ]
    }
   ],
   "source": [
    "X_train, X_test, y_train, y_test = train_test_split(X, y, test_size=0.2, random_state=42)\n",
    "print ('Train set:', X_train.shape,  y_train.shape)\n",
    "print ('Test set:', X_test.shape,  y_test.shape)"
   ]
  },
  {
   "cell_type": "code",
   "execution_count": 22,
   "id": "727f0ccd",
   "metadata": {},
   "outputs": [],
   "source": [
    "# estandarizamos los datos\n",
    "\n",
    "ss = preprocessing.StandardScaler().fit(X_train.astype(np.float))\n",
    "X_train = ss.transform(X_train.astype(np.float))\n",
    "X_test = ss.transform(X_test.astype(np.float))"
   ]
  },
  {
   "cell_type": "markdown",
   "id": "9c92ef11",
   "metadata": {},
   "source": [
    "## Logistic Regression Classifier"
   ]
  },
  {
   "cell_type": "code",
   "execution_count": 23,
   "id": "f12b1c7f",
   "metadata": {},
   "outputs": [],
   "source": [
    "# Confusion Matrix plotting function\n",
    "# https://towardsdatascience.com/multi-class-classification-extracting-performance-metrics-from-the-confusion-matrix-b379b427a872\n",
    "\n",
    "def plot_confusion_matrix(cm, classes,\n",
    "                          normalize=False,\n",
    "                          title='Confusion matrix',\n",
    "                          cmap=plt.cm.Blues):\n",
    "    if normalize:\n",
    "        cm = cm.astype('float') / cm.sum(axis=1)[:, np.newaxis]\n",
    "        print(\"Normalized confusion matrix\")\n",
    "    else:\n",
    "        print('Confusion matrix, without normalization')\n",
    "    plt.imshow(cm, interpolation='nearest', cmap=cmap)\n",
    "    plt.title(title)\n",
    "    plt.colorbar()\n",
    "    tick_marks = np.arange(len(classes))\n",
    "    plt.xticks(tick_marks, classes, rotation=90)\n",
    "    plt.yticks(tick_marks, classes)\n",
    "    fmt = '.2f' if normalize else 'd'\n",
    "    thresh = cm.max() / 2.\n",
    "    for i, j in itertools.product(range(cm.shape[0]), range(cm.shape[1])):\n",
    "        plt.text(j, i, format(cm[i, j], fmt),\n",
    "                 horizontalalignment=\"center\",\n",
    "                 color=\"white\" if cm[i, j] > thresh else \"black\")\n",
    "    plt.tight_layout()\n",
    "    plt.ylabel('True label')\n",
    "    plt.xlabel('Predicted label')\n",
    "    \n"
   ]
  },
  {
   "cell_type": "markdown",
   "id": "9906f2e4",
   "metadata": {},
   "source": [
    "### OPTIMIZE FOR RMSE"
   ]
  },
  {
   "cell_type": "code",
   "execution_count": 37,
   "id": "12bb64e1",
   "metadata": {},
   "outputs": [
    {
     "data": {
      "text/html": [
       "<div>\n",
       "<style scoped>\n",
       "    .dataframe tbody tr th:only-of-type {\n",
       "        vertical-align: middle;\n",
       "    }\n",
       "\n",
       "    .dataframe tbody tr th {\n",
       "        vertical-align: top;\n",
       "    }\n",
       "\n",
       "    .dataframe thead th {\n",
       "        text-align: right;\n",
       "    }\n",
       "</style>\n",
       "<table border=\"1\" class=\"dataframe\">\n",
       "  <thead>\n",
       "    <tr style=\"text-align: right;\">\n",
       "      <th></th>\n",
       "      <th>liblinear</th>\n",
       "      <th>newton-cg</th>\n",
       "      <th>lbfgs</th>\n",
       "      <th>sag</th>\n",
       "      <th>saga</th>\n",
       "    </tr>\n",
       "    <tr>\n",
       "      <th>C</th>\n",
       "      <th></th>\n",
       "      <th></th>\n",
       "      <th></th>\n",
       "      <th></th>\n",
       "      <th></th>\n",
       "    </tr>\n",
       "  </thead>\n",
       "  <tbody>\n",
       "    <tr>\n",
       "      <th>0.0001</th>\n",
       "      <td>0.439124</td>\n",
       "      <td>0.438958</td>\n",
       "      <td>0.438958</td>\n",
       "      <td>0.438976</td>\n",
       "      <td>0.438976</td>\n",
       "    </tr>\n",
       "    <tr>\n",
       "      <th>0.0010</th>\n",
       "      <td>0.437796</td>\n",
       "      <td>0.437703</td>\n",
       "      <td>0.437703</td>\n",
       "      <td>0.437685</td>\n",
       "      <td>0.437685</td>\n",
       "    </tr>\n",
       "    <tr>\n",
       "      <th>0.0100</th>\n",
       "      <td>0.437814</td>\n",
       "      <td>0.437814</td>\n",
       "      <td>0.437814</td>\n",
       "      <td>0.437832</td>\n",
       "      <td>0.437814</td>\n",
       "    </tr>\n",
       "    <tr>\n",
       "      <th>0.1000</th>\n",
       "      <td>0.437869</td>\n",
       "      <td>0.437869</td>\n",
       "      <td>0.437869</td>\n",
       "      <td>0.437888</td>\n",
       "      <td>0.437869</td>\n",
       "    </tr>\n",
       "    <tr>\n",
       "      <th>1.0000</th>\n",
       "      <td>0.437869</td>\n",
       "      <td>0.437888</td>\n",
       "      <td>0.437888</td>\n",
       "      <td>0.437832</td>\n",
       "      <td>0.437888</td>\n",
       "    </tr>\n",
       "    <tr>\n",
       "      <th>10.0000</th>\n",
       "      <td>0.437869</td>\n",
       "      <td>0.437888</td>\n",
       "      <td>0.437888</td>\n",
       "      <td>0.437851</td>\n",
       "      <td>0.437888</td>\n",
       "    </tr>\n",
       "    <tr>\n",
       "      <th>100.0000</th>\n",
       "      <td>0.437869</td>\n",
       "      <td>0.437888</td>\n",
       "      <td>0.437888</td>\n",
       "      <td>0.437851</td>\n",
       "      <td>0.437888</td>\n",
       "    </tr>\n",
       "  </tbody>\n",
       "</table>\n",
       "</div>"
      ],
      "text/plain": [
       "          liblinear  newton-cg     lbfgs       sag      saga\n",
       "C                                                           \n",
       "0.0001     0.439124   0.438958  0.438958  0.438976  0.438976\n",
       "0.0010     0.437796   0.437703  0.437703  0.437685  0.437685\n",
       "0.0100     0.437814   0.437814  0.437814  0.437832  0.437814\n",
       "0.1000     0.437869   0.437869  0.437869  0.437888  0.437869\n",
       "1.0000     0.437869   0.437888  0.437888  0.437832  0.437888\n",
       "10.0000    0.437869   0.437888  0.437888  0.437851  0.437888\n",
       "100.0000   0.437869   0.437888  0.437888  0.437851  0.437888"
      ]
     },
     "execution_count": 37,
     "metadata": {},
     "output_type": "execute_result"
    }
   ],
   "source": [
    "# Encuentra los mejores hiperparámetros para logistic regression classifier\n",
    "#Logistic Regression soporta solo solvers en ['liblinear', 'newton-cg'<-93.44, 'lbfgs'<-91.8, 'sag'<-72.13, 'saga'<-72.13]\n",
    "\n",
    "solvers = ['liblinear', 'newton-cg', 'lbfgs', 'sag', 'saga']\n",
    "cs = [0.0001, 0.001, 0.01, 0.1, 1, 10, 100]\n",
    "results_df = pd.DataFrame(index=cs)\n",
    "results_df.index.name='C'\n",
    "for s in solvers:\n",
    "    results = []\n",
    "    for c in cs:\n",
    "        LR = LogisticRegression(C=c, solver=s, max_iter=4000, random_state=42).fit(X_train,y_train)\n",
    "        y_pred = LR.predict(X_test)\n",
    "        mse = mean_squared_error(y_test, y_pred)\n",
    "        rmse_lr = mean_squared_error(y_test, y_pred)**0.5\n",
    "        results.append(rmse_lr)\n",
    "    results_df[s] = results\n",
    "results_df"
   ]
  },
  {
   "cell_type": "code",
   "execution_count": 28,
   "id": "04e46281",
   "metadata": {},
   "outputs": [
    {
     "name": "stdout",
     "output_type": "stream",
     "text": [
      "Confusion matrix, without normalization\n"
     ]
    },
    {
     "data": {
      "image/png": "[encoded data removed]",
      "text/plain": [
       "<Figure size 432x288 with 2 Axes>"
      ]
     },
     "metadata": {
      "needs_background": "light"
     },
     "output_type": "display_data"
    }
   ],
   "source": [
    "import itertools\n",
    "\n",
    "\n",
    "# Ejecutamos logistic regression classifier y mostramos resultados\n",
    "\n",
    "LR = LogisticRegression(C=0.0001, solver='newton-cg', random_state=42).fit(X_train,y_train)\n",
    "y_pred = LR.predict(X_test)\n",
    "y_pred_train = LR.predict(X_train)\n",
    "\n",
    "\n",
    "LR_RMSE = mean_squared_error(y_test, y_pred)**0.5\n",
    "LR_RMSE_train = mean_squared_error(y_train, y_pred_train)**0.5\n",
    "\n",
    "LR_f_score = f1_score(y_test, y_pred, average='micro')\n",
    "LR_f_score_train = f1_score(y_train, y_pred_train, average='micro')\n",
    "\n",
    "LR_class_report = classification_report(y_test, y_pred)\n",
    "LR_class_report_train = classification_report(y_train, y_pred_train)\n",
    "\n",
    "LR_dict = classification_report(y_test, y_pred, output_dict=True)\n",
    "# Compute confusion matrix\n",
    "cnf_matrix = confusion_matrix(y_test, y_pred, labels=[1,0])\n",
    "np.set_printoptions(precision=2)\n",
    "# Plot non-normalized confusion matrix\n",
    "plt.figure()\n",
    "plot_confusion_matrix(cnf_matrix, classes=['RECUPERADOS', 'FALLECIDOS'],normalize=False,  title='LR Confusion matrix')"
   ]
  },
  {
   "cell_type": "code",
   "execution_count": 29,
   "id": "fe858cfd",
   "metadata": {},
   "outputs": [
    {
     "name": "stdout",
     "output_type": "stream",
     "text": [
      "Logistic Regression train RMSE: 0.4367\n",
      "Logistic Regression test RMSE: 0.439\n",
      "\n",
      "Logistic Regression TRAIN classification report:\n",
      "\n",
      "               precision    recall  f1-score   support\n",
      "\n",
      "           0       0.81      0.81      0.81    123511\n",
      "           1       0.81      0.81      0.81    123730\n",
      "\n",
      "    accuracy                           0.81    247241\n",
      "   macro avg       0.81      0.81      0.81    247241\n",
      "weighted avg       0.81      0.81      0.81    247241\n",
      "\n",
      "Logistic Regression TEST classification report:\n",
      "\n",
      "               precision    recall  f1-score   support\n",
      "\n",
      "           0       0.81      0.81      0.81     31015\n",
      "           1       0.81      0.81      0.81     30796\n",
      "\n",
      "    accuracy                           0.81     61811\n",
      "   macro avg       0.81      0.81      0.81     61811\n",
      "weighted avg       0.81      0.81      0.81     61811\n",
      "\n"
     ]
    }
   ],
   "source": [
    "\n",
    "print('Logistic Regression train RMSE:', round(LR_RMSE_train, 4))\n",
    "print('Logistic Regression test RMSE:', round(LR_RMSE, 4))\n",
    "\n",
    "print('\\nLogistic Regression TRAIN classification report:\\n\\n', LR_class_report_train)\n",
    "print('Logistic Regression TEST classification report:\\n\\n', LR_class_report)"
   ]
  },
  {
   "cell_type": "markdown",
   "id": "8c8c37d3",
   "metadata": {},
   "source": [
    "### OPTIMIZE FOR ACCURACY"
   ]
  },
  {
   "cell_type": "code",
   "execution_count": 31,
   "id": "3370c728",
   "metadata": {},
   "outputs": [
    {
     "data": {
      "text/html": [
       "<div>\n",
       "<style scoped>\n",
       "    .dataframe tbody tr th:only-of-type {\n",
       "        vertical-align: middle;\n",
       "    }\n",
       "\n",
       "    .dataframe tbody tr th {\n",
       "        vertical-align: top;\n",
       "    }\n",
       "\n",
       "    .dataframe thead th {\n",
       "        text-align: right;\n",
       "    }\n",
       "</style>\n",
       "<table border=\"1\" class=\"dataframe\">\n",
       "  <thead>\n",
       "    <tr style=\"text-align: right;\">\n",
       "      <th></th>\n",
       "      <th>newton-cg</th>\n",
       "      <th>lbfgs</th>\n",
       "      <th>liblinear</th>\n",
       "      <th>sag</th>\n",
       "      <th>saga</th>\n",
       "    </tr>\n",
       "    <tr>\n",
       "      <th>C</th>\n",
       "      <th></th>\n",
       "      <th></th>\n",
       "      <th></th>\n",
       "      <th></th>\n",
       "      <th></th>\n",
       "    </tr>\n",
       "  </thead>\n",
       "  <tbody>\n",
       "    <tr>\n",
       "      <th>0.0001</th>\n",
       "      <td>0.676042</td>\n",
       "      <td>0.676042</td>\n",
       "      <td>0.676042</td>\n",
       "      <td>0.676042</td>\n",
       "      <td>0.676042</td>\n",
       "    </tr>\n",
       "    <tr>\n",
       "      <th>0.0010</th>\n",
       "      <td>0.676042</td>\n",
       "      <td>0.676042</td>\n",
       "      <td>0.676042</td>\n",
       "      <td>0.676042</td>\n",
       "      <td>0.676042</td>\n",
       "    </tr>\n",
       "    <tr>\n",
       "      <th>0.0100</th>\n",
       "      <td>0.676042</td>\n",
       "      <td>0.676042</td>\n",
       "      <td>0.676042</td>\n",
       "      <td>0.676042</td>\n",
       "      <td>0.676042</td>\n",
       "    </tr>\n",
       "    <tr>\n",
       "      <th>0.1000</th>\n",
       "      <td>0.676042</td>\n",
       "      <td>0.676042</td>\n",
       "      <td>0.676042</td>\n",
       "      <td>0.676042</td>\n",
       "      <td>0.676042</td>\n",
       "    </tr>\n",
       "    <tr>\n",
       "      <th>1.0000</th>\n",
       "      <td>0.676042</td>\n",
       "      <td>0.676042</td>\n",
       "      <td>0.676042</td>\n",
       "      <td>0.676042</td>\n",
       "      <td>0.676042</td>\n",
       "    </tr>\n",
       "    <tr>\n",
       "      <th>10.0000</th>\n",
       "      <td>0.676042</td>\n",
       "      <td>0.676042</td>\n",
       "      <td>0.676042</td>\n",
       "      <td>0.676042</td>\n",
       "      <td>0.676042</td>\n",
       "    </tr>\n",
       "    <tr>\n",
       "      <th>100.0000</th>\n",
       "      <td>0.676042</td>\n",
       "      <td>0.676042</td>\n",
       "      <td>0.676042</td>\n",
       "      <td>0.676042</td>\n",
       "      <td>0.676042</td>\n",
       "    </tr>\n",
       "  </tbody>\n",
       "</table>\n",
       "</div>"
      ],
      "text/plain": [
       "          newton-cg     lbfgs  liblinear       sag      saga\n",
       "C                                                           \n",
       "0.0001     0.676042  0.676042   0.676042  0.676042  0.676042\n",
       "0.0010     0.676042  0.676042   0.676042  0.676042  0.676042\n",
       "0.0100     0.676042  0.676042   0.676042  0.676042  0.676042\n",
       "0.1000     0.676042  0.676042   0.676042  0.676042  0.676042\n",
       "1.0000     0.676042  0.676042   0.676042  0.676042  0.676042\n",
       "10.0000    0.676042  0.676042   0.676042  0.676042  0.676042\n",
       "100.0000   0.676042  0.676042   0.676042  0.676042  0.676042"
      ]
     },
     "execution_count": 31,
     "metadata": {},
     "output_type": "execute_result"
    }
   ],
   "source": [
    "solvers = ['liblinear', 'newton-cg', 'lbfgs', 'sag', 'saga']\n",
    "cs = [0.0001, 0.001, 0.01, 0.1, 1, 10, 100]\n",
    "results_df = pd.DataFrame(index=cs)\n",
    "results_df.index.name='C'\n",
    "for s in solvers:\n",
    "    results = []\n",
    "    for c in cs:\n",
    "        LR = LogisticRegression(C=c, solver=s, max_iter=4000, random_state=42).fit(X_train,y_train)\n",
    "        yhat = LR.predict(X_test)\n",
    "        j_score = jaccard_score(y_test, y_pred)\n",
    "        results.append(j_score)\n",
    "    results_df[s] = results\n",
    "results_df"
   ]
  },
  {
   "cell_type": "code",
   "execution_count": 35,
   "id": "c5cbb93d",
   "metadata": {},
   "outputs": [
    {
     "name": "stdout",
     "output_type": "stream",
     "text": [
      "Confusion matrix, without normalization\n"
     ]
    },
    {
     "data": {
      "image/png": "[encoded data removed]",
      "text/plain": [
       "<Figure size 432x288 with 2 Axes>"
      ]
     },
     "metadata": {
      "needs_background": "light"
     },
     "output_type": "display_data"
    }
   ],
   "source": [
    "import itertools\n",
    "\n",
    "\n",
    "# Ejecutamos logistic regression classifier y mostramos resultados\n",
    "\n",
    "LR = LogisticRegression(C=0.0001, solver='newton-cg', random_state=42).fit(X_train,y_train)\n",
    "y_pred = LR.predict(X_test)\n",
    "y_pred_train = LR.predict(X_train)\n",
    "\n",
    "LR_j_score = jaccard_score(y_test, y_pred)\n",
    "LR_j_score_train = jaccard_score(y_train, y_pred_train)\n",
    "\n",
    "LR_f_score = f1_score(y_test, y_pred, average='weighted')\n",
    "LR_f_score_train = f1_score(y_train, y_pred_train, average='weighted')\n",
    "\n",
    "LR_class_report = classification_report(y_test, y_pred)\n",
    "LR_class_report_train = classification_report(y_train, y_pred_train)\n",
    "\n",
    "LR_dict = classification_report(y_test, y_pred, output_dict=True)\n",
    "# Compute confusion matrix\n",
    "cnf_matrix = confusion_matrix(y_test, y_pred, labels=[1,0])\n",
    "np.set_printoptions(precision=2)\n",
    "# Plot non-normalized confusion matrix\n",
    "plt.figure()\n",
    "plot_confusion_matrix(cnf_matrix, classes=['RECUPERADOS','FALLECIDOS'],normalize=False,  title='LR Confusion matrix')"
   ]
  },
  {
   "cell_type": "code",
   "execution_count": 36,
   "id": "7b112ec0",
   "metadata": {},
   "outputs": [
    {
     "name": "stdout",
     "output_type": "stream",
     "text": [
      "Logistic Regression train jaccard score: 0.6798\n",
      "Logistic Regression test jaccard score: 0.676\n",
      "\n",
      "Logistic Regression train classification report:\n",
      "\n",
      "               precision    recall  f1-score   support\n",
      "\n",
      "           0       0.81      0.81      0.81    123511\n",
      "           1       0.81      0.81      0.81    123730\n",
      "\n",
      "    accuracy                           0.81    247241\n",
      "   macro avg       0.81      0.81      0.81    247241\n",
      "weighted avg       0.81      0.81      0.81    247241\n",
      "\n",
      "Logistic Regression test classification report:\n",
      "\n",
      "               precision    recall  f1-score   support\n",
      "\n",
      "           0       0.81      0.81      0.81     31015\n",
      "           1       0.81      0.81      0.81     30796\n",
      "\n",
      "    accuracy                           0.81     61811\n",
      "   macro avg       0.81      0.81      0.81     61811\n",
      "weighted avg       0.81      0.81      0.81     61811\n",
      "\n"
     ]
    }
   ],
   "source": [
    "print('Logistic Regression train jaccard score:', round(LR_j_score_train, 4))\n",
    "print('Logistic Regression test jaccard score:', round(LR_j_score, 4))\n",
    "\n",
    "print('\\nLogistic Regression train classification report:\\n\\n', LR_class_report_train)\n",
    "print('Logistic Regression test classification report:\\n\\n', LR_class_report)"
   ]
  },
  {
   "cell_type": "markdown",
   "id": "aca3be14",
   "metadata": {},
   "source": [
    "## Decision Tree Classifier"
   ]
  },
  {
   "cell_type": "markdown",
   "id": "2efb4bc0",
   "metadata": {},
   "source": [
    "### OPTIMIZE FOR RMSE"
   ]
  },
  {
   "cell_type": "code",
   "execution_count": 40,
   "id": "2c41ae98",
   "metadata": {},
   "outputs": [
    {
     "data": {
      "image/png": "[encoded data removed]",
      "text/plain": [
       "<Figure size 432x288 with 1 Axes>"
      ]
     },
     "metadata": {
      "needs_background": "light"
     },
     "output_type": "display_data"
    },
    {
     "name": "stdout",
     "output_type": "stream",
     "text": [
      "The best RMSE is 0.3803 with depth= 29\n"
     ]
    }
   ],
   "source": [
    "# Encuentra los mejores hiperparámetros para el decision tree classifier\n",
    "\n",
    "#Usamos Cross Validation para encontrar la profundidad que de la precisión óptima\n",
    "\n",
    "depth = 30 # 30\n",
    "mean_sqe = np.zeros((depth-1))\n",
    "for n in range(1,depth): \n",
    "    DT = DecisionTreeClassifier(criterion=\"entropy\", max_depth = n, random_state=42).fit(X_train,y_train)\n",
    "    y_pred=DT.predict(X_test)\n",
    "    \n",
    "    mean_sqe[n-1] = mean_squared_error(y_test, y_pred)**0.5\n",
    "plt.plot(range(1,depth),mean_sqe,'g')\n",
    "plt.ylabel('RMSE')\n",
    "plt.xlabel('Depth')\n",
    "plt.show()\n",
    "print(\"The best RMSE is\", round(mean_sqe.min(), 4), \"with depth=\", mean_sqe.argmin()+1)"
   ]
  },
  {
   "cell_type": "code",
   "execution_count": 43,
   "id": "afbe20f4",
   "metadata": {},
   "outputs": [
    {
     "name": "stdout",
     "output_type": "stream",
     "text": [
      "Confusion matrix, without normalization\n"
     ]
    },
    {
     "data": {
      "image/png": "[encoded data removed]",
      "text/plain": [
       "<Figure size 432x288 with 2 Axes>"
      ]
     },
     "metadata": {
      "needs_background": "light"
     },
     "output_type": "display_data"
    }
   ],
   "source": [
    "DT = DecisionTreeClassifier(criterion=\"entropy\", max_depth = 29, random_state=42).fit(X_train, y_train)\n",
    "y_pred = LR.predict(X_test)\n",
    "y_pred_train = LR.predict(X_train)\n",
    "\n",
    "\n",
    "LR_RMSE = mean_squared_error(y_test, y_pred)**0.5\n",
    "LR_RMSE_train = mean_squared_error(y_train, y_pred_train)**0.5\n",
    "\n",
    "LR_f_score = f1_score(y_test, y_pred, average='macro')\n",
    "LR_f_score_train = f1_score(y_train, y_pred_train, average='macro')\n",
    "\n",
    "LR_class_report = classification_report(y_test, y_pred)\n",
    "LR_class_report_train = classification_report(y_train, y_pred_train)\n",
    "\n",
    "LR_dict = classification_report(y_test, yhat, output_dict=True)\n",
    "# Compute confusion matrix\n",
    "cnf_matrix = confusion_matrix(y_test, y_pred, labels=[1,0])\n",
    "np.set_printoptions(precision=2)\n",
    "# Plot non-normalized confusion matrix\n",
    "plt.figure()\n",
    "plot_confusion_matrix(cnf_matrix, classes=['RECUPERADOS', 'FALLECIDOS'],normalize=False,  title='LR Confusion matrix')"
   ]
  },
  {
   "cell_type": "code",
   "execution_count": 44,
   "id": "2a9cc0f4",
   "metadata": {},
   "outputs": [
    {
     "name": "stdout",
     "output_type": "stream",
     "text": [
      "Logistic Regression train RMSE: 0.436\n",
      "Logistic Regression test RMSE: 0.4379\n",
      "\n",
      "Logistic Regression TRAIN classification report:\n",
      "\n",
      "               precision    recall  f1-score   support\n",
      "\n",
      "           0       0.81      0.81      0.81    123511\n",
      "           1       0.81      0.81      0.81    123730\n",
      "\n",
      "    accuracy                           0.81    247241\n",
      "   macro avg       0.81      0.81      0.81    247241\n",
      "weighted avg       0.81      0.81      0.81    247241\n",
      "\n",
      "Logistic Regression TEST classification report:\n",
      "\n",
      "               precision    recall  f1-score   support\n",
      "\n",
      "           0       0.81      0.81      0.81     31015\n",
      "           1       0.81      0.81      0.81     30796\n",
      "\n",
      "    accuracy                           0.81     61811\n",
      "   macro avg       0.81      0.81      0.81     61811\n",
      "weighted avg       0.81      0.81      0.81     61811\n",
      "\n"
     ]
    }
   ],
   "source": [
    "\n",
    "print('Logistic Regression train RMSE:', round(LR_RMSE_train, 4))\n",
    "print('Logistic Regression test RMSE:', round(LR_RMSE, 4))\n",
    "\n",
    "print('\\nLogistic Regression TRAIN classification report:\\n\\n', LR_class_report_train)\n",
    "print('Logistic Regression TEST classification report:\\n\\n', LR_class_report)"
   ]
  },
  {
   "cell_type": "code",
   "execution_count": null,
   "id": "b2a30aea",
   "metadata": {},
   "outputs": [],
   "source": [
    "# import graphviz\n",
    "# import numpy as np\n",
    "# from sklearn.tree import DecisionTreeClassifier\n",
    "# from sklearn import tree\n",
    "# from sklearn.model_selection import train_test_split\n",
    "# from pandas import DataFrame, Series\n",
    "# from IPython.display import Image \n",
    "# from io import StringIO\n",
    "# import pydotplus\n",
    "# from sklearn import preprocessing\n",
    "# from sklearn.tree import export_graphviz"
   ]
  },
  {
   "cell_type": "code",
   "execution_count": null,
   "id": "2ddb568f",
   "metadata": {},
   "outputs": [],
   "source": [
    "# DecsTree = DecisionTreeClassifier(criterion='entropy', max_depth=7)\n",
    "# DecsTree.fit(X,y)\n",
    "# dot_data = StringIO()\n",
    "# fn=['sexo','diabetes', 'epoc', 'asma', 'inmunosupresivo','hipertension', 'vihsida', 'otra_condicion', 'enfermedad_cardiaca','obesidad', 'insuficiencia_renal_cronica', 'tabaquismo','edad']\n",
    "# cn=['Fallecidos','Recuperados']\n",
    "\n",
    "\n",
    "# export_graphviz(DecsTree, out_file=dot_data,\n",
    "#                 filled=True, rounded=True,\n",
    "#                 special_characters=True, feature_names = fn, class_names=cn)\n",
    "        \n",
    "# graph = pydotplus.graph_from_dot_data(dot_data.getvalue())\n",
    "# graph.set_size('\"300,180!\"')\n",
    "# graph.write_png('Decision Tree graph.jpg')\n",
    "# Image(graph.create_png())"
   ]
  },
  {
   "cell_type": "markdown",
   "id": "756969fb",
   "metadata": {},
   "source": [
    "### OPTIMIZE FOR ACCURACY"
   ]
  },
  {
   "cell_type": "code",
   "execution_count": 46,
   "id": "406d4499",
   "metadata": {},
   "outputs": [
    {
     "data": {
      "image/png": "[encoded data removed]",
      "text/plain": [
       "<Figure size 432x288 with 1 Axes>"
      ]
     },
     "metadata": {
      "needs_background": "light"
     },
     "output_type": "display_data"
    },
    {
     "name": "stdout",
     "output_type": "stream",
     "text": [
      "The best accuracy is 0.8553 with depth= 29\n"
     ]
    }
   ],
   "source": [
    "depth = 30 #30\n",
    "mean_acc = np.zeros((depth-1))\n",
    "for n in range(1,depth): \n",
    "    DT = DecisionTreeClassifier(criterion=\"entropy\", max_depth = n, random_state=42).fit(X_train,y_train)\n",
    "    y_pred=DT.predict(X_test)\n",
    "    mean_acc[n-1] = metrics.accuracy_score(y_test, y_pred)\n",
    "plt.plot(range(1,depth),mean_acc,'g')\n",
    "plt.ylabel('Accuracy')\n",
    "plt.xlabel('Depth')\n",
    "plt.show()\n",
    "print(\"The best accuracy is\", round(mean_acc.max(), 4), \"with depth=\", mean_acc.argmax()+1)"
   ]
  },
  {
   "cell_type": "code",
   "execution_count": 47,
   "id": "be89a96a",
   "metadata": {},
   "outputs": [
    {
     "name": "stdout",
     "output_type": "stream",
     "text": [
      "Confusion matrix, without normalization\n"
     ]
    },
    {
     "data": {
      "image/png": "[encoded data removed]",
      "text/plain": [
       "<Figure size 432x288 with 2 Axes>"
      ]
     },
     "metadata": {
      "needs_background": "light"
     },
     "output_type": "display_data"
    }
   ],
   "source": [
    "# rejecuta el decision tree classifier y muestra los resultados\n",
    "\n",
    "DT = DecisionTreeClassifier(criterion=\"entropy\", max_depth = 29, random_state=42).fit(X_train, y_train)\n",
    "y_pred = DT.predict(X_test)\n",
    "y_pred_train = DT.predict(X_train)\n",
    "\n",
    "\n",
    "DT_j_score = jaccard_score(y_test, y_pred)\n",
    "DT_j_score_train = jaccard_score(y_train, y_pred_train)\n",
    "\n",
    "DT_f_score = f1_score(y_test, y_pred, average='weighted')\n",
    "DT_f_score_train = f1_score(y_train, y_pred_train, average='weighted')\n",
    "\n",
    "DT_class_report = classification_report(y_test, y_pred)\n",
    "DT_class_report_train = classification_report(y_train, y_pred_train)\n",
    "\n",
    "DT_dict = classification_report(y_test, y_pred, output_dict=True)\n",
    "DT_dict_train = classification_report(y_train, y_pred_train, output_dict=True)\n",
    "\n",
    "# Compute confusion matrix\n",
    "cnf_matrix = confusion_matrix(y_test, y_pred, labels=[1,0])\n",
    "np.set_printoptions(precision=2)\n",
    "# Plot non-normalized confusion matrix\n",
    "plt.figure()\n",
    "plot_confusion_matrix(cnf_matrix, classes=['RECUPERADOS','FALLECIDOS'],normalize=False,  title='DT Confusion matrix')"
   ]
  },
  {
   "cell_type": "code",
   "execution_count": 49,
   "id": "8d9ebf96",
   "metadata": {},
   "outputs": [
    {
     "name": "stdout",
     "output_type": "stream",
     "text": [
      "Decision Tree TRAIN jaccard score: 0.82 \n",
      "Decision Tree TEST jaccard score: 0.74\n",
      "\n",
      "Decision Tree TRAIN classification report:\n",
      "\n",
      "               precision    recall  f1-score   support\n",
      "\n",
      "           0       0.89      0.93      0.91    123511\n",
      "           1       0.92      0.88      0.90    123730\n",
      "\n",
      "    accuracy                           0.90    247241\n",
      "   macro avg       0.90      0.90      0.90    247241\n",
      "weighted avg       0.90      0.90      0.90    247241\n",
      "\n",
      "\n",
      "Decision Tree TEST classification report:\n",
      "\n",
      "               precision    recall  f1-score   support\n",
      "\n",
      "           0       0.83      0.90      0.86     31015\n",
      "           1       0.89      0.81      0.85     30796\n",
      "\n",
      "    accuracy                           0.86     61811\n",
      "   macro avg       0.86      0.86      0.86     61811\n",
      "weighted avg       0.86      0.86      0.86     61811\n",
      "\n"
     ]
    }
   ],
   "source": [
    "print('Decision Tree TRAIN jaccard score:', round(DT_j_score_train, 2),\n",
    "      '\\nDecision Tree TEST jaccard score:', round(DT_j_score, 2))\n",
    "\n",
    "print('\\nDecision Tree TRAIN classification report:\\n\\n', DT_class_report_train)\n",
    "print('\\nDecision Tree TEST classification report:\\n\\n', DT_class_report)"
   ]
  },
  {
   "cell_type": "markdown",
   "id": "0069529b",
   "metadata": {},
   "source": [
    "## Random Forest Classifier"
   ]
  },
  {
   "cell_type": "markdown",
   "id": "55c69a06",
   "metadata": {},
   "source": [
    "### OPTIMIZE FOR RMSE"
   ]
  },
  {
   "cell_type": "code",
   "execution_count": 56,
   "id": "9836a60a",
   "metadata": {},
   "outputs": [],
   "source": [
    "n_estimators = [100, 300, 500, 800]\n",
    "max_depth = [5, 8, 15, 25, 30]\n",
    "min_samples_split = [10, 15, 100]\n",
    "min_samples_leaf = [1, 2, 5, 10]"
   ]
  },
  {
   "cell_type": "code",
   "execution_count": 64,
   "id": "ed3a56ed",
   "metadata": {},
   "outputs": [],
   "source": [
    "gs = GridSearchCV(\n",
    "    estimator = RandomForestClassifier(), \n",
    "    param_grid = {\n",
    "          \"n_estimators\" : n_estimators,\n",
    "          \"max_depth\" : max_depth,\n",
    "          \"min_samples_split\" : min_samples_split,\n",
    "          \"min_samples_leaf\" : min_samples_leaf,\n",
    "          },\n",
    "          cv=5,\n",
    "          verbose=3,\n",
    "          scoring = \"neg_root_mean_squared_error\",\n",
    "          return_train_score = True\n",
    ")"
   ]
  },
  {
   "cell_type": "code",
   "execution_count": null,
   "id": "cc914bad",
   "metadata": {},
   "outputs": [
    {
     "name": "stdout",
     "output_type": "stream",
     "text": [
      "Fitting 5 folds for each of 240 candidates, totalling 1200 fits\n",
      "[CV 1/5] END max_depth=5, min_samples_leaf=1, min_samples_split=10, n_estimators=100;, score=(train=-0.448, test=-0.446) total time=   8.9s\n",
      "[CV 2/5] END max_depth=5, min_samples_leaf=1, min_samples_split=10, n_estimators=100;, score=(train=-0.447, test=-0.448) total time=   8.1s\n",
      "[CV 3/5] END max_depth=5, min_samples_leaf=1, min_samples_split=10, n_estimators=100;, score=(train=-0.447, test=-0.448) total time=   8.5s\n",
      "[CV 4/5] END max_depth=5, min_samples_leaf=1, min_samples_split=10, n_estimators=100;, score=(train=-0.447, test=-0.448) total time=   8.5s\n",
      "[CV 5/5] END max_depth=5, min_samples_leaf=1, min_samples_split=10, n_estimators=100;, score=(train=-0.443, test=-0.443) total time=   8.2s\n",
      "[CV 1/5] END max_depth=5, min_samples_leaf=1, min_samples_split=10, n_estimators=300;, score=(train=-0.447, test=-0.446) total time=  24.6s\n",
      "[CV 2/5] END max_depth=5, min_samples_leaf=1, min_samples_split=10, n_estimators=300;, score=(train=-0.446, test=-0.447) total time=  24.1s\n",
      "[CV 3/5] END max_depth=5, min_samples_leaf=1, min_samples_split=10, n_estimators=300;, score=(train=-0.447, test=-0.449) total time=  24.3s\n",
      "[CV 4/5] END max_depth=5, min_samples_leaf=1, min_samples_split=10, n_estimators=300;, score=(train=-0.445, test=-0.445) total time=  24.7s\n",
      "[CV 5/5] END max_depth=5, min_samples_leaf=1, min_samples_split=10, n_estimators=300;, score=(train=-0.445, test=-0.445) total time=  24.7s\n",
      "[CV 1/5] END max_depth=5, min_samples_leaf=1, min_samples_split=10, n_estimators=500;, score=(train=-0.447, test=-0.446) total time=  40.4s\n",
      "[CV 2/5] END max_depth=5, min_samples_leaf=1, min_samples_split=10, n_estimators=500;, score=(train=-0.445, test=-0.447) total time=  40.0s\n",
      "[CV 3/5] END max_depth=5, min_samples_leaf=1, min_samples_split=10, n_estimators=500;, score=(train=-0.444, test=-0.447) total time=  39.7s\n",
      "[CV 4/5] END max_depth=5, min_samples_leaf=1, min_samples_split=10, n_estimators=500;, score=(train=-0.444, test=-0.444) total time=  40.4s\n",
      "[CV 5/5] END max_depth=5, min_samples_leaf=1, min_samples_split=10, n_estimators=500;, score=(train=-0.445, test=-0.444) total time=  42.2s\n",
      "[CV 1/5] END max_depth=5, min_samples_leaf=1, min_samples_split=10, n_estimators=800;, score=(train=-0.445, test=-0.444) total time= 1.1min\n",
      "[CV 2/5] END max_depth=5, min_samples_leaf=1, min_samples_split=10, n_estimators=800;, score=(train=-0.445, test=-0.447) total time= 1.1min\n",
      "[CV 3/5] END max_depth=5, min_samples_leaf=1, min_samples_split=10, n_estimators=800;, score=(train=-0.444, test=-0.447) total time= 1.1min\n",
      "[CV 4/5] END max_depth=5, min_samples_leaf=1, min_samples_split=10, n_estimators=800;, score=(train=-0.445, test=-0.445) total time= 1.1min\n",
      "[CV 5/5] END max_depth=5, min_samples_leaf=1, min_samples_split=10, n_estimators=800;, score=(train=-0.446, test=-0.446) total time= 1.1min\n",
      "[CV 1/5] END max_depth=5, min_samples_leaf=1, min_samples_split=15, n_estimators=100;, score=(train=-0.447, test=-0.447) total time=   8.2s\n",
      "[CV 2/5] END max_depth=5, min_samples_leaf=1, min_samples_split=15, n_estimators=100;, score=(train=-0.444, test=-0.445) total time=   8.4s\n",
      "[CV 3/5] END max_depth=5, min_samples_leaf=1, min_samples_split=15, n_estimators=100;, score=(train=-0.444, test=-0.446) total time=   8.4s\n",
      "[CV 4/5] END max_depth=5, min_samples_leaf=1, min_samples_split=15, n_estimators=100;, score=(train=-0.446, test=-0.446) total time=   9.2s\n",
      "[CV 5/5] END max_depth=5, min_samples_leaf=1, min_samples_split=15, n_estimators=100;, score=(train=-0.448, test=-0.448) total time=   8.7s\n",
      "[CV 1/5] END max_depth=5, min_samples_leaf=1, min_samples_split=15, n_estimators=300;, score=(train=-0.447, test=-0.445) total time=  26.9s\n",
      "[CV 2/5] END max_depth=5, min_samples_leaf=1, min_samples_split=15, n_estimators=300;, score=(train=-0.445, test=-0.446) total time=  26.1s\n",
      "[CV 3/5] END max_depth=5, min_samples_leaf=1, min_samples_split=15, n_estimators=300;, score=(train=-0.445, test=-0.447) total time=  25.2s\n",
      "[CV 4/5] END max_depth=5, min_samples_leaf=1, min_samples_split=15, n_estimators=300;, score=(train=-0.445, test=-0.445) total time=  24.7s\n",
      "[CV 5/5] END max_depth=5, min_samples_leaf=1, min_samples_split=15, n_estimators=300;, score=(train=-0.447, test=-0.445) total time=  25.5s\n",
      "[CV 1/5] END max_depth=5, min_samples_leaf=1, min_samples_split=15, n_estimators=500;, score=(train=-0.445, test=-0.445) total time=  43.0s\n",
      "[CV 2/5] END max_depth=5, min_samples_leaf=1, min_samples_split=15, n_estimators=500;, score=(train=-0.444, test=-0.446) total time=  41.5s\n",
      "[CV 3/5] END max_depth=5, min_samples_leaf=1, min_samples_split=15, n_estimators=500;, score=(train=-0.445, test=-0.447) total time=  42.0s\n",
      "[CV 4/5] END max_depth=5, min_samples_leaf=1, min_samples_split=15, n_estimators=500;, score=(train=-0.446, test=-0.446) total time=  41.3s\n",
      "[CV 5/5] END max_depth=5, min_samples_leaf=1, min_samples_split=15, n_estimators=500;, score=(train=-0.446, test=-0.446) total time=  41.7s\n",
      "[CV 1/5] END max_depth=5, min_samples_leaf=1, min_samples_split=15, n_estimators=800;, score=(train=-0.447, test=-0.446) total time= 1.2min\n",
      "[CV 2/5] END max_depth=5, min_samples_leaf=1, min_samples_split=15, n_estimators=800;, score=(train=-0.446, test=-0.447) total time= 1.2min\n",
      "[CV 3/5] END max_depth=5, min_samples_leaf=1, min_samples_split=15, n_estimators=800;, score=(train=-0.445, test=-0.447) total time= 1.2min\n",
      "[CV 4/5] END max_depth=5, min_samples_leaf=1, min_samples_split=15, n_estimators=800;, score=(train=-0.445, test=-0.445) total time= 1.2min\n",
      "[CV 5/5] END max_depth=5, min_samples_leaf=1, min_samples_split=15, n_estimators=800;, score=(train=-0.445, test=-0.444) total time= 1.2min\n",
      "[CV 1/5] END max_depth=5, min_samples_leaf=1, min_samples_split=100, n_estimators=100;, score=(train=-0.445, test=-0.445) total time=   9.0s\n",
      "[CV 2/5] END max_depth=5, min_samples_leaf=1, min_samples_split=100, n_estimators=100;, score=(train=-0.445, test=-0.446) total time=   9.2s\n",
      "[CV 3/5] END max_depth=5, min_samples_leaf=1, min_samples_split=100, n_estimators=100;, score=(train=-0.445, test=-0.447) total time=   8.2s\n",
      "[CV 4/5] END max_depth=5, min_samples_leaf=1, min_samples_split=100, n_estimators=100;, score=(train=-0.447, test=-0.446) total time=   8.5s\n",
      "[CV 5/5] END max_depth=5, min_samples_leaf=1, min_samples_split=100, n_estimators=100;, score=(train=-0.446, test=-0.445) total time=   8.5s\n",
      "[CV 1/5] END max_depth=5, min_samples_leaf=1, min_samples_split=100, n_estimators=300;, score=(train=-0.448, test=-0.447) total time=  27.3s\n",
      "[CV 2/5] END max_depth=5, min_samples_leaf=1, min_samples_split=100, n_estimators=300;, score=(train=-0.445, test=-0.446) total time=  26.6s\n",
      "[CV 3/5] END max_depth=5, min_samples_leaf=1, min_samples_split=100, n_estimators=300;, score=(train=-0.446, test=-0.447) total time=  25.2s\n",
      "[CV 4/5] END max_depth=5, min_samples_leaf=1, min_samples_split=100, n_estimators=300;, score=(train=-0.446, test=-0.445) total time=  26.4s\n",
      "[CV 5/5] END max_depth=5, min_samples_leaf=1, min_samples_split=100, n_estimators=300;, score=(train=-0.445, test=-0.444) total time=  24.6s\n",
      "[CV 1/5] END max_depth=5, min_samples_leaf=1, min_samples_split=100, n_estimators=500;, score=(train=-0.446, test=-0.445) total time=  42.1s\n",
      "[CV 2/5] END max_depth=5, min_samples_leaf=1, min_samples_split=100, n_estimators=500;, score=(train=-0.446, test=-0.446) total time=  40.5s\n",
      "[CV 3/5] END max_depth=5, min_samples_leaf=1, min_samples_split=100, n_estimators=500;, score=(train=-0.445, test=-0.446) total time=  40.8s\n",
      "[CV 4/5] END max_depth=5, min_samples_leaf=1, min_samples_split=100, n_estimators=500;, score=(train=-0.447, test=-0.446) total time=  40.8s\n",
      "[CV 5/5] END max_depth=5, min_samples_leaf=1, min_samples_split=100, n_estimators=500;, score=(train=-0.445, test=-0.444) total time=  41.5s\n",
      "[CV 1/5] END max_depth=5, min_samples_leaf=1, min_samples_split=100, n_estimators=800;, score=(train=-0.445, test=-0.445) total time= 1.1min\n",
      "[CV 2/5] END max_depth=5, min_samples_leaf=1, min_samples_split=100, n_estimators=800;, score=(train=-0.444, test=-0.446) total time= 1.1min\n",
      "[CV 3/5] END max_depth=5, min_samples_leaf=1, min_samples_split=100, n_estimators=800;, score=(train=-0.445, test=-0.448) total time= 1.2min\n"
     ]
    },
    {
     "name": "stdout",
     "output_type": "stream",
     "text": [
      "[CV 4/5] END max_depth=5, min_samples_leaf=1, min_samples_split=100, n_estimators=800;, score=(train=-0.446, test=-0.446) total time= 1.2min\n",
      "[CV 5/5] END max_depth=5, min_samples_leaf=1, min_samples_split=100, n_estimators=800;, score=(train=-0.445, test=-0.445) total time= 1.3min\n",
      "[CV 1/5] END max_depth=5, min_samples_leaf=2, min_samples_split=10, n_estimators=100;, score=(train=-0.446, test=-0.445) total time=   8.9s\n",
      "[CV 2/5] END max_depth=5, min_samples_leaf=2, min_samples_split=10, n_estimators=100;, score=(train=-0.444, test=-0.446) total time=   9.0s\n",
      "[CV 3/5] END max_depth=5, min_samples_leaf=2, min_samples_split=10, n_estimators=100;, score=(train=-0.445, test=-0.448) total time=   8.8s\n",
      "[CV 4/5] END max_depth=5, min_samples_leaf=2, min_samples_split=10, n_estimators=100;, score=(train=-0.447, test=-0.447) total time=   8.6s\n",
      "[CV 5/5] END max_depth=5, min_samples_leaf=2, min_samples_split=10, n_estimators=100;, score=(train=-0.449, test=-0.448) total time=   9.3s\n",
      "[CV 1/5] END max_depth=5, min_samples_leaf=2, min_samples_split=10, n_estimators=300;, score=(train=-0.445, test=-0.445) total time=  25.7s\n",
      "[CV 2/5] END max_depth=5, min_samples_leaf=2, min_samples_split=10, n_estimators=300;, score=(train=-0.446, test=-0.447) total time=  27.3s\n",
      "[CV 3/5] END max_depth=5, min_samples_leaf=2, min_samples_split=10, n_estimators=300;, score=(train=-0.446, test=-0.448) total time=  26.2s\n",
      "[CV 4/5] END max_depth=5, min_samples_leaf=2, min_samples_split=10, n_estimators=300;, score=(train=-0.445, test=-0.445) total time=  26.5s\n",
      "[CV 5/5] END max_depth=5, min_samples_leaf=2, min_samples_split=10, n_estimators=300;, score=(train=-0.448, test=-0.447) total time=  26.4s\n",
      "[CV 1/5] END max_depth=5, min_samples_leaf=2, min_samples_split=10, n_estimators=500;, score=(train=-0.445, test=-0.444) total time=  44.7s\n",
      "[CV 2/5] END max_depth=5, min_samples_leaf=2, min_samples_split=10, n_estimators=500;, score=(train=-0.446, test=-0.446) total time=  46.3s\n",
      "[CV 3/5] END max_depth=5, min_samples_leaf=2, min_samples_split=10, n_estimators=500;, score=(train=-0.445, test=-0.447) total time=  43.7s\n",
      "[CV 4/5] END max_depth=5, min_samples_leaf=2, min_samples_split=10, n_estimators=500;, score=(train=-0.446, test=-0.447) total time=  44.0s\n",
      "[CV 5/5] END max_depth=5, min_samples_leaf=2, min_samples_split=10, n_estimators=500;, score=(train=-0.446, test=-0.446) total time=  43.4s\n",
      "[CV 1/5] END max_depth=5, min_samples_leaf=2, min_samples_split=10, n_estimators=800;, score=(train=-0.445, test=-0.444) total time= 1.1min\n",
      "[CV 2/5] END max_depth=5, min_samples_leaf=2, min_samples_split=10, n_estimators=800;, score=(train=-0.446, test=-0.447) total time= 1.2min\n",
      "[CV 3/5] END max_depth=5, min_samples_leaf=2, min_samples_split=10, n_estimators=800;, score=(train=-0.445, test=-0.447) total time= 1.2min\n",
      "[CV 4/5] END max_depth=5, min_samples_leaf=2, min_samples_split=10, n_estimators=800;, score=(train=-0.446, test=-0.446) total time= 1.2min\n",
      "[CV 5/5] END max_depth=5, min_samples_leaf=2, min_samples_split=10, n_estimators=800;, score=(train=-0.446, test=-0.445) total time= 1.2min\n",
      "[CV 1/5] END max_depth=5, min_samples_leaf=2, min_samples_split=15, n_estimators=100;, score=(train=-0.448, test=-0.446) total time=   8.7s\n",
      "[CV 2/5] END max_depth=5, min_samples_leaf=2, min_samples_split=15, n_estimators=100;, score=(train=-0.443, test=-0.445) total time=   8.6s\n",
      "[CV 3/5] END max_depth=5, min_samples_leaf=2, min_samples_split=15, n_estimators=100;, score=(train=-0.444, test=-0.447) total time=   8.7s\n",
      "[CV 4/5] END max_depth=5, min_samples_leaf=2, min_samples_split=15, n_estimators=100;, score=(train=-0.447, test=-0.447) total time=   8.6s\n",
      "[CV 5/5] END max_depth=5, min_samples_leaf=2, min_samples_split=15, n_estimators=100;, score=(train=-0.447, test=-0.446) total time=   8.6s\n",
      "[CV 1/5] END max_depth=5, min_samples_leaf=2, min_samples_split=15, n_estimators=300;, score=(train=-0.446, test=-0.445) total time=  26.2s\n",
      "[CV 2/5] END max_depth=5, min_samples_leaf=2, min_samples_split=15, n_estimators=300;, score=(train=-0.444, test=-0.445) total time=  25.8s\n",
      "[CV 3/5] END max_depth=5, min_samples_leaf=2, min_samples_split=15, n_estimators=300;, score=(train=-0.445, test=-0.447) total time=  25.4s\n",
      "[CV 4/5] END max_depth=5, min_samples_leaf=2, min_samples_split=15, n_estimators=300;, score=(train=-0.444, test=-0.445) total time=  26.0s\n",
      "[CV 5/5] END max_depth=5, min_samples_leaf=2, min_samples_split=15, n_estimators=300;, score=(train=-0.446, test=-0.446) total time=  26.8s\n",
      "[CV 1/5] END max_depth=5, min_samples_leaf=2, min_samples_split=15, n_estimators=500;, score=(train=-0.447, test=-0.446) total time=  42.7s\n",
      "[CV 2/5] END max_depth=5, min_samples_leaf=2, min_samples_split=15, n_estimators=500;, score=(train=-0.445, test=-0.445) total time=  43.7s\n",
      "[CV 3/5] END max_depth=5, min_samples_leaf=2, min_samples_split=15, n_estimators=500;, score=(train=-0.444, test=-0.447) total time=  44.4s\n",
      "[CV 4/5] END max_depth=5, min_samples_leaf=2, min_samples_split=15, n_estimators=500;, score=(train=-0.445, test=-0.445) total time=  43.4s\n",
      "[CV 5/5] END max_depth=5, min_samples_leaf=2, min_samples_split=15, n_estimators=500;, score=(train=-0.445, test=-0.445) total time=  42.3s\n",
      "[CV 1/5] END max_depth=5, min_samples_leaf=2, min_samples_split=15, n_estimators=800;, score=(train=-0.446, test=-0.446) total time= 1.1min\n",
      "[CV 2/5] END max_depth=5, min_samples_leaf=2, min_samples_split=15, n_estimators=800;, score=(train=-0.445, test=-0.446) total time= 1.1min\n",
      "[CV 3/5] END max_depth=5, min_samples_leaf=2, min_samples_split=15, n_estimators=800;, score=(train=-0.445, test=-0.447) total time= 1.1min\n",
      "[CV 4/5] END max_depth=5, min_samples_leaf=2, min_samples_split=15, n_estimators=800;, score=(train=-0.445, test=-0.444) total time= 1.2min\n",
      "[CV 5/5] END max_depth=5, min_samples_leaf=2, min_samples_split=15, n_estimators=800;, score=(train=-0.446, test=-0.445) total time= 1.1min\n",
      "[CV 1/5] END max_depth=5, min_samples_leaf=2, min_samples_split=100, n_estimators=100;, score=(train=-0.448, test=-0.447) total time=   9.4s\n",
      "[CV 2/5] END max_depth=5, min_samples_leaf=2, min_samples_split=100, n_estimators=100;, score=(train=-0.445, test=-0.446) total time=   9.0s\n",
      "[CV 3/5] END max_depth=5, min_samples_leaf=2, min_samples_split=100, n_estimators=100;, score=(train=-0.446, test=-0.447) total time=   9.0s\n",
      "[CV 4/5] END max_depth=5, min_samples_leaf=2, min_samples_split=100, n_estimators=100;, score=(train=-0.446, test=-0.447) total time=   8.7s\n",
      "[CV 5/5] END max_depth=5, min_samples_leaf=2, min_samples_split=100, n_estimators=100;, score=(train=-0.448, test=-0.447) total time=   8.5s\n",
      "[CV 1/5] END max_depth=5, min_samples_leaf=2, min_samples_split=100, n_estimators=300;, score=(train=-0.446, test=-0.446) total time=  26.6s\n",
      "[CV 2/5] END max_depth=5, min_samples_leaf=2, min_samples_split=100, n_estimators=300;, score=(train=-0.446, test=-0.446) total time=  25.8s\n",
      "[CV 3/5] END max_depth=5, min_samples_leaf=2, min_samples_split=100, n_estimators=300;, score=(train=-0.445, test=-0.448) total time=  25.3s\n",
      "[CV 4/5] END max_depth=5, min_samples_leaf=2, min_samples_split=100, n_estimators=300;, score=(train=-0.447, test=-0.447) total time=  25.4s\n",
      "[CV 5/5] END max_depth=5, min_samples_leaf=2, min_samples_split=100, n_estimators=300;, score=(train=-0.448, test=-0.448) total time=  26.3s\n",
      "[CV 1/5] END max_depth=5, min_samples_leaf=2, min_samples_split=100, n_estimators=500;, score=(train=-0.446, test=-0.445) total time=  43.2s\n",
      "[CV 2/5] END max_depth=5, min_samples_leaf=2, min_samples_split=100, n_estimators=500;, score=(train=-0.447, test=-0.448) total time=  47.3s\n",
      "[CV 3/5] END max_depth=5, min_samples_leaf=2, min_samples_split=100, n_estimators=500;, score=(train=-0.446, test=-0.448) total time=  51.3s\n",
      "[CV 4/5] END max_depth=5, min_samples_leaf=2, min_samples_split=100, n_estimators=500;, score=(train=-0.445, test=-0.445) total time=  46.9s\n",
      "[CV 5/5] END max_depth=5, min_samples_leaf=2, min_samples_split=100, n_estimators=500;, score=(train=-0.446, test=-0.446) total time=  45.6s\n",
      "[CV 1/5] END max_depth=5, min_samples_leaf=2, min_samples_split=100, n_estimators=800;, score=(train=-0.447, test=-0.447) total time= 1.2min\n",
      "[CV 2/5] END max_depth=5, min_samples_leaf=2, min_samples_split=100, n_estimators=800;, score=(train=-0.444, test=-0.445) total time= 1.2min\n"
     ]
    },
    {
     "name": "stdout",
     "output_type": "stream",
     "text": [
      "[CV 3/5] END max_depth=5, min_samples_leaf=2, min_samples_split=100, n_estimators=800;, score=(train=-0.446, test=-0.448) total time= 1.3min\n",
      "[CV 4/5] END max_depth=5, min_samples_leaf=2, min_samples_split=100, n_estimators=800;, score=(train=-0.445, test=-0.445) total time= 1.3min\n",
      "[CV 5/5] END max_depth=5, min_samples_leaf=2, min_samples_split=100, n_estimators=800;, score=(train=-0.446, test=-0.445) total time= 1.3min\n",
      "[CV 1/5] END max_depth=5, min_samples_leaf=5, min_samples_split=10, n_estimators=100;, score=(train=-0.446, test=-0.446) total time=  10.1s\n",
      "[CV 2/5] END max_depth=5, min_samples_leaf=5, min_samples_split=10, n_estimators=100;, score=(train=-0.446, test=-0.446) total time=   9.8s\n",
      "[CV 3/5] END max_depth=5, min_samples_leaf=5, min_samples_split=10, n_estimators=100;, score=(train=-0.448, test=-0.449) total time=   9.5s\n",
      "[CV 4/5] END max_depth=5, min_samples_leaf=5, min_samples_split=10, n_estimators=100;, score=(train=-0.447, test=-0.446) total time=   9.5s\n",
      "[CV 5/5] END max_depth=5, min_samples_leaf=5, min_samples_split=10, n_estimators=100;, score=(train=-0.447, test=-0.447) total time=  10.2s\n",
      "[CV 1/5] END max_depth=5, min_samples_leaf=5, min_samples_split=10, n_estimators=300;, score=(train=-0.445, test=-0.444) total time=  28.9s\n",
      "[CV 2/5] END max_depth=5, min_samples_leaf=5, min_samples_split=10, n_estimators=300;, score=(train=-0.447, test=-0.448) total time=  28.7s\n",
      "[CV 3/5] END max_depth=5, min_samples_leaf=5, min_samples_split=10, n_estimators=300;, score=(train=-0.445, test=-0.447) total time=  29.0s\n",
      "[CV 4/5] END max_depth=5, min_samples_leaf=5, min_samples_split=10, n_estimators=300;, score=(train=-0.447, test=-0.447) total time=  27.7s\n",
      "[CV 5/5] END max_depth=5, min_samples_leaf=5, min_samples_split=10, n_estimators=300;, score=(train=-0.445, test=-0.444) total time=  29.2s\n",
      "[CV 1/5] END max_depth=5, min_samples_leaf=5, min_samples_split=10, n_estimators=500;, score=(train=-0.445, test=-0.446) total time=  50.3s\n",
      "[CV 2/5] END max_depth=5, min_samples_leaf=5, min_samples_split=10, n_estimators=500;, score=(train=-0.444, test=-0.446) total time=  50.0s\n",
      "[CV 3/5] END max_depth=5, min_samples_leaf=5, min_samples_split=10, n_estimators=500;, score=(train=-0.445, test=-0.447) total time=  49.4s\n",
      "[CV 4/5] END max_depth=5, min_samples_leaf=5, min_samples_split=10, n_estimators=500;, score=(train=-0.444, test=-0.444) total time=  47.0s\n",
      "[CV 5/5] END max_depth=5, min_samples_leaf=5, min_samples_split=10, n_estimators=500;, score=(train=-0.446, test=-0.445) total time=  48.3s\n",
      "[CV 1/5] END max_depth=5, min_samples_leaf=5, min_samples_split=10, n_estimators=800;, score=(train=-0.445, test=-0.445) total time= 1.3min\n",
      "[CV 2/5] END max_depth=5, min_samples_leaf=5, min_samples_split=10, n_estimators=800;, score=(train=-0.444, test=-0.445) total time= 1.3min\n",
      "[CV 3/5] END max_depth=5, min_samples_leaf=5, min_samples_split=10, n_estimators=800;, score=(train=-0.444, test=-0.446) total time= 1.3min\n",
      "[CV 4/5] END max_depth=5, min_samples_leaf=5, min_samples_split=10, n_estimators=800;, score=(train=-0.445, test=-0.445) total time= 1.3min\n",
      "[CV 5/5] END max_depth=5, min_samples_leaf=5, min_samples_split=10, n_estimators=800;, score=(train=-0.445, test=-0.444) total time= 1.6min\n",
      "[CV 1/5] END max_depth=5, min_samples_leaf=5, min_samples_split=15, n_estimators=100;, score=(train=-0.446, test=-0.446) total time=  11.3s\n",
      "[CV 2/5] END max_depth=5, min_samples_leaf=5, min_samples_split=15, n_estimators=100;, score=(train=-0.449, test=-0.450) total time=  13.1s\n",
      "[CV 3/5] END max_depth=5, min_samples_leaf=5, min_samples_split=15, n_estimators=100;, score=(train=-0.446, test=-0.449) total time=  11.6s\n",
      "[CV 4/5] END max_depth=5, min_samples_leaf=5, min_samples_split=15, n_estimators=100;, score=(train=-0.448, test=-0.448) total time=  11.8s\n",
      "[CV 5/5] END max_depth=5, min_samples_leaf=5, min_samples_split=15, n_estimators=100;, score=(train=-0.446, test=-0.446) total time=  12.2s\n",
      "[CV 1/5] END max_depth=5, min_samples_leaf=5, min_samples_split=15, n_estimators=300;, score=(train=-0.445, test=-0.443) total time=  34.4s\n",
      "[CV 2/5] END max_depth=5, min_samples_leaf=5, min_samples_split=15, n_estimators=300;, score=(train=-0.445, test=-0.446) total time=  37.3s\n",
      "[CV 3/5] END max_depth=5, min_samples_leaf=5, min_samples_split=15, n_estimators=300;, score=(train=-0.444, test=-0.445) total time=  34.2s\n",
      "[CV 4/5] END max_depth=5, min_samples_leaf=5, min_samples_split=15, n_estimators=300;, score=(train=-0.445, test=-0.444) total time=  31.7s\n",
      "[CV 5/5] END max_depth=5, min_samples_leaf=5, min_samples_split=15, n_estimators=300;, score=(train=-0.445, test=-0.444) total time=  32.9s\n"
     ]
    }
   ],
   "source": [
    "\n",
    "%%time\n",
    "gs.fit(X_train, y_train)"
   ]
  },
  {
   "cell_type": "code",
   "execution_count": null,
   "id": "6c152de3",
   "metadata": {},
   "outputs": [],
   "source": [
    "grid_search_results = pd.DataFrame(gs.cv_results_)"
   ]
  },
  {
   "cell_type": "markdown",
   "id": "f0b190f9",
   "metadata": {},
   "source": [
    "### OPTIMIZE FOR ACCURACY"
   ]
  },
  {
   "cell_type": "code",
   "execution_count": 53,
   "id": "a9362835",
   "metadata": {},
   "outputs": [
    {
     "data": {
      "image/png": "[encoded data removed]",
      "text/plain": [
       "<Figure size 432x288 with 1 Axes>"
      ]
     },
     "metadata": {
      "needs_background": "light"
     },
     "output_type": "display_data"
    },
    {
     "name": "stdout",
     "output_type": "stream",
     "text": [
      "The best accuracy is 0.8652 with n_estimators= 601\n"
     ]
    }
   ],
   "source": [
    "depth = 700\n",
    "mean_acc = np.zeros((depth-1))\n",
    "for n in range(1,depth,50): \n",
    "    RF = RandomForestClassifier(n_estimators = n, random_state = 42).fit(X_train,y_train)\n",
    "    y_pred = RF.predict(X_test)\n",
    "    mean_acc[n-1] = metrics.accuracy_score(y_test, y_pred)\n",
    "plt.plot(range(1,depth,50),mean_acc[::50],'g')\n",
    "plt.ylabel('Accuracy')\n",
    "plt.xlabel('n_estimators')\n",
    "plt.show()\n",
    "print( \"The best accuracy is\", round(mean_acc.max(), 4), \"with n_estimators=\", mean_acc.argmax()+1)"
   ]
  },
  {
   "cell_type": "markdown",
   "id": "db93fad7",
   "metadata": {},
   "source": [
    "## K-Nearest Neighbors (KNN) Classifier"
   ]
  },
  {
   "cell_type": "code",
   "execution_count": null,
   "id": "25153170",
   "metadata": {},
   "outputs": [],
   "source": [
    "# encontrar los mejores hiperparámetros para K-Nearest Neighbors (KNN) Classifier, solo k impar\n",
    "\n",
    "Ks = 38 #38\n",
    "mean_acc = np.zeros((Ks-1))\n",
    "std_acc = np.zeros((Ks-1))\n",
    "ConfustionMx = [];\n",
    "for n in range(1,Ks):\n",
    "    #Train Model and Predict  \n",
    "    KNN = KNeighborsClassifier(n_neighbors = n).fit(X_train,y_train)\n",
    "    yhat= KNN.predict(X_test)\n",
    "    mean_acc[n-1] = metrics.accuracy_score(y_test, yhat)\n",
    "    \n",
    "    std_acc[n-1]=np.std(yhat==y_test)/np.sqrt(yhat.shape[0])"
   ]
  },
  {
   "cell_type": "code",
   "execution_count": null,
   "id": "c8da6a68",
   "metadata": {},
   "outputs": [],
   "source": [
    "plt.plot(range(1,Ks),mean_acc,'g')\n",
    "plt.fill_between(range(1,Ks),mean_acc - 1 * std_acc,mean_acc + 1 * std_acc, alpha=0.10)\n",
    "plt.legend(('Accuracy ', '+/- 3xstd'))\n",
    "\n",
    "plt.ylabel('Accuracy')\n",
    "plt.xlabel('Number of Neighbors (K)')\n",
    "plt.show()\n",
    "print(\"The best accuracy was with\", round(mean_acc.max(), 4), \"with k=\", mean_acc.argmax()+1)"
   ]
  }
 ],
 "metadata": {
  "kernelspec": {
   "display_name": "Python 3 (ipykernel)",
   "language": "python",
   "name": "python3"
  },
  "language_info": {
   "codemirror_mode": {
    "name": "ipython",
    "version": 3
   },
   "file_extension": ".py",
   "mimetype": "text/x-python",
   "name": "python",
   "nbconvert_exporter": "python",
   "pygments_lexer": "ipython3",
   "version": "3.9.2"
  }
 },
 "nbformat": 4,
 "nbformat_minor": 5
}
